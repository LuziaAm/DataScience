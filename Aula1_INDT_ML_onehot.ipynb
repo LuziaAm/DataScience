{
  "nbformat": 4,
  "nbformat_minor": 0,
  "metadata": {
    "colab": {
      "name": "Projeto.ipynb",
      "provenance": [],
      "collapsed_sections": [],
      "mount_file_id": "1w9T5G6DXLRJO-DByql7d1vuRIN20gGjp",
      "authorship_tag": "ABX9TyPNRKWbhukmIGS48jIG0zWw",
      "include_colab_link": true
    },
    "kernelspec": {
      "display_name": "Python 3",
      "name": "python3"
    },
    "language_info": {
      "name": "python"
    }
  },
  "cells": [
    {
      "cell_type": "markdown",
      "metadata": {
        "id": "view-in-github",
        "colab_type": "text"
      },
      "source": [
        "<a href=\"https://colab.research.google.com/github/LuziaAm/DataScience/blob/main/Aula1_INDT_ML_onehot.ipynb\" target=\"_parent\"><img src=\"https://colab.research.google.com/assets/colab-badge.svg\" alt=\"Open In Colab\"/></a>"
      ]
    },
    {
      "cell_type": "code",
      "metadata": {
        "id": "NBGVhRoZRdoN"
      },
      "source": [
        "import pandas as pd"
      ],
      "execution_count": 1,
      "outputs": []
    },
    {
      "cell_type": "code",
      "metadata": {
        "id": "p3M6sCDXRp14"
      },
      "source": [
        "dados = pd.read_csv(\"/content/dados_normalizar.csv\")"
      ],
      "execution_count": 2,
      "outputs": []
    },
    {
      "cell_type": "code",
      "metadata": {
        "id": "OL2u1tbiSYwK"
      },
      "source": [
        "dados"
      ],
      "execution_count": null,
      "outputs": []
    }
  ]
}
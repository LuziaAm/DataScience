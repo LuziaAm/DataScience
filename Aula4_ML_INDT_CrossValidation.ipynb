{
  "nbformat": 4,
  "nbformat_minor": 0,
  "metadata": {
    "colab": {
      "name": "Projeto.ipynb",
      "provenance": [],
      "collapsed_sections": [],
      "mount_file_id": "1w9T5G6DXLRJO-DByql7d1vuRIN20gGjp",
      "authorship_tag": "ABX9TyNE1ZPV1KKlgg2UXFbSeUF/",
      "include_colab_link": true
    },
    "kernelspec": {
      "display_name": "Python 3",
      "name": "python3"
    },
    "language_info": {
      "name": "python"
    }
  },
  "cells": [
    {
      "cell_type": "markdown",
      "metadata": {
        "id": "view-in-github",
        "colab_type": "text"
      },
      "source": [
        "<a href=\"https://colab.research.google.com/github/LuziaAm/DataScience/blob/main/Aula4_ML_INDT_CrossValidation.ipynb\" target=\"_parent\"><img src=\"https://colab.research.google.com/assets/colab-badge.svg\" alt=\"Open In Colab\"/></a>"
      ]
    },
    {
      "cell_type": "code",
      "metadata": {
        "id": "xcd6ZeA0UkWv"
      },
      "source": [
        "#Aula3_ML_INDT_Supervisionado_Balanceamento.ipynb"
      ],
      "execution_count": 716,
      "outputs": []
    },
    {
      "cell_type": "code",
      "metadata": {
        "id": "Ye_nBAiQkr3Z"
      },
      "source": [
        "#Balancear dados\n",
        "#Auto: Luzia Amorim\n",
        "#15/07/21"
      ],
      "execution_count": 717,
      "outputs": []
    },
    {
      "cell_type": "code",
      "metadata": {
        "id": "boyvCTdyZKvt"
      },
      "source": [
        "import pandas as pd\n",
        "import numpy as np\n",
        "import matplotlib.pyplot as plt\n"
      ],
      "execution_count": 718,
      "outputs": []
    },
    {
      "cell_type": "code",
      "metadata": {
        "id": "0j4BJhRNgP98"
      },
      "source": [
        "dados = pd.read_csv('/content/fertility_Diagnosis.txt', ',')"
      ],
      "execution_count": 719,
      "outputs": []
    },
    {
      "cell_type": "code",
      "metadata": {
        "id": "MWOdrXQRgcl7"
      },
      "source": [
        "# Avaliar a frequencia original das classes"
      ],
      "execution_count": 720,
      "outputs": []
    },
    {
      "cell_type": "code",
      "metadata": {
        "colab": {
          "base_uri": "https://localhost:8080/"
        },
        "id": "8t_u9ZRdlKA2",
        "outputId": "d68a58db-9379-443c-8239-eb7983972d12"
      },
      "source": [
        "dados.Output.value_counts()"
      ],
      "execution_count": 721,
      "outputs": [
        {
          "output_type": "execute_result",
          "data": {
            "text/plain": [
              "N    88\n",
              "O    12\n",
              "Name: Output, dtype: int64"
            ]
          },
          "metadata": {
            "tags": []
          },
          "execution_count": 721
        }
      ]
    },
    {
      "cell_type": "code",
      "metadata": {
        "id": "j3JWF_oUmDTX"
      },
      "source": [
        "#Balancear os dados (em função da Classe)\n",
        "#Usando SMOTE"
      ],
      "execution_count": 722,
      "outputs": []
    },
    {
      "cell_type": "code",
      "metadata": {
        "id": "0p_2EvQmmKwl"
      },
      "source": [
        "from imblearn.over_sampling import SMOTE"
      ],
      "execution_count": 723,
      "outputs": []
    },
    {
      "cell_type": "code",
      "metadata": {
        "id": "Lp7n062kmfub"
      },
      "source": [
        "#Segmetar os dados em duas bases: Uma com os atributos e outra com as classes"
      ],
      "execution_count": 724,
      "outputs": []
    },
    {
      "cell_type": "code",
      "metadata": {
        "id": "82_HGyOvmzaq"
      },
      "source": [
        "dados_atributos=dados.drop(columns='Output')"
      ],
      "execution_count": 725,
      "outputs": []
    },
    {
      "cell_type": "code",
      "metadata": {
        "id": "ecim_9sgm-3c"
      },
      "source": [
        "dados_classe = dados['Output']"
      ],
      "execution_count": 726,
      "outputs": []
    },
    {
      "cell_type": "code",
      "metadata": {
        "id": "mN4jUvJbnFTp"
      },
      "source": [
        "#Construir um objeto a partir do SMOTE"
      ],
      "execution_count": 727,
      "outputs": []
    },
    {
      "cell_type": "code",
      "metadata": {
        "id": "J1RGtxkDnJQ2"
      },
      "source": [
        "balanceador = SMOTE()"
      ],
      "execution_count": 728,
      "outputs": []
    },
    {
      "cell_type": "code",
      "metadata": {
        "id": "o36RPlBUnQQZ"
      },
      "source": [
        "#Executar o balanceador"
      ],
      "execution_count": 729,
      "outputs": []
    },
    {
      "cell_type": "code",
      "metadata": {
        "colab": {
          "base_uri": "https://localhost:8080/"
        },
        "id": "7cOZQ0LYnSrn",
        "outputId": "dc5518df-85af-42e2-8a53-117949485110"
      },
      "source": [
        "dados_atributos_b,dados_classe_b = balanceador.fit_resample(\n",
        "    dados_atributos,dados_classe\n",
        ")"
      ],
      "execution_count": 730,
      "outputs": [
        {
          "output_type": "stream",
          "text": [
            "/usr/local/lib/python3.7/dist-packages/sklearn/utils/deprecation.py:87: FutureWarning: Function safe_indexing is deprecated; safe_indexing is deprecated in version 0.22 and will be removed in version 0.24.\n",
            "  warnings.warn(msg, category=FutureWarning)\n"
          ],
          "name": "stderr"
        }
      ]
    },
    {
      "cell_type": "code",
      "metadata": {
        "id": "KwjgrWdDpDtb"
      },
      "source": [
        "#dados_classe_b.value_counts() #não funcionou no colab"
      ],
      "execution_count": 731,
      "outputs": []
    },
    {
      "cell_type": "code",
      "metadata": {
        "id": "FSJZwpndox6v"
      },
      "source": [
        "from collections import Counter"
      ],
      "execution_count": 732,
      "outputs": []
    },
    {
      "cell_type": "code",
      "metadata": {
        "id": "ST_Tp7SMn2-3"
      },
      "source": [
        "#Visualizar os dados Balanceados"
      ],
      "execution_count": 733,
      "outputs": []
    },
    {
      "cell_type": "code",
      "metadata": {
        "id": "8YptKThmnrXB"
      },
      "source": [
        "contagem_classes = Counter(dados_classe_b)"
      ],
      "execution_count": 734,
      "outputs": []
    },
    {
      "cell_type": "code",
      "metadata": {
        "colab": {
          "base_uri": "https://localhost:8080/"
        },
        "id": "zmBZ-hsso_Ku",
        "outputId": "caa0446f-c2d7-4ea7-cf68-ace0b0c90fd8"
      },
      "source": [
        "contagem_classes"
      ],
      "execution_count": 735,
      "outputs": [
        {
          "output_type": "execute_result",
          "data": {
            "text/plain": [
              "Counter({'N': 88, 'O': 88})"
            ]
          },
          "metadata": {
            "tags": []
          },
          "execution_count": 735
        }
      ]
    },
    {
      "cell_type": "code",
      "metadata": {
        "id": "SqbU4aqWqWoD"
      },
      "source": [
        "#Recompor os dados"
      ],
      "execution_count": 736,
      "outputs": []
    },
    {
      "cell_type": "code",
      "metadata": {
        "id": "QI7-L8Wir7Pb"
      },
      "source": [
        "dados_atributos_b =  pd.DataFrame(dados_atributos_b, columns=['Season',\n",
        "                                                              'Age',\n",
        "                                                              'Childish_diseases',\n",
        "                                                              'Accident',\n",
        "                                                              'Surgical_intervention',\n",
        "                                                              'High_fevers',\n",
        "                                                              'alcohol_consumption',\n",
        "                                                              'Smoking',\n",
        "                                                              'hours_sitting'])"
      ],
      "execution_count": 737,
      "outputs": []
    },
    {
      "cell_type": "code",
      "metadata": {
        "id": "eESCctVltJK8"
      },
      "source": [
        "dados_classe_b =  pd.DataFrame(dados_classe_b, columns=['Output'])"
      ],
      "execution_count": 738,
      "outputs": []
    },
    {
      "cell_type": "code",
      "metadata": {
        "id": "-xxerhxZqaFi"
      },
      "source": [
        "dados = dados_atributos_b.join(dados_classe_b, how='left')"
      ],
      "execution_count": 739,
      "outputs": []
    },
    {
      "cell_type": "code",
      "metadata": {
        "colab": {
          "base_uri": "https://localhost:8080/",
          "height": 204
        },
        "id": "P0ZDtE2jqWdC",
        "outputId": "1b4ec578-ec19-495d-8efe-ed0e7c090fa1"
      },
      "source": [
        "dados.head() # FIM DO BALANCEAMENTO"
      ],
      "execution_count": 740,
      "outputs": [
        {
          "output_type": "execute_result",
          "data": {
            "text/html": [
              "<div>\n",
              "<style scoped>\n",
              "    .dataframe tbody tr th:only-of-type {\n",
              "        vertical-align: middle;\n",
              "    }\n",
              "\n",
              "    .dataframe tbody tr th {\n",
              "        vertical-align: top;\n",
              "    }\n",
              "\n",
              "    .dataframe thead th {\n",
              "        text-align: right;\n",
              "    }\n",
              "</style>\n",
              "<table border=\"1\" class=\"dataframe\">\n",
              "  <thead>\n",
              "    <tr style=\"text-align: right;\">\n",
              "      <th></th>\n",
              "      <th>Season</th>\n",
              "      <th>Age</th>\n",
              "      <th>Childish_diseases</th>\n",
              "      <th>Accident</th>\n",
              "      <th>Surgical_intervention</th>\n",
              "      <th>High_fevers</th>\n",
              "      <th>alcohol_consumption</th>\n",
              "      <th>Smoking</th>\n",
              "      <th>hours_sitting</th>\n",
              "      <th>Output</th>\n",
              "    </tr>\n",
              "  </thead>\n",
              "  <tbody>\n",
              "    <tr>\n",
              "      <th>0</th>\n",
              "      <td>-0.33</td>\n",
              "      <td>0.69</td>\n",
              "      <td>0.0</td>\n",
              "      <td>1.0</td>\n",
              "      <td>1.0</td>\n",
              "      <td>0.0</td>\n",
              "      <td>0.8</td>\n",
              "      <td>0.0</td>\n",
              "      <td>0.88</td>\n",
              "      <td>N</td>\n",
              "    </tr>\n",
              "    <tr>\n",
              "      <th>1</th>\n",
              "      <td>-0.33</td>\n",
              "      <td>0.94</td>\n",
              "      <td>1.0</td>\n",
              "      <td>0.0</td>\n",
              "      <td>1.0</td>\n",
              "      <td>0.0</td>\n",
              "      <td>0.8</td>\n",
              "      <td>1.0</td>\n",
              "      <td>0.31</td>\n",
              "      <td>O</td>\n",
              "    </tr>\n",
              "    <tr>\n",
              "      <th>2</th>\n",
              "      <td>-0.33</td>\n",
              "      <td>0.50</td>\n",
              "      <td>1.0</td>\n",
              "      <td>0.0</td>\n",
              "      <td>0.0</td>\n",
              "      <td>0.0</td>\n",
              "      <td>1.0</td>\n",
              "      <td>-1.0</td>\n",
              "      <td>0.50</td>\n",
              "      <td>N</td>\n",
              "    </tr>\n",
              "    <tr>\n",
              "      <th>3</th>\n",
              "      <td>-0.33</td>\n",
              "      <td>0.75</td>\n",
              "      <td>0.0</td>\n",
              "      <td>1.0</td>\n",
              "      <td>1.0</td>\n",
              "      <td>0.0</td>\n",
              "      <td>1.0</td>\n",
              "      <td>-1.0</td>\n",
              "      <td>0.38</td>\n",
              "      <td>N</td>\n",
              "    </tr>\n",
              "    <tr>\n",
              "      <th>4</th>\n",
              "      <td>-0.33</td>\n",
              "      <td>0.67</td>\n",
              "      <td>1.0</td>\n",
              "      <td>1.0</td>\n",
              "      <td>0.0</td>\n",
              "      <td>0.0</td>\n",
              "      <td>0.8</td>\n",
              "      <td>-1.0</td>\n",
              "      <td>0.50</td>\n",
              "      <td>O</td>\n",
              "    </tr>\n",
              "  </tbody>\n",
              "</table>\n",
              "</div>"
            ],
            "text/plain": [
              "   Season   Age  Childish_diseases  ...  Smoking  hours_sitting  Output\n",
              "0   -0.33  0.69                0.0  ...      0.0           0.88       N\n",
              "1   -0.33  0.94                1.0  ...      1.0           0.31       O\n",
              "2   -0.33  0.50                1.0  ...     -1.0           0.50       N\n",
              "3   -0.33  0.75                0.0  ...     -1.0           0.38       N\n",
              "4   -0.33  0.67                1.0  ...     -1.0           0.50       O\n",
              "\n",
              "[5 rows x 10 columns]"
            ]
          },
          "metadata": {
            "tags": []
          },
          "execution_count": 740
        }
      ]
    },
    {
      "cell_type": "code",
      "metadata": {
        "id": "xYxFCyXKx8hl"
      },
      "source": [
        "#CRIAR UM MODELO CLASSIFICADOR"
      ],
      "execution_count": 741,
      "outputs": []
    },
    {
      "cell_type": "code",
      "metadata": {
        "id": "8SF6pD9uyF9A"
      },
      "source": [
        "from sklearn.model_selection import train_test_split #Divisão de porcentagem de amostra teste"
      ],
      "execution_count": 742,
      "outputs": []
    },
    {
      "cell_type": "code",
      "metadata": {
        "id": "EVC1j9OKzHft"
      },
      "source": [
        "#a)Segmentar m atributos e classes"
      ],
      "execution_count": 743,
      "outputs": []
    },
    {
      "cell_type": "code",
      "metadata": {
        "id": "u42_xlpczLMp"
      },
      "source": [
        "dados_atributos = dados.drop(columns='Output')\n",
        "dados_classe =  dados['Output']"
      ],
      "execution_count": 744,
      "outputs": []
    },
    {
      "cell_type": "code",
      "metadata": {
        "id": "K3Z2efAjzeXZ"
      },
      "source": [
        "#b) Segmentar em base de treinamento e base para teste"
      ],
      "execution_count": 745,
      "outputs": []
    },
    {
      "cell_type": "code",
      "metadata": {
        "id": "S3JcSti0zeKA"
      },
      "source": [
        "atributos_treinamento, atributos_testes, classe_treinamento, classe_testes = train_test_split(dados_atributos,dados_classe, test_size=0.3)"
      ],
      "execution_count": 746,
      "outputs": []
    },
    {
      "cell_type": "code",
      "metadata": {
        "id": "wFoCL-PA0RtW"
      },
      "source": [
        "#c)Obter o modelo"
      ],
      "execution_count": 747,
      "outputs": []
    },
    {
      "cell_type": "code",
      "metadata": {
        "id": "FDB9ogOI0a0-"
      },
      "source": [
        "from sklearn.ensemble import RandomForestClassifier"
      ],
      "execution_count": 748,
      "outputs": []
    },
    {
      "cell_type": "code",
      "metadata": {
        "id": "vkvUM56R3y3j"
      },
      "source": [
        "#c)Treinar o modelo"
      ],
      "execution_count": 749,
      "outputs": []
    },
    {
      "cell_type": "code",
      "metadata": {
        "id": "wZMz-nJK354C"
      },
      "source": [
        "rf = RandomForestClassifier() #instancia"
      ],
      "execution_count": 750,
      "outputs": []
    },
    {
      "cell_type": "code",
      "metadata": {
        "id": "RbF1piMD4ELp"
      },
      "source": [
        "fertility_RF = rf.fit(atributos_treinamento, classe_treinamento)"
      ],
      "execution_count": 751,
      "outputs": []
    },
    {
      "cell_type": "code",
      "metadata": {
        "id": "n9Ubki4K4y8A"
      },
      "source": [
        "#Pre testar o modelo utilizando as classes para teste"
      ],
      "execution_count": 752,
      "outputs": []
    },
    {
      "cell_type": "code",
      "metadata": {
        "id": "Jds-WHQN48jX"
      },
      "source": [
        "test_fertility = fertility_RF.predict(atributos_testes)"
      ],
      "execution_count": 753,
      "outputs": []
    },
    {
      "cell_type": "code",
      "metadata": {
        "colab": {
          "base_uri": "https://localhost:8080/"
        },
        "id": "vjGW0UDm5LJ0",
        "outputId": "454d1446-f50b-4fb8-e119-4e4393892340"
      },
      "source": [
        "test_fertility"
      ],
      "execution_count": 754,
      "outputs": [
        {
          "output_type": "execute_result",
          "data": {
            "text/plain": [
              "array(['O', 'N', 'O', 'O', 'N', 'N', 'N', 'N', 'O', 'O', 'N', 'O', 'O',\n",
              "       'O', 'N', 'N', 'O', 'O', 'O', 'N', 'O', 'O', 'O', 'O', 'N', 'N',\n",
              "       'O', 'N', 'N', 'N', 'O', 'N', 'N', 'O', 'N', 'N', 'O', 'N', 'N',\n",
              "       'N', 'N', 'O', 'O', 'O', 'O', 'N', 'O', 'O', 'N', 'O', 'O', 'N',\n",
              "       'N'], dtype=object)"
            ]
          },
          "metadata": {
            "tags": []
          },
          "execution_count": 754
        }
      ]
    },
    {
      "cell_type": "code",
      "metadata": {
        "colab": {
          "base_uri": "https://localhost:8080/"
        },
        "id": "yoi8ZEji5vBs",
        "outputId": "d6f55760-7841-4fd7-eac7-0e607afd4725"
      },
      "source": [
        "for i in range(0,len(classe_testes)):\n",
        "  print('Classe:', classe_testes.iloc[i],':',test_fertility[i])"
      ],
      "execution_count": 755,
      "outputs": [
        {
          "output_type": "stream",
          "text": [
            "Classe: O : O\n",
            "Classe: N : N\n",
            "Classe: O : O\n",
            "Classe: O : O\n",
            "Classe: N : N\n",
            "Classe: N : N\n",
            "Classe: O : N\n",
            "Classe: O : N\n",
            "Classe: O : O\n",
            "Classe: O : O\n",
            "Classe: N : N\n",
            "Classe: O : O\n",
            "Classe: O : O\n",
            "Classe: O : O\n",
            "Classe: N : N\n",
            "Classe: N : N\n",
            "Classe: O : O\n",
            "Classe: O : O\n",
            "Classe: O : O\n",
            "Classe: N : N\n",
            "Classe: O : O\n",
            "Classe: N : O\n",
            "Classe: O : O\n",
            "Classe: O : O\n",
            "Classe: N : N\n",
            "Classe: N : N\n",
            "Classe: O : O\n",
            "Classe: N : N\n",
            "Classe: N : N\n",
            "Classe: N : N\n",
            "Classe: O : O\n",
            "Classe: N : N\n",
            "Classe: N : N\n",
            "Classe: O : O\n",
            "Classe: N : N\n",
            "Classe: N : N\n",
            "Classe: O : O\n",
            "Classe: N : N\n",
            "Classe: N : N\n",
            "Classe: N : N\n",
            "Classe: N : N\n",
            "Classe: O : O\n",
            "Classe: O : O\n",
            "Classe: O : O\n",
            "Classe: O : O\n",
            "Classe: N : N\n",
            "Classe: O : O\n",
            "Classe: O : O\n",
            "Classe: N : N\n",
            "Classe: O : O\n",
            "Classe: O : O\n",
            "Classe: N : N\n",
            "Classe: N : N\n"
          ],
          "name": "stdout"
        }
      ]
    },
    {
      "cell_type": "code",
      "metadata": {
        "id": "QbVdssHx9Ts_"
      },
      "source": [
        "from pickle import dump"
      ],
      "execution_count": 756,
      "outputs": []
    },
    {
      "cell_type": "code",
      "metadata": {
        "id": "yJdtR8X29hc0"
      },
      "source": [
        "dump(test_fertility,open('random.pkl','wb'))"
      ],
      "execution_count": 757,
      "outputs": []
    },
    {
      "cell_type": "code",
      "metadata": {
        "id": "ybgoKV0U9p6i"
      },
      "source": [
        "from sklearn.tree import DecisionTreeClassifier"
      ],
      "execution_count": 758,
      "outputs": []
    },
    {
      "cell_type": "code",
      "metadata": {
        "id": "oxo6CGXA-UcR"
      },
      "source": [
        "rf1 = DecisionTreeClassifier()"
      ],
      "execution_count": 759,
      "outputs": []
    },
    {
      "cell_type": "code",
      "metadata": {
        "id": "GEleE7O_-mwl"
      },
      "source": [
        "fertility_DTC = rf1.fit(atributos_treinamento,classe_treinamento)"
      ],
      "execution_count": 760,
      "outputs": []
    },
    {
      "cell_type": "code",
      "metadata": {
        "id": "LiRrDwNb-9Uz"
      },
      "source": [
        "test_fertility_DTC = fertility_DTC.predict(atributos_testes)"
      ],
      "execution_count": 761,
      "outputs": []
    },
    {
      "cell_type": "code",
      "metadata": {
        "id": "ZRw1Zg4z_QX6",
        "colab": {
          "base_uri": "https://localhost:8080/"
        },
        "outputId": "fcc2dd12-5abe-489e-cbda-5cafce8a0c06"
      },
      "source": [
        "test_fertility_DTC"
      ],
      "execution_count": 762,
      "outputs": [
        {
          "output_type": "execute_result",
          "data": {
            "text/plain": [
              "array(['N', 'N', 'O', 'O', 'N', 'N', 'O', 'N', 'O', 'O', 'N', 'O', 'O',\n",
              "       'O', 'N', 'N', 'O', 'O', 'O', 'N', 'O', 'O', 'O', 'O', 'N', 'N',\n",
              "       'O', 'N', 'N', 'N', 'O', 'N', 'N', 'O', 'N', 'N', 'O', 'N', 'O',\n",
              "       'N', 'N', 'O', 'O', 'O', 'O', 'N', 'O', 'O', 'N', 'O', 'O', 'N',\n",
              "       'N'], dtype=object)"
            ]
          },
          "metadata": {
            "tags": []
          },
          "execution_count": 762
        }
      ]
    },
    {
      "cell_type": "code",
      "metadata": {
        "id": "h41DOLVN_eM2"
      },
      "source": [
        ""
      ],
      "execution_count": 762,
      "outputs": []
    },
    {
      "cell_type": "code",
      "metadata": {
        "id": "sG-C-ais_dOy"
      },
      "source": [
        "#Teste preliminar de acurácia"
      ],
      "execution_count": 763,
      "outputs": []
    },
    {
      "cell_type": "code",
      "metadata": {
        "id": "Wq96Us_1_iqa"
      },
      "source": [
        "from sklearn import metrics"
      ],
      "execution_count": 764,
      "outputs": []
    },
    {
      "cell_type": "code",
      "metadata": {
        "colab": {
          "base_uri": "https://localhost:8080/"
        },
        "id": "uQ2ImxLP_oeB",
        "outputId": "8f7dae97-41f1-44f9-a2ca-9620f40e179c"
      },
      "source": [
        "metrics.accuracy_score(classe_testes,test_fertility)"
      ],
      "execution_count": 765,
      "outputs": [
        {
          "output_type": "execute_result",
          "data": {
            "text/plain": [
              "0.9433962264150944"
            ]
          },
          "metadata": {
            "tags": []
          },
          "execution_count": 765
        }
      ]
    },
    {
      "cell_type": "code",
      "metadata": {
        "id": "jX_9WBHfqswB"
      },
      "source": [
        "from sklearn.metrics import confusion_matrix\n",
        "import matplotlib.pyplot as plt\n",
        "from sklearn.metrics import plot_confusion_matrix"
      ],
      "execution_count": 766,
      "outputs": []
    },
    {
      "cell_type": "code",
      "metadata": {
        "colab": {
          "base_uri": "https://localhost:8080/",
          "height": 296
        },
        "id": "jiRr_KFxrUJa",
        "outputId": "8ee8f18a-373a-4b6a-c7ad-ed5c9d5f8767"
      },
      "source": [
        "plot_confusion_matrix(fertility_RF, atributos_testes,classe_testes)"
      ],
      "execution_count": 767,
      "outputs": [
        {
          "output_type": "execute_result",
          "data": {
            "text/plain": [
              "<sklearn.metrics._plot.confusion_matrix.ConfusionMatrixDisplay at 0x7f1afd778c90>"
            ]
          },
          "metadata": {
            "tags": []
          },
          "execution_count": 767
        },
        {
          "output_type": "display_data",
          "data": {
            "image/png": "[encoded data removed]",
            "text/plain": [
              "<Figure size 432x288 with 2 Axes>"
            ]
          },
          "metadata": {
            "tags": [],
            "needs_background": "light"
          }
        }
      ]
    },
    {
      "cell_type": "code",
      "metadata": {
        "id": "x7YxpM5ktGUB"
      },
      "source": [
        "#--------CROSS VALIDATION"
      ],
      "execution_count": 768,
      "outputs": []
    },
    {
      "cell_type": "code",
      "metadata": {
        "id": "sVKxSristNXG"
      },
      "source": [
        "#Segmentar a base em atributos e classes (caso não esteja segmentada)\n",
        "#dados_atributos\n",
        "#dados_classe\n",
        "#importar o CROSS_VAL"
      ],
      "execution_count": 769,
      "outputs": []
    },
    {
      "cell_type": "code",
      "metadata": {
        "id": "gq-ST9B-t1P8"
      },
      "source": [
        "from sklearn.model_selection import cross_val_score"
      ],
      "execution_count": 770,
      "outputs": []
    },
    {
      "cell_type": "code",
      "metadata": {
        "id": "UrKSv-G0uZXX"
      },
      "source": [
        "scores=cross_val_score(fertility_RF,dados_atributos,dados_classe, cv=10)#cv = kfolds"
      ],
      "execution_count": 771,
      "outputs": []
    },
    {
      "cell_type": "code",
      "metadata": {
        "colab": {
          "base_uri": "https://localhost:8080/"
        },
        "id": "HjRSg-NJu0K6",
        "outputId": "758c7d77-d716-4975-9658-00afae85dff9"
      },
      "source": [
        "scores #cross_val"
      ],
      "execution_count": 772,
      "outputs": [
        {
          "output_type": "execute_result",
          "data": {
            "text/plain": [
              "array([0.66666667, 0.77777778, 1.        , 1.        , 1.        ,\n",
              "       1.        , 0.94117647, 0.88235294, 1.        , 0.94117647])"
            ]
          },
          "metadata": {
            "tags": []
          },
          "execution_count": 772
        }
      ]
    },
    {
      "cell_type": "code",
      "metadata": {
        "colab": {
          "base_uri": "https://localhost:8080/"
        },
        "id": "D8rGYTIrvgYV",
        "outputId": "37cc164c-1583-462b-88c6-cbd64e7e11e4"
      },
      "source": [
        "scores.mean #acuracia global\n",
        "scores.std"
      ],
      "execution_count": 773,
      "outputs": [
        {
          "output_type": "execute_result",
          "data": {
            "text/plain": [
              "<function ndarray.std>"
            ]
          },
          "metadata": {
            "tags": []
          },
          "execution_count": 773
        }
      ]
    },
    {
      "cell_type": "code",
      "metadata": {
        "id": "Pg1N8DQHuRSE"
      },
      "source": [
        "from sklearn.model_selection import cross_validate"
      ],
      "execution_count": 774,
      "outputs": []
    },
    {
      "cell_type": "code",
      "metadata": {
        "id": "H2KEpJrytlUE"
      },
      "source": [
        "scoring = ['precision_macro','recall_macro']"
      ],
      "execution_count": 775,
      "outputs": []
    },
    {
      "cell_type": "code",
      "metadata": {
        "colab": {
          "base_uri": "https://localhost:8080/"
        },
        "id": "0niaVSYey8hm",
        "outputId": "c92e4d03-e4a5-4838-a89d-b700a5afb13b"
      },
      "source": [
        "scoring"
      ],
      "execution_count": 776,
      "outputs": [
        {
          "output_type": "execute_result",
          "data": {
            "text/plain": [
              "['precision_macro', 'recall_macro']"
            ]
          },
          "metadata": {
            "tags": []
          },
          "execution_count": 776
        }
      ]
    },
    {
      "cell_type": "code",
      "metadata": {
        "id": "WctsOnxpwj4w"
      },
      "source": [
        "scores2 = cross_validate(fertility_RF, dados_atributos, dados_classe, scoring=scoring,cv=10)"
      ],
      "execution_count": 777,
      "outputs": []
    },
    {
      "cell_type": "code",
      "metadata": {
        "colab": {
          "base_uri": "https://localhost:8080/"
        },
        "id": "68hb4g5JxWhP",
        "outputId": "fe3ed969-3618-4fc8-c2d3-adbb890933c7"
      },
      "source": [
        "scores2.keys()"
      ],
      "execution_count": 783,
      "outputs": [
        {
          "output_type": "execute_result",
          "data": {
            "text/plain": [
              "dict_keys(['fit_time', 'score_time', 'test_precision_macro', 'test_recall_macro'])"
            ]
          },
          "metadata": {
            "tags": []
          },
          "execution_count": 783
        }
      ]
    },
    {
      "cell_type": "code",
      "metadata": {
        "id": "ruEpOrLLxnAA"
      },
      "source": [
        "#Acuracia Global score2"
      ],
      "execution_count": 779,
      "outputs": []
    },
    {
      "cell_type": "code",
      "metadata": {
        "colab": {
          "base_uri": "https://localhost:8080/",
          "height": 163
        },
        "id": "ZiUHHZSExu2D",
        "outputId": "afbacad4-d1e6-4757-d114-c2202cd8ee8e"
      },
      "source": [
        "scores2.mean"
      ],
      "execution_count": 782,
      "outputs": [
        {
          "output_type": "error",
          "ename": "TypeError",
          "evalue": "ignored",
          "traceback": [
            "\u001b[0;31m---------------------------------------------------------------------------\u001b[0m",
            "\u001b[0;31mTypeError\u001b[0m                                 Traceback (most recent call last)",
            "\u001b[0;32m<ipython-input-782-672601be5e67>\u001b[0m in \u001b[0;36m<module>\u001b[0;34m()\u001b[0m\n\u001b[0;32m----> 1\u001b[0;31m \u001b[0mscores2\u001b[0m\u001b[0;34m(\u001b[0m\u001b[0;34m'test_recall_macro'\u001b[0m\u001b[0;34m)\u001b[0m\u001b[0;34m.\u001b[0m\u001b[0mmean\u001b[0m\u001b[0;34m\u001b[0m\u001b[0;34m\u001b[0m\u001b[0m\n\u001b[0m",
            "\u001b[0;31mTypeError\u001b[0m: 'dict' object is not callable"
          ]
        }
      ]
    },
    {
      "cell_type": "code",
      "metadata": {
        "id": "Hz1TYfcKx5hv"
      },
      "source": [
        "#Sensibilidade"
      ],
      "execution_count": null,
      "outputs": []
    },
    {
      "cell_type": "code",
      "metadata": {
        "id": "h4HLXwIIx7vD"
      },
      "source": [
        "scores2['recall_macro'].mean()"
      ],
      "execution_count": null,
      "outputs": []
    },
    {
      "cell_type": "code",
      "metadata": {
        "id": "vUsJ6_q90wh9"
      },
      "source": [
        "from pickle import dump\n",
        "dump(fertility_RF,open('fertility_RF.pkl','wb'))"
      ],
      "execution_count": null,
      "outputs": []
    },
    {
      "cell_type": "code",
      "metadata": {
        "id": "-frXsAog0IQ1"
      },
      "source": [
        "#TUNNING DO MODELO - HIPERPARAMETROS"
      ],
      "execution_count": null,
      "outputs": []
    },
    {
      "cell_type": "code",
      "metadata": {
        "id": "qlI_oUa81IAI"
      },
      "source": [
        "rf.get_params()"
      ],
      "execution_count": null,
      "outputs": []
    },
    {
      "cell_type": "code",
      "metadata": {
        "id": "lM4Dd9-Y1lKS"
      },
      "source": [
        "#----OTIMIZAÇÂO"
      ],
      "execution_count": null,
      "outputs": []
    },
    {
      "cell_type": "code",
      "metadata": {
        "id": "CM5mVzP31pBz"
      },
      "source": [
        "#Criar grade de hiper parametros"
      ],
      "execution_count": null,
      "outputs": []
    },
    {
      "cell_type": "code",
      "metadata": {
        "id": "rpINGf7R1vg_"
      },
      "source": [
        "n_estimators=[50,100,200]\n",
        "max_features = ['auto','sqrt']\n",
        "max_depth = [10,50,100]"
      ],
      "execution_count": null,
      "outputs": []
    },
    {
      "cell_type": "code",
      "metadata": {
        "id": "X2JdKak62MZm"
      },
      "source": [
        "random_grid={'n_estimators': n_estimators,\n",
        "              'max_features': max_features,\n",
        "              'max_depth': max_depth \n",
        "            }"
      ],
      "execution_count": null,
      "outputs": []
    },
    {
      "cell_type": "code",
      "metadata": {
        "id": "B76RKjPh11Bj"
      },
      "source": [
        "from sklearn.model_selection import  GridSearchCV"
      ],
      "execution_count": null,
      "outputs": []
    },
    {
      "cell_type": "code",
      "metadata": {
        "id": "_rjmLKvf2-Xi"
      },
      "source": [
        "from pprint import pprint"
      ],
      "execution_count": null,
      "outputs": []
    },
    {
      "cell_type": "code",
      "metadata": {
        "id": "ery8SlhF3Kju"
      },
      "source": [
        "rf_grid = GridSearchCV(rf, random_grid,  refit=True, verbose=2)"
      ],
      "execution_count": null,
      "outputs": []
    },
    {
      "cell_type": "code",
      "metadata": {
        "id": "39XBQKyT3kvq"
      },
      "source": [
        "rf_grid.fit(dados_atributos,dados_classe)\n",
        "pprint(rf_grid.best_params_)"
      ],
      "execution_count": null,
      "outputs": []
    },
    {
      "cell_type": "code",
      "metadata": {
        "id": "pHrblRpi8t-S"
      },
      "source": [
        "rf =  RandomForestClassifier(max_depth=50, \n",
        "                                max_features='sqrt', \n",
        "                                n_estimators=50)\n",
        "rf_fertility_otimizado = rf.fit(atributos_treinamento, \n",
        "                                classe_treinamento,\n",
        "                                )\n",
        "scores2 = cross_validate(rf_fertility_otimizado,dados_atributos,dados_classe,scoring=scoring,cv=10)"
      ],
      "execution_count": null,
      "outputs": []
    },
    {
      "cell_type": "code",
      "metadata": {
        "id": "suBg_J1Y-qLq"
      },
      "source": [
        "scores2.keys()"
      ],
      "execution_count": null,
      "outputs": []
    },
    {
      "cell_type": "code",
      "metadata": {
        "id": "EBTIMI4a_DB1"
      },
      "source": [
        "scores2['test_precision_macro'].mean()\n",
        "scores2['test_recall_macro'].mean()"
      ],
      "execution_count": null,
      "outputs": []
    }
  ]
}
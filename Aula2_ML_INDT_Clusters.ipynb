{
  "nbformat": 4,
  "nbformat_minor": 0,
  "metadata": {
    "colab": {
      "name": "Projeto.ipynb",
      "provenance": [],
      "collapsed_sections": [],
      "mount_file_id": "1w9T5G6DXLRJO-DByql7d1vuRIN20gGjp",
      "authorship_tag": "ABX9TyMY6s7rdyljnKsWgu0IhKPB",
      "include_colab_link": true
    },
    "kernelspec": {
      "display_name": "Python 3",
      "name": "python3"
    },
    "language_info": {
      "name": "python"
    }
  },
  "cells": [
    {
      "cell_type": "markdown",
      "metadata": {
        "id": "view-in-github",
        "colab_type": "text"
      },
      "source": [
        "<a href=\"https://colab.research.google.com/github/LuziaAm/DataScience/blob/main/Aula2_ML_INDT_Clusters.ipynb\" target=\"_parent\"><img src=\"https://colab.research.google.com/assets/colab-badge.svg\" alt=\"Open In Colab\"/></a>"
      ]
    },
    {
      "cell_type": "markdown",
      "metadata": {
        "id": "p0t1vuZpUjKX"
      },
      "source": [
        "Clusterização"
      ]
    },
    {
      "cell_type": "code",
      "metadata": {
        "id": "TGgnsQovT7X8"
      },
      "source": [
        "import pandas as pd\n",
        "import matplotlib.pyplot as plt\n",
        "from sklearn.cluster import KMeans\n",
        "from scipy.spatial.distance import cdist\n",
        "import numpy as np\n"
      ],
      "execution_count": 230,
      "outputs": []
    },
    {
      "cell_type": "code",
      "metadata": {
        "id": "vPmo4YGzW3cN"
      },
      "source": [
        "#Determinar o numer de clusters\n",
        "#Obter e salvar o modelo\n",
        "#Criar um módulo de inferência com os clusters"
      ],
      "execution_count": 231,
      "outputs": []
    },
    {
      "cell_type": "code",
      "metadata": {
        "colab": {
          "base_uri": "https://localhost:8080/",
          "height": 269
        },
        "id": "IyN48JpsYT2y",
        "outputId": "eb949624-a6d9-4c17-b19f-3b208697818c"
      },
      "source": [
        "#preparar os objetos para plotar o gráfico\n",
        "fig, ax = plt.subplots()"
      ],
      "execution_count": 232,
      "outputs": [
        {
          "output_type": "display_data",
          "data": {
            "image/png": "[encoded data removed]",
            "text/plain": [
              "<Figure size 432x288 with 1 Axes>"
            ]
          },
          "metadata": {
            "tags": [],
            "needs_background": "light"
          }
        }
      ]
    },
    {
      "cell_type": "code",
      "metadata": {
        "id": "_wlbyQCNUAhn"
      },
      "source": [
        "dados =  pd.read_csv('/content/iris.csv')"
      ],
      "execution_count": 233,
      "outputs": []
    },
    {
      "cell_type": "code",
      "metadata": {
        "id": "r_sq9bbLUW8d"
      },
      "source": [
        "dados=dados.drop(columns='species')#somente ayributos numericos"
      ],
      "execution_count": 234,
      "outputs": []
    },
    {
      "cell_type": "markdown",
      "metadata": {
        "id": "G_kfPojqWySo"
      },
      "source": [
        "Obter modelo de Cluusters com a base Iris"
      ]
    },
    {
      "cell_type": "code",
      "metadata": {
        "id": "iQ-Qhy6tYZHr"
      },
      "source": [
        "dados=dados.values"
      ],
      "execution_count": 235,
      "outputs": []
    },
    {
      "cell_type": "code",
      "metadata": {
        "colab": {
          "base_uri": "https://localhost:8080/"
        },
        "id": "BdEdiyw_ZZad",
        "outputId": "b9d49bfd-e248-4ce0-bcd8-20b9df76822f"
      },
      "source": [
        "dados"
      ],
      "execution_count": 236,
      "outputs": [
        {
          "output_type": "execute_result",
          "data": {
            "text/plain": [
              "array([[1. , 3.5, 1.4, 0.2],\n",
              "       [4.9, 3. , 1.4, 0.2],\n",
              "       [4.7, 3.2, 1.3, 0.2],\n",
              "       [4.6, 3.1, 1.5, 0.2],\n",
              "       [5. , 3.6, 1.4, 0.2],\n",
              "       [5.4, 3.9, 1.7, 0.4],\n",
              "       [4.6, 3.4, 1.4, 0.3],\n",
              "       [5. , 3.4, 1.5, 0.2],\n",
              "       [4.4, 2.9, 1.4, 0.2],\n",
              "       [4.9, 3.1, 1.5, 0.1],\n",
              "       [5.4, 3.7, 1.5, 0.2],\n",
              "       [4.8, 3.4, 1.6, 0.2],\n",
              "       [4.8, 3. , 1.4, 0.1],\n",
              "       [4.3, 3. , 1.1, 0.1],\n",
              "       [5.8, 4. , 1.2, 0.2],\n",
              "       [5.7, 4.4, 1.5, 0.4],\n",
              "       [5.4, 3.9, 1.3, 0.4],\n",
              "       [5.1, 3.5, 1.4, 0.3],\n",
              "       [5.7, 3.8, 1.7, 0.3],\n",
              "       [5.1, 3.8, 1.5, 0.3],\n",
              "       [5.4, 3.4, 1.7, 0.2],\n",
              "       [5.1, 3.7, 1.5, 0.4],\n",
              "       [4.6, 3.6, 1. , 0.2],\n",
              "       [5.1, 3.3, 1.7, 0.5],\n",
              "       [4.8, 3.4, 1.9, 0.2],\n",
              "       [5. , 3. , 1.6, 0.2],\n",
              "       [5. , 3.4, 1.6, 0.4],\n",
              "       [5.2, 3.5, 1.5, 0.2],\n",
              "       [5.2, 3.4, 1.4, 0.2],\n",
              "       [4.7, 3.2, 1.6, 0.2],\n",
              "       [4.8, 3.1, 1.6, 0.2],\n",
              "       [5.4, 3.4, 1.5, 0.4],\n",
              "       [5.2, 4.1, 1.5, 0.1],\n",
              "       [5.5, 4.2, 1.4, 0.2],\n",
              "       [4.9, 3.1, 1.5, 0.1],\n",
              "       [5. , 3.2, 1.2, 0.2],\n",
              "       [5.5, 3.5, 1.3, 0.2],\n",
              "       [4.9, 3.1, 1.5, 0.1],\n",
              "       [4.4, 3. , 1.3, 0.2],\n",
              "       [5.1, 3.4, 1.5, 0.2],\n",
              "       [5. , 3.5, 1.3, 0.3],\n",
              "       [4.5, 2.3, 1.3, 0.3],\n",
              "       [4.4, 3.2, 1.3, 0.2],\n",
              "       [5. , 3.5, 1.6, 0.6],\n",
              "       [5.1, 3.8, 1.9, 0.4],\n",
              "       [4.8, 3. , 1.4, 0.3],\n",
              "       [5.1, 3.8, 1.6, 0.2],\n",
              "       [4.6, 3.2, 1.4, 0.2],\n",
              "       [5.3, 3.7, 1.5, 0.2],\n",
              "       [5. , 3.3, 1.4, 0.2],\n",
              "       [7. , 3.2, 4.7, 1.4],\n",
              "       [6.4, 3.2, 4.5, 1.5],\n",
              "       [6.9, 3.1, 4.9, 1.5],\n",
              "       [5.5, 2.3, 4. , 1.3],\n",
              "       [6.5, 2.8, 4.6, 1.5],\n",
              "       [5.7, 2.8, 4.5, 1.3],\n",
              "       [6.3, 3.3, 4.7, 1.6],\n",
              "       [4.9, 2.4, 3.3, 1. ],\n",
              "       [6.6, 2.9, 4.6, 1.3],\n",
              "       [5.2, 2.7, 3.9, 1.4],\n",
              "       [5. , 2. , 3.5, 1. ],\n",
              "       [5.9, 3. , 4.2, 1.5],\n",
              "       [6. , 2.2, 4. , 1. ],\n",
              "       [6.1, 2.9, 4.7, 1.4],\n",
              "       [5.6, 2.9, 3.6, 1.3],\n",
              "       [6.7, 3.1, 4.4, 1.4],\n",
              "       [5.6, 3. , 4.5, 1.5],\n",
              "       [5.8, 2.7, 4.1, 1. ],\n",
              "       [6.2, 2.2, 4.5, 1.5],\n",
              "       [5.6, 2.5, 3.9, 1.1],\n",
              "       [5.9, 3.2, 4.8, 1.8],\n",
              "       [6.1, 2.8, 4. , 1.3],\n",
              "       [6.3, 2.5, 4.9, 1.5],\n",
              "       [6.1, 2.8, 4.7, 1.2],\n",
              "       [6.4, 2.9, 4.3, 1.3],\n",
              "       [6.6, 3. , 4.4, 1.4],\n",
              "       [6.8, 2.8, 4.8, 1.4],\n",
              "       [6.7, 3. , 5. , 1.7],\n",
              "       [6. , 2.9, 4.5, 1.5],\n",
              "       [5.7, 2.6, 3.5, 1. ],\n",
              "       [5.5, 2.4, 3.8, 1.1],\n",
              "       [5.5, 2.4, 3.7, 1. ],\n",
              "       [5.8, 2.7, 3.9, 1.2],\n",
              "       [6. , 2.7, 5.1, 1.6],\n",
              "       [5.4, 3. , 4.5, 1.5],\n",
              "       [6. , 3.4, 4.5, 1.6],\n",
              "       [6.7, 3.1, 4.7, 1.5],\n",
              "       [6.3, 2.3, 4.4, 1.3],\n",
              "       [5.6, 3. , 4.1, 1.3],\n",
              "       [5.5, 2.5, 4. , 1.3],\n",
              "       [5.5, 2.6, 4.4, 1.2],\n",
              "       [6.1, 3. , 4.6, 1.4],\n",
              "       [5.8, 2.6, 4. , 1.2],\n",
              "       [5. , 2.3, 3.3, 1. ],\n",
              "       [5.6, 2.7, 4.2, 1.3],\n",
              "       [5.7, 3. , 4.2, 1.2],\n",
              "       [5.7, 2.9, 4.2, 1.3],\n",
              "       [6.2, 2.9, 4.3, 1.3],\n",
              "       [5.1, 2.5, 3. , 1.1],\n",
              "       [5.7, 2.8, 4.1, 1.3],\n",
              "       [6.3, 3.3, 6. , 2.5],\n",
              "       [5.8, 2.7, 5.1, 1.9],\n",
              "       [7.1, 3. , 5.9, 2.1],\n",
              "       [6.3, 2.9, 5.6, 1.8],\n",
              "       [6.5, 3. , 5.8, 2.2],\n",
              "       [7.6, 3. , 6.6, 2.1],\n",
              "       [4.9, 2.5, 4.5, 1.7],\n",
              "       [7.3, 2.9, 6.3, 1.8],\n",
              "       [6.7, 2.5, 5.8, 1.8],\n",
              "       [7.2, 3.6, 6.1, 2.5],\n",
              "       [6.5, 3.2, 5.1, 2. ],\n",
              "       [6.4, 2.7, 5.3, 1.9],\n",
              "       [6.8, 3. , 5.5, 2.1],\n",
              "       [5.7, 2.5, 5. , 2. ],\n",
              "       [5.8, 2.8, 5.1, 2.4],\n",
              "       [6.4, 3.2, 5.3, 2.3],\n",
              "       [6.5, 3. , 5.5, 1.8],\n",
              "       [7.7, 3.8, 6.7, 2.2],\n",
              "       [7.7, 2.6, 6.9, 2.3],\n",
              "       [6. , 2.2, 5. , 1.5],\n",
              "       [6.9, 3.2, 5.7, 2.3],\n",
              "       [5.6, 2.8, 4.9, 2. ],\n",
              "       [7.7, 2.8, 6.7, 2. ],\n",
              "       [6.3, 2.7, 4.9, 1.8],\n",
              "       [6.7, 3.3, 5.7, 2.1],\n",
              "       [7.2, 3.2, 6. , 1.8],\n",
              "       [6.2, 2.8, 4.8, 1.8],\n",
              "       [6.1, 3. , 4.9, 1.8],\n",
              "       [6.4, 2.8, 5.6, 2.1],\n",
              "       [7.2, 3. , 5.8, 1.6],\n",
              "       [7.4, 2.8, 6.1, 1.9],\n",
              "       [7.9, 3.8, 6.4, 2. ],\n",
              "       [6.4, 2.8, 5.6, 2.2],\n",
              "       [6.3, 2.8, 5.1, 1.5],\n",
              "       [6.1, 2.6, 5.6, 1.4],\n",
              "       [7.7, 3. , 6.1, 2.3],\n",
              "       [6.3, 3.4, 5.6, 2.4],\n",
              "       [6.4, 3.1, 5.5, 1.8],\n",
              "       [6. , 3. , 4.8, 1.8],\n",
              "       [6.9, 3.1, 5.4, 2.1],\n",
              "       [6.7, 3.1, 5.6, 2.4],\n",
              "       [6.9, 3.1, 5.1, 2.3],\n",
              "       [5.8, 2.7, 5.1, 1.9],\n",
              "       [6.8, 3.2, 5.9, 2.3],\n",
              "       [6.7, 3.3, 5.7, 2.5],\n",
              "       [6.7, 3. , 5.2, 2.3],\n",
              "       [6.3, 2.5, 5. , 1.9],\n",
              "       [6.5, 3. , 5.2, 2. ],\n",
              "       [6.2, 3.4, 5.4, 2.3],\n",
              "       [5.9, 3. , 5.1, 1.8]])"
            ]
          },
          "metadata": {
            "tags": []
          },
          "execution_count": 236
        }
      ]
    },
    {
      "cell_type": "code",
      "metadata": {
        "id": "ZPjgRN03ZZXq"
      },
      "source": [
        "kmeansModel = KMeans(n_clusters=3).fit(dados)"
      ],
      "execution_count": 237,
      "outputs": []
    },
    {
      "cell_type": "code",
      "metadata": {
        "id": "1aJ1vujxZZGm"
      },
      "source": [
        "Iris_clusters = kmeansModel.fit_transform(dados)"
      ],
      "execution_count": 238,
      "outputs": []
    },
    {
      "cell_type": "code",
      "metadata": {
        "colab": {
          "base_uri": "https://localhost:8080/"
        },
        "id": "SR4Xh-K9bDvN",
        "outputId": "cf288927-b84f-4e1b-914d-cf918a3132b8"
      },
      "source": [
        "kmeansModel.cluster_centers_ #médias das colunas da petala e cepala"
      ],
      "execution_count": 239,
      "outputs": [
        {
          "output_type": "execute_result",
          "data": {
            "text/plain": [
              "array([[5.9016129 , 2.7483871 , 4.39354839, 1.43387097],\n",
              "       [4.924     , 3.418     , 1.464     , 0.244     ],\n",
              "       [6.85      , 3.07368421, 5.74210526, 2.07105263]])"
            ]
          },
          "metadata": {
            "tags": []
          },
          "execution_count": 239
        }
      ]
    },
    {
      "cell_type": "code",
      "metadata": {
        "id": "1eKvFjh2d74_"
      },
      "source": [
        "#Descobrir o número ideal de clusters\n",
        "#Método das distorções\n",
        "#Dica: Todo método se apoia na avaliação do erro"
      ],
      "execution_count": 240,
      "outputs": []
    },
    {
      "cell_type": "code",
      "metadata": {
        "id": "PhQdYmBAeZ1J"
      },
      "source": [
        "distorcoes=[]#Matriz para gravar as distorções"
      ],
      "execution_count": 241,
      "outputs": []
    },
    {
      "cell_type": "code",
      "metadata": {
        "id": "qPNjMmWrehjo"
      },
      "source": [
        "k= range(1,11)\n",
        "for n in k:\n",
        "  kmeansModel = KMeans(n_clusters=n).fit(dados)\n",
        "  distorcoes.append(\n",
        "      sum(np.min(\n",
        "          cdist(dados, kmeansModel.cluster_centers_,'euclidean'), axis=1)/dados.shape[0]\n",
        "      )\n",
        "  )"
      ],
      "execution_count": 242,
      "outputs": []
    },
    {
      "cell_type": "code",
      "metadata": {
        "colab": {
          "base_uri": "https://localhost:8080/"
        },
        "id": "ffTKenzwg-n5",
        "outputId": "e11c3c8a-1032-4c17-9e9a-0081f504b9c5"
      },
      "source": [
        "distorcoes"
      ],
      "execution_count": 243,
      "outputs": [
        {
          "output_type": "execute_result",
          "data": {
            "text/plain": [
              "[1.9618657405842204,\n",
              " 0.8819856769582625,\n",
              " 0.676350413034968,\n",
              " 0.5857046952748558,\n",
              " 0.5575716736741386,\n",
              " 0.5094582168492963,\n",
              " 0.4647021354573805,\n",
              " 0.4336705325134261,\n",
              " 0.4119966164371171,\n",
              " 0.3943798290626821]"
            ]
          },
          "metadata": {
            "tags": []
          },
          "execution_count": 243
        }
      ]
    },
    {
      "cell_type": "code",
      "metadata": {
        "id": "3P19E9XOhhUr"
      },
      "source": [
        "ax.plot(k, distorcoes)\n",
        "ax.set(xlabel='n Clusters', ylabel='Distorcao', title='Elbow por distorção')\n",
        "ax.grid()\n",
        "fig.savefig('elbow_distorcao.png')\n",
        "plt.show()"
      ],
      "execution_count": 244,
      "outputs": []
    },
    {
      "cell_type": "code",
      "metadata": {
        "id": "z9SZvUvakhU0"
      },
      "source": [
        "#Até aqui caculamos as distorções\n",
        "\n",
        "#Agora calcular o número de ótimos grupos"
      ],
      "execution_count": 245,
      "outputs": []
    },
    {
      "cell_type": "code",
      "metadata": {
        "id": "pr-_u0GHlC7-"
      },
      "source": [
        "#Requisito: Possuir a matriz que representa os erros(distorcoes ou soma dos qradrados)\n",
        "#Medidas de inercia de cada modelo avaliado"
      ],
      "execution_count": 246,
      "outputs": []
    },
    {
      "cell_type": "code",
      "metadata": {
        "id": "mcbUR1J9lOPA"
      },
      "source": [
        "soma_quadrados = [] #vetor com as somas dos quadrados dos erros de cada cluster"
      ],
      "execution_count": 247,
      "outputs": []
    },
    {
      "cell_type": "code",
      "metadata": {
        "id": "8qOMvrVSlln2"
      },
      "source": [
        "k= range(1,100)\n",
        "for n in k:\n",
        "  kmeansModel = KMeans(n_clusters=n).fit(dados)\n",
        "  soma_quadrados.append(kmeansModel.inertia_)"
      ],
      "execution_count": 248,
      "outputs": []
    },
    {
      "cell_type": "code",
      "metadata": {
        "id": "5ZoQ7x-yme8p"
      },
      "source": [
        "#Definir o n_clusters ótimo"
      ],
      "execution_count": 249,
      "outputs": []
    },
    {
      "cell_type": "code",
      "metadata": {
        "id": "FGrdl2lmmnlc"
      },
      "source": [
        "x1 = 2 #é o primeiro valor do intervalo de n_clusters testados\n",
        "y1 = soma_quadrados[0] #primeira inercia"
      ],
      "execution_count": 250,
      "outputs": []
    },
    {
      "cell_type": "code",
      "metadata": {
        "id": "wwFdTqKHm3B4"
      },
      "source": [
        "x2 = 100 #ultimo valor de n_clusters testados\n",
        "y2 = soma_quadrados[len(soma_quadrados)-1]"
      ],
      "execution_count": 251,
      "outputs": []
    },
    {
      "cell_type": "code",
      "metadata": {
        "id": "U7Wlc5SLn_bl"
      },
      "source": [
        "import math"
      ],
      "execution_count": 252,
      "outputs": []
    },
    {
      "cell_type": "code",
      "metadata": {
        "id": "298mZAMpnTje"
      },
      "source": [
        "distancias = [] #maior distancia\n",
        "for i in range(len(soma_quadrados)):\n",
        "  x0 =  i + 2\n",
        "  y0 = soma_quadrados[i]\n",
        "  numerador = abs((y2-y1) * x0 - (x2-x1) *y0 + x2 * y1 * x1)\n",
        "  denominador = math.sqrt((y2-y1)**2 + (x2-x1)**2)\n",
        "  distancias.append(numerador/denominador)\n",
        "\n",
        "n_clusters_otimo =  distancias.index(max(distancias)) + 2 # 1 é o deslocamento do primeiro numero de cluster avaliado"
      ],
      "execution_count": 253,
      "outputs": []
    },
    {
      "cell_type": "code",
      "metadata": {
        "colab": {
          "base_uri": "https://localhost:8080/"
        },
        "id": "TVxboXVApiot",
        "outputId": "931d07e5-04e8-4896-fde8-c7fa81fbc679"
      },
      "source": [
        "distancias"
      ],
      "execution_count": 254,
      "outputs": [
        {
          "output_type": "execute_result",
          "data": {
            "text/plain": [
              "[99.18807225635592,\n",
              " 172.17858471757654,\n",
              " 181.33413295357414,\n",
              " 183.33083287064647,\n",
              " 184.51276058604577,\n",
              " 185.01187169112347,\n",
              " 185.07927024917387,\n",
              " 184.698922325699,\n",
              " 184.30988836720132,\n",
              " 183.63327406069806,\n",
              " 182.91606960053713,\n",
              " 182.1020107216491,\n",
              " 181.33280271418064,\n",
              " 180.5718925297261,\n",
              " 179.74620139974112,\n",
              " 178.91397209127112,\n",
              " 178.0698220320612,\n",
              " 177.17896299420917,\n",
              " 176.2492561159998,\n",
              " 175.4917433837338,\n",
              " 174.5732610173953,\n",
              " 173.6384793641457,\n",
              " 172.7225513157585,\n",
              " 171.8134627011172,\n",
              " 170.9052286465271,\n",
              " 169.97020350449205,\n",
              " 169.00436333805882,\n",
              " 168.08438369587108,\n",
              " 167.1382974688957,\n",
              " 166.24456751357943,\n",
              " 165.28255729928398,\n",
              " 164.37143471348247,\n",
              " 163.38739825972362,\n",
              " 162.4045580341931,\n",
              " 161.48271523193247,\n",
              " 160.52129363799807,\n",
              " 159.5763400581315,\n",
              " 158.6376050034869,\n",
              " 157.6279683578604,\n",
              " 156.7297294678398,\n",
              " 155.7874688170203,\n",
              " 154.78793636537299,\n",
              " 153.85139244901606,\n",
              " 152.85229769139798,\n",
              " 151.90771260639337,\n",
              " 150.932298723094,\n",
              " 149.9892667608983,\n",
              " 149.0332644879981,\n",
              " 148.0498458508142,\n",
              " 147.09433311669082,\n",
              " 146.1498237670332,\n",
              " 145.14357113357826,\n",
              " 144.16972334577522,\n",
              " 143.221756077196,\n",
              " 142.26212200765946,\n",
              " 141.28319144882457,\n",
              " 140.30662032436297,\n",
              " 139.34685030228817,\n",
              " 138.3802261891424,\n",
              " 137.40383213189796,\n",
              " 136.42069965287925,\n",
              " 135.4753882928852,\n",
              " 134.47179879423166,\n",
              " 133.5142818565607,\n",
              " 132.52863261099742,\n",
              " 131.5601824579127,\n",
              " 130.5869235319835,\n",
              " 129.60784934587033,\n",
              " 128.62298950214196,\n",
              " 127.64874820948486,\n",
              " 126.6743994704669,\n",
              " 125.6870727460044,\n",
              " 124.7233787389751,\n",
              " 123.74161400827452,\n",
              " 122.77163767830895,\n",
              " 121.78712977623198,\n",
              " 120.79206691378715,\n",
              " 119.82012036840852,\n",
              " 118.85245632798443,\n",
              " 117.85490684975957,\n",
              " 116.87801009704108,\n",
              " 115.89639666835886,\n",
              " 114.92242070242959,\n",
              " 113.93739639998564,\n",
              " 112.95665460249617,\n",
              " 111.97234405087795,\n",
              " 110.99385862696666,\n",
              " 110.00895273479793,\n",
              " 109.02857603565715,\n",
              " 108.04650212257123,\n",
              " 107.06237247554019,\n",
              " 106.08381797896834,\n",
              " 105.09736946404718,\n",
              " 104.10907572233687,\n",
              " 103.12674196448029,\n",
              " 102.14418125359616,\n",
              " 101.15888066051,\n",
              " 100.17316563146045,\n",
              " 99.18807225635592]"
            ]
          },
          "metadata": {
            "tags": []
          },
          "execution_count": 254
        }
      ]
    },
    {
      "cell_type": "code",
      "metadata": {
        "colab": {
          "base_uri": "https://localhost:8080/"
        },
        "id": "v-72cEV6rDxc",
        "outputId": "6a43230d-ae13-4971-9d5c-f8ee2b5b4e3b"
      },
      "source": [
        "n_clusters_otimo"
      ],
      "execution_count": 255,
      "outputs": [
        {
          "output_type": "execute_result",
          "data": {
            "text/plain": [
              "8"
            ]
          },
          "metadata": {
            "tags": []
          },
          "execution_count": 255
        }
      ]
    },
    {
      "cell_type": "code",
      "metadata": {
        "id": "494EtyoQtPc9"
      },
      "source": [
        "#Obter modelo otimizado de clusters - n_cluster_otimo\n",
        "#imprimir os centroides do modelo obtido\n",
        "#salvar o modelo em disco - pickle"
      ],
      "execution_count": 255,
      "outputs": []
    },
    {
      "cell_type": "code",
      "metadata": {
        "id": "Qn22RZKO2sY5"
      },
      "source": [
        "modelo_normalizador = normalizador.fit(distancias)"
      ],
      "execution_count": null,
      "outputs": []
    },
    {
      "cell_type": "code",
      "metadata": {
        "id": "DIr97LzC2amg"
      },
      "source": [
        "from pickle import dump #salvar modelo"
      ],
      "execution_count": 264,
      "outputs": []
    },
    {
      "cell_type": "code",
      "metadata": {
        "id": "7nWYgBrB2e5r"
      },
      "source": [
        "dump(modelo_normalizador,open('modelo.pkl','wb'))"
      ],
      "execution_count": null,
      "outputs": []
    },
    {
      "cell_type": "code",
      "metadata": {
        "id": "5jIUlCiO0Pd6"
      },
      "source": [
        "from pickle import load"
      ],
      "execution_count": 260,
      "outputs": []
    },
    {
      "cell_type": "code",
      "metadata": {
        "id": "zU_ZoJCj1OFI"
      },
      "source": [
        "nova_flor = [[4.9,3.7,1.7,0.1]] "
      ],
      "execution_count": 262,
      "outputs": []
    },
    {
      "cell_type": "code",
      "metadata": {
        "id": "f-xJwZDp1v43"
      },
      "source": [
        "iris_cluster=load(open('modelo.pkl','rb'))"
      ],
      "execution_count": null,
      "outputs": []
    },
    {
      "cell_type": "code",
      "metadata": {
        "id": "CfGeVdTk2MlG"
      },
      "source": [
        "iris_cluster.predict(nova_flor)"
      ],
      "execution_count": null,
      "outputs": []
    },
    {
      "cell_type": "code",
      "metadata": {
        "id": "EwYyKt-k3Jrk"
      },
      "source": [
        "iris_cluster.cluster_centers_[n]"
      ],
      "execution_count": null,
      "outputs": []
    }
  ]
}
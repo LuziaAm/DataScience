{
  "nbformat": 4,
  "nbformat_minor": 0,
  "metadata": {
    "colab": {
      "name": "Projeto.ipynb",
      "provenance": [],
      "collapsed_sections": [],
      "mount_file_id": "1w9T5G6DXLRJO-DByql7d1vuRIN20gGjp",
      "authorship_tag": "ABX9TyMMYzC5Zo6+YzrmUknMAv0I",
      "include_colab_link": true
    },
    "kernelspec": {
      "display_name": "Python 3",
      "name": "python3"
    },
    "language_info": {
      "name": "python"
    }
  },
  "cells": [
    {
      "cell_type": "markdown",
      "metadata": {
        "id": "view-in-github",
        "colab_type": "text"
      },
      "source": [
        "<a href=\"https://colab.research.google.com/github/LuziaAm/DataScience/blob/main/Aula2_ML_INDT_Clusters.ipynb\" target=\"_parent\"><img src=\"https://colab.research.google.com/assets/colab-badge.svg\" alt=\"Open In Colab\"/></a>"
      ]
    },
    {
      "cell_type": "markdown",
      "metadata": {
        "id": "p0t1vuZpUjKX"
      },
      "source": [
        "Clusterização"
      ]
    },
    {
      "cell_type": "code",
      "metadata": {
        "id": "TGgnsQovT7X8"
      },
      "source": [
        "import pandas as pd\n",
        "import matplotlib.pyplot as plt\n",
        "from sklearn.cluster import KMeans\n",
        "from scipy.spatial.distance import cdist\n",
        "import numpy as np\n"
      ],
      "execution_count": 170,
      "outputs": []
    },
    {
      "cell_type": "code",
      "metadata": {
        "id": "vPmo4YGzW3cN"
      },
      "source": [
        "#Determinar o numer de clusters\n",
        "#Obter e salvar o modelo\n",
        "#Criar um módulo de inferência com os clusters"
      ],
      "execution_count": 171,
      "outputs": []
    },
    {
      "cell_type": "code",
      "metadata": {
        "colab": {
          "base_uri": "https://localhost:8080/",
          "height": 269
        },
        "id": "IyN48JpsYT2y",
        "outputId": "7a91f9d1-bb1a-4ddf-febd-8f148eb07efe"
      },
      "source": [
        "#preparar os objetos para plotar o gráfico\n",
        "fig, ax = plt.subplots()"
      ],
      "execution_count": 172,
      "outputs": [
        {
          "output_type": "display_data",
          "data": {
            "image/png": "[encoded data removed]",
            "text/plain": [
              "<Figure size 432x288 with 1 Axes>"
            ]
          },
          "metadata": {
            "tags": [],
            "needs_background": "light"
          }
        }
      ]
    },
    {
      "cell_type": "code",
      "metadata": {
        "id": "_wlbyQCNUAhn"
      },
      "source": [
        "dados =  pd.read_csv('/content/iris.csv')"
      ],
      "execution_count": 173,
      "outputs": []
    },
    {
      "cell_type": "code",
      "metadata": {
        "id": "r_sq9bbLUW8d"
      },
      "source": [
        "dados=dados.drop(columns='species')#somente ayributos numericos"
      ],
      "execution_count": 174,
      "outputs": []
    },
    {
      "cell_type": "markdown",
      "metadata": {
        "id": "G_kfPojqWySo"
      },
      "source": [
        "Obter modelo de Cluusters com a base Iris"
      ]
    },
    {
      "cell_type": "code",
      "metadata": {
        "id": "iQ-Qhy6tYZHr"
      },
      "source": [
        "dados=dados.values"
      ],
      "execution_count": 175,
      "outputs": []
    },
    {
      "cell_type": "code",
      "metadata": {
        "colab": {
          "base_uri": "https://localhost:8080/"
        },
        "id": "BdEdiyw_ZZad",
        "outputId": "d40f54c6-2a2d-41ae-87a7-35adfeed0065"
      },
      "source": [
        "dados"
      ],
      "execution_count": 176,
      "outputs": [
        {
          "output_type": "execute_result",
          "data": {
            "text/plain": [
              "array([[1. , 3.5, 1.4, 0.2],\n",
              "       [4.9, 3. , 1.4, 0.2],\n",
              "       [4.7, 3.2, 1.3, 0.2],\n",
              "       [4.6, 3.1, 1.5, 0.2],\n",
              "       [5. , 3.6, 1.4, 0.2],\n",
              "       [5.4, 3.9, 1.7, 0.4],\n",
              "       [4.6, 3.4, 1.4, 0.3],\n",
              "       [5. , 3.4, 1.5, 0.2],\n",
              "       [4.4, 2.9, 1.4, 0.2],\n",
              "       [4.9, 3.1, 1.5, 0.1],\n",
              "       [5.4, 3.7, 1.5, 0.2],\n",
              "       [4.8, 3.4, 1.6, 0.2],\n",
              "       [4.8, 3. , 1.4, 0.1],\n",
              "       [4.3, 3. , 1.1, 0.1],\n",
              "       [5.8, 4. , 1.2, 0.2],\n",
              "       [5.7, 4.4, 1.5, 0.4],\n",
              "       [5.4, 3.9, 1.3, 0.4],\n",
              "       [5.1, 3.5, 1.4, 0.3],\n",
              "       [5.7, 3.8, 1.7, 0.3],\n",
              "       [5.1, 3.8, 1.5, 0.3],\n",
              "       [5.4, 3.4, 1.7, 0.2],\n",
              "       [5.1, 3.7, 1.5, 0.4],\n",
              "       [4.6, 3.6, 1. , 0.2],\n",
              "       [5.1, 3.3, 1.7, 0.5],\n",
              "       [4.8, 3.4, 1.9, 0.2],\n",
              "       [5. , 3. , 1.6, 0.2],\n",
              "       [5. , 3.4, 1.6, 0.4],\n",
              "       [5.2, 3.5, 1.5, 0.2],\n",
              "       [5.2, 3.4, 1.4, 0.2],\n",
              "       [4.7, 3.2, 1.6, 0.2],\n",
              "       [4.8, 3.1, 1.6, 0.2],\n",
              "       [5.4, 3.4, 1.5, 0.4],\n",
              "       [5.2, 4.1, 1.5, 0.1],\n",
              "       [5.5, 4.2, 1.4, 0.2],\n",
              "       [4.9, 3.1, 1.5, 0.1],\n",
              "       [5. , 3.2, 1.2, 0.2],\n",
              "       [5.5, 3.5, 1.3, 0.2],\n",
              "       [4.9, 3.1, 1.5, 0.1],\n",
              "       [4.4, 3. , 1.3, 0.2],\n",
              "       [5.1, 3.4, 1.5, 0.2],\n",
              "       [5. , 3.5, 1.3, 0.3],\n",
              "       [4.5, 2.3, 1.3, 0.3],\n",
              "       [4.4, 3.2, 1.3, 0.2],\n",
              "       [5. , 3.5, 1.6, 0.6],\n",
              "       [5.1, 3.8, 1.9, 0.4],\n",
              "       [4.8, 3. , 1.4, 0.3],\n",
              "       [5.1, 3.8, 1.6, 0.2],\n",
              "       [4.6, 3.2, 1.4, 0.2],\n",
              "       [5.3, 3.7, 1.5, 0.2],\n",
              "       [5. , 3.3, 1.4, 0.2],\n",
              "       [7. , 3.2, 4.7, 1.4],\n",
              "       [6.4, 3.2, 4.5, 1.5],\n",
              "       [6.9, 3.1, 4.9, 1.5],\n",
              "       [5.5, 2.3, 4. , 1.3],\n",
              "       [6.5, 2.8, 4.6, 1.5],\n",
              "       [5.7, 2.8, 4.5, 1.3],\n",
              "       [6.3, 3.3, 4.7, 1.6],\n",
              "       [4.9, 2.4, 3.3, 1. ],\n",
              "       [6.6, 2.9, 4.6, 1.3],\n",
              "       [5.2, 2.7, 3.9, 1.4],\n",
              "       [5. , 2. , 3.5, 1. ],\n",
              "       [5.9, 3. , 4.2, 1.5],\n",
              "       [6. , 2.2, 4. , 1. ],\n",
              "       [6.1, 2.9, 4.7, 1.4],\n",
              "       [5.6, 2.9, 3.6, 1.3],\n",
              "       [6.7, 3.1, 4.4, 1.4],\n",
              "       [5.6, 3. , 4.5, 1.5],\n",
              "       [5.8, 2.7, 4.1, 1. ],\n",
              "       [6.2, 2.2, 4.5, 1.5],\n",
              "       [5.6, 2.5, 3.9, 1.1],\n",
              "       [5.9, 3.2, 4.8, 1.8],\n",
              "       [6.1, 2.8, 4. , 1.3],\n",
              "       [6.3, 2.5, 4.9, 1.5],\n",
              "       [6.1, 2.8, 4.7, 1.2],\n",
              "       [6.4, 2.9, 4.3, 1.3],\n",
              "       [6.6, 3. , 4.4, 1.4],\n",
              "       [6.8, 2.8, 4.8, 1.4],\n",
              "       [6.7, 3. , 5. , 1.7],\n",
              "       [6. , 2.9, 4.5, 1.5],\n",
              "       [5.7, 2.6, 3.5, 1. ],\n",
              "       [5.5, 2.4, 3.8, 1.1],\n",
              "       [5.5, 2.4, 3.7, 1. ],\n",
              "       [5.8, 2.7, 3.9, 1.2],\n",
              "       [6. , 2.7, 5.1, 1.6],\n",
              "       [5.4, 3. , 4.5, 1.5],\n",
              "       [6. , 3.4, 4.5, 1.6],\n",
              "       [6.7, 3.1, 4.7, 1.5],\n",
              "       [6.3, 2.3, 4.4, 1.3],\n",
              "       [5.6, 3. , 4.1, 1.3],\n",
              "       [5.5, 2.5, 4. , 1.3],\n",
              "       [5.5, 2.6, 4.4, 1.2],\n",
              "       [6.1, 3. , 4.6, 1.4],\n",
              "       [5.8, 2.6, 4. , 1.2],\n",
              "       [5. , 2.3, 3.3, 1. ],\n",
              "       [5.6, 2.7, 4.2, 1.3],\n",
              "       [5.7, 3. , 4.2, 1.2],\n",
              "       [5.7, 2.9, 4.2, 1.3],\n",
              "       [6.2, 2.9, 4.3, 1.3],\n",
              "       [5.1, 2.5, 3. , 1.1],\n",
              "       [5.7, 2.8, 4.1, 1.3],\n",
              "       [6.3, 3.3, 6. , 2.5],\n",
              "       [5.8, 2.7, 5.1, 1.9],\n",
              "       [7.1, 3. , 5.9, 2.1],\n",
              "       [6.3, 2.9, 5.6, 1.8],\n",
              "       [6.5, 3. , 5.8, 2.2],\n",
              "       [7.6, 3. , 6.6, 2.1],\n",
              "       [4.9, 2.5, 4.5, 1.7],\n",
              "       [7.3, 2.9, 6.3, 1.8],\n",
              "       [6.7, 2.5, 5.8, 1.8],\n",
              "       [7.2, 3.6, 6.1, 2.5],\n",
              "       [6.5, 3.2, 5.1, 2. ],\n",
              "       [6.4, 2.7, 5.3, 1.9],\n",
              "       [6.8, 3. , 5.5, 2.1],\n",
              "       [5.7, 2.5, 5. , 2. ],\n",
              "       [5.8, 2.8, 5.1, 2.4],\n",
              "       [6.4, 3.2, 5.3, 2.3],\n",
              "       [6.5, 3. , 5.5, 1.8],\n",
              "       [7.7, 3.8, 6.7, 2.2],\n",
              "       [7.7, 2.6, 6.9, 2.3],\n",
              "       [6. , 2.2, 5. , 1.5],\n",
              "       [6.9, 3.2, 5.7, 2.3],\n",
              "       [5.6, 2.8, 4.9, 2. ],\n",
              "       [7.7, 2.8, 6.7, 2. ],\n",
              "       [6.3, 2.7, 4.9, 1.8],\n",
              "       [6.7, 3.3, 5.7, 2.1],\n",
              "       [7.2, 3.2, 6. , 1.8],\n",
              "       [6.2, 2.8, 4.8, 1.8],\n",
              "       [6.1, 3. , 4.9, 1.8],\n",
              "       [6.4, 2.8, 5.6, 2.1],\n",
              "       [7.2, 3. , 5.8, 1.6],\n",
              "       [7.4, 2.8, 6.1, 1.9],\n",
              "       [7.9, 3.8, 6.4, 2. ],\n",
              "       [6.4, 2.8, 5.6, 2.2],\n",
              "       [6.3, 2.8, 5.1, 1.5],\n",
              "       [6.1, 2.6, 5.6, 1.4],\n",
              "       [7.7, 3. , 6.1, 2.3],\n",
              "       [6.3, 3.4, 5.6, 2.4],\n",
              "       [6.4, 3.1, 5.5, 1.8],\n",
              "       [6. , 3. , 4.8, 1.8],\n",
              "       [6.9, 3.1, 5.4, 2.1],\n",
              "       [6.7, 3.1, 5.6, 2.4],\n",
              "       [6.9, 3.1, 5.1, 2.3],\n",
              "       [5.8, 2.7, 5.1, 1.9],\n",
              "       [6.8, 3.2, 5.9, 2.3],\n",
              "       [6.7, 3.3, 5.7, 2.5],\n",
              "       [6.7, 3. , 5.2, 2.3],\n",
              "       [6.3, 2.5, 5. , 1.9],\n",
              "       [6.5, 3. , 5.2, 2. ],\n",
              "       [6.2, 3.4, 5.4, 2.3],\n",
              "       [5.9, 3. , 5.1, 1.8]])"
            ]
          },
          "metadata": {
            "tags": []
          },
          "execution_count": 176
        }
      ]
    },
    {
      "cell_type": "code",
      "metadata": {
        "id": "ZPjgRN03ZZXq"
      },
      "source": [
        "kmeansModel = KMeans(n_clusters=3).fit(dados)"
      ],
      "execution_count": 177,
      "outputs": []
    },
    {
      "cell_type": "code",
      "metadata": {
        "id": "1aJ1vujxZZGm"
      },
      "source": [
        "Iris_clusters = kmeansModel.fit_transform(dados)"
      ],
      "execution_count": 178,
      "outputs": []
    },
    {
      "cell_type": "code",
      "metadata": {
        "colab": {
          "base_uri": "https://localhost:8080/"
        },
        "id": "SR4Xh-K9bDvN",
        "outputId": "af23d4c1-81ff-4a22-a03b-94f0cdd93254"
      },
      "source": [
        "kmeansModel.cluster_centers_ #médias das colunas da petala e cepala"
      ],
      "execution_count": 179,
      "outputs": [
        {
          "output_type": "execute_result",
          "data": {
            "text/plain": [
              "array([[6.85      , 3.07368421, 5.74210526, 2.07105263],\n",
              "       [4.924     , 3.418     , 1.464     , 0.244     ],\n",
              "       [5.9016129 , 2.7483871 , 4.39354839, 1.43387097]])"
            ]
          },
          "metadata": {
            "tags": []
          },
          "execution_count": 179
        }
      ]
    },
    {
      "cell_type": "code",
      "metadata": {
        "id": "1eKvFjh2d74_"
      },
      "source": [
        "#Descobrir o número ideal de clusters\n",
        "#Método das distorções\n",
        "#Dica: Todo método se apoia na avaliação do erro"
      ],
      "execution_count": 180,
      "outputs": []
    },
    {
      "cell_type": "code",
      "metadata": {
        "id": "PhQdYmBAeZ1J"
      },
      "source": [
        "distorcoes=[]#Matriz para gravar as distorções"
      ],
      "execution_count": 181,
      "outputs": []
    },
    {
      "cell_type": "code",
      "metadata": {
        "id": "qPNjMmWrehjo"
      },
      "source": [
        "k= range(1,11)\n",
        "for n in k:\n",
        "  kmeansModel = KMeans(n_clusters=n).fit(dados)\n",
        "  distorcoes.append(\n",
        "      sum(np.min(\n",
        "          cdist(dados, kmeansModel.cluster_centers_,'euclidean'), axis=1)/dados.shape[0]\n",
        "      )\n",
        "  )"
      ],
      "execution_count": 182,
      "outputs": []
    },
    {
      "cell_type": "code",
      "metadata": {
        "colab": {
          "base_uri": "https://localhost:8080/"
        },
        "id": "ffTKenzwg-n5",
        "outputId": "898f39cc-e5e7-435e-c446-e67749540dcd"
      },
      "source": [
        "distorcoes"
      ],
      "execution_count": 183,
      "outputs": [
        {
          "output_type": "execute_result",
          "data": {
            "text/plain": [
              "[1.9618657405842204,\n",
              " 0.8819856769582625,\n",
              " 0.676350413034968,\n",
              " 0.5860855744781953,\n",
              " 0.5575716736741386,\n",
              " 0.5126911292142622,\n",
              " 0.4651021464736337,\n",
              " 0.43654354733929684,\n",
              " 0.40837413929574773,\n",
              " 0.3949694228515891]"
            ]
          },
          "metadata": {
            "tags": []
          },
          "execution_count": 183
        }
      ]
    },
    {
      "cell_type": "code",
      "metadata": {
        "id": "3P19E9XOhhUr"
      },
      "source": [
        "ax.plot(k, distorcoes)\n",
        "ax.set(xlabel='n Clusters', ylabel='Distorcao', title='Elbow por distorção')\n",
        "ax.grid()\n",
        "fig.savefig('elbow_distorcao.png')\n",
        "plt.show()"
      ],
      "execution_count": 184,
      "outputs": []
    },
    {
      "cell_type": "code",
      "metadata": {
        "id": "z9SZvUvakhU0"
      },
      "source": [
        "#Até aqui caculamos as distorções\n",
        "\n",
        "#Agora calcular o número de ótimos grupos"
      ],
      "execution_count": 185,
      "outputs": []
    },
    {
      "cell_type": "code",
      "metadata": {
        "id": "pr-_u0GHlC7-"
      },
      "source": [
        "#Requisito: Possuir a matriz que representa os erros(distorcoes ou soma dos qradrados)\n",
        "#Medidas de inercia de cada modelo avaliado"
      ],
      "execution_count": 186,
      "outputs": []
    },
    {
      "cell_type": "code",
      "metadata": {
        "id": "mcbUR1J9lOPA"
      },
      "source": [
        "soma_quadrados = [] #vetor com as somas dos quadrados dos erros de cada cluster"
      ],
      "execution_count": 187,
      "outputs": []
    },
    {
      "cell_type": "code",
      "metadata": {
        "id": "8qOMvrVSlln2"
      },
      "source": [
        "k= range(2,100)\n",
        "for n in k:\n",
        "  kmeansModel = KMeans(n_clusters=n).fit(dados)\n",
        "  soma_quadrados.append(kmeansModel.inertia_)"
      ],
      "execution_count": 188,
      "outputs": []
    },
    {
      "cell_type": "code",
      "metadata": {
        "id": "5ZoQ7x-yme8p"
      },
      "source": [
        "#Definir o n_clusters ótimo"
      ],
      "execution_count": 189,
      "outputs": []
    },
    {
      "cell_type": "code",
      "metadata": {
        "id": "FGrdl2lmmnlc"
      },
      "source": [
        "x1 = 2 #é o primeiro valor do intervalo de n_clusters testados\n",
        "y1 = soma_quadrados[0] #primeira inercia"
      ],
      "execution_count": 190,
      "outputs": []
    },
    {
      "cell_type": "code",
      "metadata": {
        "id": "wwFdTqKHm3B4"
      },
      "source": [
        "x2 = 20 #ultimo valor de n_clusters testados\n",
        "y2 = soma_quadrados[len(soma_quadrados)-1]"
      ],
      "execution_count": 191,
      "outputs": []
    },
    {
      "cell_type": "code",
      "metadata": {
        "id": "U7Wlc5SLn_bl"
      },
      "source": [
        "import math"
      ],
      "execution_count": 192,
      "outputs": []
    },
    {
      "cell_type": "code",
      "metadata": {
        "id": "298mZAMpnTje"
      },
      "source": [
        "distancias = [] #maior distancia\n",
        "for i in range(len(soma_quadrados)):\n",
        "  x0 =  i + 2\n",
        "  y0 = soma_quadrados[i]\n",
        "  numerador = abs((y2-y1) * x0 - (x2-x1) *y0 + x2 * y1 * x1)\n",
        "  denominador = math.sqrt((y2-y1)**2 + (x2-x1)**2)\n",
        "  distancias.append(numerador/denominador)\n",
        "\n",
        "n_clusters_otimo =  distancias.index(max(distancias)) + 2 # 1 é o deslocamento do primeiro numero de cluster avaliado"
      ],
      "execution_count": 196,
      "outputs": []
    },
    {
      "cell_type": "code",
      "metadata": {
        "colab": {
          "base_uri": "https://localhost:8080/"
        },
        "id": "TVxboXVApiot",
        "outputId": "079a4ad7-2433-4841-8293-026fa46f9676"
      },
      "source": [
        "distancias"
      ],
      "execution_count": 197,
      "outputs": [
        {
          "output_type": "execute_result",
          "data": {
            "text/plain": [
              "[20.0177474204283,\n",
              " 26.890626241393623,\n",
              " 28.209673408003624,\n",
              " 28.898766620760288,\n",
              " 29.034961676505002,\n",
              " 28.883994896824113,\n",
              " 28.402960560007088,\n",
              " 27.8703126447977,\n",
              " 27.089207115689927,\n",
              " 26.294868129460472,\n",
              " 25.48937272771528,\n",
              " 24.611432925343028,\n",
              " 23.762191081291277,\n",
              " 22.95334307601,\n",
              " 22.078024123518638,\n",
              " 21.163867009116395,\n",
              " 20.273790090851776,\n",
              " 19.348590850425303,\n",
              " 18.467036197306058,\n",
              " 17.53985757840114,\n",
              " 16.59819440317575,\n",
              " 15.689464487361334,\n",
              " 14.754805208817185,\n",
              " 13.82236686073776,\n",
              " 12.893262189752566,\n",
              " 11.898218741335247,\n",
              " 10.972199405102938,\n",
              " 10.015736090193036,\n",
              " 9.04131469296628,\n",
              " 8.09311444842159,\n",
              " 7.133094221334788,\n",
              " 6.148747383612992,\n",
              " 5.218359969956199,\n",
              " 4.243439481804428,\n",
              " 3.29562972327666,\n",
              " 2.3272803247573837,\n",
              " 1.3500821283337816,\n",
              " 0.406143028339219,\n",
              " 0.5581939469655745,\n",
              " 1.5239862901642172,\n",
              " 2.4993197126863587,\n",
              " 3.48327224175054,\n",
              " 4.4728998554644654,\n",
              " 5.445717103519407,\n",
              " 6.414091081677804,\n",
              " 7.371217985907859,\n",
              " 8.364608302739112,\n",
              " 9.333916809537683,\n",
              " 10.28173982246271,\n",
              " 11.269903076456881,\n",
              " 12.247237719751322,\n",
              " 13.224046978832812,\n",
              " 14.190622722601407,\n",
              " 15.169326935421847,\n",
              " 16.13035936566208,\n",
              " 17.14111371574491,\n",
              " 18.10804439140495,\n",
              " 19.090226511693295,\n",
              " 20.067487193132514,\n",
              " 21.042403198747607,\n",
              " 22.03176897049132,\n",
              " 23.01160301441047,\n",
              " 23.99647071516598,\n",
              " 24.97905622511297,\n",
              " 25.963968558022493,\n",
              " 26.943313773588166,\n",
              " 27.933186226546965,\n",
              " 28.915749207882886,\n",
              " 29.89071324619705,\n",
              " 30.880603552017444,\n",
              " 31.863754402581936,\n",
              " 32.838194331887564,\n",
              " 33.83099975496719,\n",
              " 34.81344796790708,\n",
              " 35.804921227456454,\n",
              " 36.7898008301197,\n",
              " 37.778120084118854,\n",
              " 38.7695992946221,\n",
              " 39.752310199668464,\n",
              " 40.73765057618837,\n",
              " 41.72419474566222,\n",
              " 42.71070065900406,\n",
              " 43.69757383121319,\n",
              " 44.68633940675247,\n",
              " 45.67453369072038,\n",
              " 46.66005004544755,\n",
              " 47.644655904232856,\n",
              " 48.63483185583893,\n",
              " 49.62748935520811,\n",
              " 50.60986360629278,\n",
              " 51.60307454437172,\n",
              " 52.591590179848524,\n",
              " 53.579284583691496,\n",
              " 54.56819298212362,\n",
              " 55.55935084111796,\n",
              " 56.54797359376441,\n",
              " 57.53913145275875,\n",
              " 58.52771849968198]"
            ]
          },
          "metadata": {
            "tags": []
          },
          "execution_count": 197
        }
      ]
    },
    {
      "cell_type": "code",
      "metadata": {
        "colab": {
          "base_uri": "https://localhost:8080/"
        },
        "id": "v-72cEV6rDxc",
        "outputId": "2aac3b1c-14c5-4bf4-c263-ffd9ab494bea"
      },
      "source": [
        "n_clusters_otimo"
      ],
      "execution_count": 198,
      "outputs": [
        {
          "output_type": "execute_result",
          "data": {
            "text/plain": [
              "99"
            ]
          },
          "metadata": {
            "tags": []
          },
          "execution_count": 198
        }
      ]
    },
    {
      "cell_type": "code",
      "metadata": {
        "id": "494EtyoQtPc9"
      },
      "source": [
        ""
      ],
      "execution_count": 195,
      "outputs": []
    }
  ]
}
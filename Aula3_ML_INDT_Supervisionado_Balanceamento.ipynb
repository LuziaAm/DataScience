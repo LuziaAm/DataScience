{
  "nbformat": 4,
  "nbformat_minor": 0,
  "metadata": {
    "colab": {
      "name": "Projeto.ipynb",
      "provenance": [],
      "collapsed_sections": [],
      "mount_file_id": "1w9T5G6DXLRJO-DByql7d1vuRIN20gGjp",
      "authorship_tag": "ABX9TyP38U/vzYgV8T+ZbL86u22i",
      "include_colab_link": true
    },
    "kernelspec": {
      "display_name": "Python 3",
      "name": "python3"
    },
    "language_info": {
      "name": "python"
    }
  },
  "cells": [
    {
      "cell_type": "markdown",
      "metadata": {
        "id": "view-in-github",
        "colab_type": "text"
      },
      "source": [
        "<a href=\"https://colab.research.google.com/github/LuziaAm/DataScience/blob/main/Aula3_ML_INDT_Supervisionado_Balanceamento.ipynb\" target=\"_parent\"><img src=\"https://colab.research.google.com/assets/colab-badge.svg\" alt=\"Open In Colab\"/></a>"
      ]
    },
    {
      "cell_type": "code",
      "metadata": {
        "id": "xcd6ZeA0UkWv"
      },
      "source": [
        "#Aula3_ML_INDT_Supervisionado_Balanceamento.ipynb"
      ],
      "execution_count": 286,
      "outputs": []
    },
    {
      "cell_type": "code",
      "metadata": {
        "id": "Ye_nBAiQkr3Z"
      },
      "source": [
        "#Balancear dados\n",
        "#Auto: Luzia Amorim\n",
        "#15/07/21"
      ],
      "execution_count": 287,
      "outputs": []
    },
    {
      "cell_type": "code",
      "metadata": {
        "id": "boyvCTdyZKvt"
      },
      "source": [
        "import pandas as pd\n",
        "import numpy as np\n",
        "import matplotlib.pyplot as plt\n"
      ],
      "execution_count": 288,
      "outputs": []
    },
    {
      "cell_type": "code",
      "metadata": {
        "id": "0j4BJhRNgP98"
      },
      "source": [
        "dados = pd.read_csv('/content/fertility_Diagnosis.txt', ',')"
      ],
      "execution_count": 289,
      "outputs": []
    },
    {
      "cell_type": "code",
      "metadata": {
        "id": "MWOdrXQRgcl7"
      },
      "source": [
        "# Avaliar a frequencia original das classes"
      ],
      "execution_count": 290,
      "outputs": []
    },
    {
      "cell_type": "code",
      "metadata": {
        "colab": {
          "base_uri": "https://localhost:8080/"
        },
        "id": "8t_u9ZRdlKA2",
        "outputId": "2de8e107-7790-49c9-9963-52a4a72f424b"
      },
      "source": [
        "dados.Output.value_counts()"
      ],
      "execution_count": 291,
      "outputs": [
        {
          "output_type": "execute_result",
          "data": {
            "text/plain": [
              "N    88\n",
              "O    12\n",
              "Name: Output, dtype: int64"
            ]
          },
          "metadata": {
            "tags": []
          },
          "execution_count": 291
        }
      ]
    },
    {
      "cell_type": "code",
      "metadata": {
        "id": "j3JWF_oUmDTX"
      },
      "source": [
        "#Balancear os dados (em função da Classe)\n",
        "#Usando SMOTE"
      ],
      "execution_count": 292,
      "outputs": []
    },
    {
      "cell_type": "code",
      "metadata": {
        "id": "0p_2EvQmmKwl"
      },
      "source": [
        "from imblearn.over_sampling import SMOTE"
      ],
      "execution_count": 293,
      "outputs": []
    },
    {
      "cell_type": "code",
      "metadata": {
        "id": "Lp7n062kmfub"
      },
      "source": [
        "#Segmetar os dados em duas bases: Uma com os atributos e outra com as classes"
      ],
      "execution_count": 294,
      "outputs": []
    },
    {
      "cell_type": "code",
      "metadata": {
        "id": "82_HGyOvmzaq"
      },
      "source": [
        "dados_atributos=dados.drop(columns='Output')"
      ],
      "execution_count": 295,
      "outputs": []
    },
    {
      "cell_type": "code",
      "metadata": {
        "id": "ecim_9sgm-3c"
      },
      "source": [
        "dados_classe = dados['Output']"
      ],
      "execution_count": 296,
      "outputs": []
    },
    {
      "cell_type": "code",
      "metadata": {
        "id": "mN4jUvJbnFTp"
      },
      "source": [
        "#Construir um objeto a partir do SMOTE"
      ],
      "execution_count": 297,
      "outputs": []
    },
    {
      "cell_type": "code",
      "metadata": {
        "id": "J1RGtxkDnJQ2"
      },
      "source": [
        "balanceador = SMOTE()"
      ],
      "execution_count": 298,
      "outputs": []
    },
    {
      "cell_type": "code",
      "metadata": {
        "id": "o36RPlBUnQQZ"
      },
      "source": [
        "#Executar o balanceador"
      ],
      "execution_count": 299,
      "outputs": []
    },
    {
      "cell_type": "code",
      "metadata": {
        "colab": {
          "base_uri": "https://localhost:8080/"
        },
        "id": "7cOZQ0LYnSrn",
        "outputId": "2a75411b-0592-41d2-aca9-f62efabeade2"
      },
      "source": [
        "dados_atributos_b,dados_classe_b = balanceador.fit_resample(\n",
        "    dados_atributos,dados_classe\n",
        ")"
      ],
      "execution_count": 300,
      "outputs": [
        {
          "output_type": "stream",
          "text": [
            "/usr/local/lib/python3.7/dist-packages/sklearn/utils/deprecation.py:87: FutureWarning: Function safe_indexing is deprecated; safe_indexing is deprecated in version 0.22 and will be removed in version 0.24.\n",
            "  warnings.warn(msg, category=FutureWarning)\n"
          ],
          "name": "stderr"
        }
      ]
    },
    {
      "cell_type": "code",
      "metadata": {
        "id": "KwjgrWdDpDtb"
      },
      "source": [
        "#dados_classe_b.value_counts() #não funcionou no colab"
      ],
      "execution_count": 301,
      "outputs": []
    },
    {
      "cell_type": "code",
      "metadata": {
        "id": "FSJZwpndox6v"
      },
      "source": [
        "from collections import Counter"
      ],
      "execution_count": 302,
      "outputs": []
    },
    {
      "cell_type": "code",
      "metadata": {
        "id": "ST_Tp7SMn2-3"
      },
      "source": [
        "#Visualizar os dados Balanceados"
      ],
      "execution_count": 303,
      "outputs": []
    },
    {
      "cell_type": "code",
      "metadata": {
        "id": "8YptKThmnrXB"
      },
      "source": [
        "contagem_classes = Counter(dados_classe_b)"
      ],
      "execution_count": 304,
      "outputs": []
    },
    {
      "cell_type": "code",
      "metadata": {
        "colab": {
          "base_uri": "https://localhost:8080/"
        },
        "id": "zmBZ-hsso_Ku",
        "outputId": "76a7b308-4672-46a0-9144-7380c2536389"
      },
      "source": [
        "contagem_classes"
      ],
      "execution_count": 305,
      "outputs": [
        {
          "output_type": "execute_result",
          "data": {
            "text/plain": [
              "Counter({'N': 88, 'O': 88})"
            ]
          },
          "metadata": {
            "tags": []
          },
          "execution_count": 305
        }
      ]
    },
    {
      "cell_type": "code",
      "metadata": {
        "id": "SqbU4aqWqWoD"
      },
      "source": [
        "#Recompor os dados"
      ],
      "execution_count": 306,
      "outputs": []
    },
    {
      "cell_type": "code",
      "metadata": {
        "id": "QI7-L8Wir7Pb"
      },
      "source": [
        "dados_atributos_b =  pd.DataFrame(dados_atributos_b, columns=['Season',\n",
        "                                                              'Age',\n",
        "                                                              'Childish_diseases',\n",
        "                                                              'Accident',\n",
        "                                                              'Surgical_intervention',\n",
        "                                                              'High_fevers',\n",
        "                                                              'alcohol_consumption',\n",
        "                                                              'Smoking',\n",
        "                                                              'hours_sitting'])"
      ],
      "execution_count": 307,
      "outputs": []
    },
    {
      "cell_type": "code",
      "metadata": {
        "id": "eESCctVltJK8"
      },
      "source": [
        "dados_classe_b =  pd.DataFrame(dados_classe_b, columns=['Output'])"
      ],
      "execution_count": 308,
      "outputs": []
    },
    {
      "cell_type": "code",
      "metadata": {
        "id": "-xxerhxZqaFi"
      },
      "source": [
        "dados = dados_atributos_b.join(dados_classe_b, how='left')"
      ],
      "execution_count": 309,
      "outputs": []
    },
    {
      "cell_type": "code",
      "metadata": {
        "colab": {
          "base_uri": "https://localhost:8080/",
          "height": 204
        },
        "id": "P0ZDtE2jqWdC",
        "outputId": "2f7b8dc5-18a5-4de7-de36-010d6e7855b4"
      },
      "source": [
        "dados.head() # FIM DO BALANCEAMENTO"
      ],
      "execution_count": 310,
      "outputs": [
        {
          "output_type": "execute_result",
          "data": {
            "text/html": [
              "<div>\n",
              "<style scoped>\n",
              "    .dataframe tbody tr th:only-of-type {\n",
              "        vertical-align: middle;\n",
              "    }\n",
              "\n",
              "    .dataframe tbody tr th {\n",
              "        vertical-align: top;\n",
              "    }\n",
              "\n",
              "    .dataframe thead th {\n",
              "        text-align: right;\n",
              "    }\n",
              "</style>\n",
              "<table border=\"1\" class=\"dataframe\">\n",
              "  <thead>\n",
              "    <tr style=\"text-align: right;\">\n",
              "      <th></th>\n",
              "      <th>Season</th>\n",
              "      <th>Age</th>\n",
              "      <th>Childish_diseases</th>\n",
              "      <th>Accident</th>\n",
              "      <th>Surgical_intervention</th>\n",
              "      <th>High_fevers</th>\n",
              "      <th>alcohol_consumption</th>\n",
              "      <th>Smoking</th>\n",
              "      <th>hours_sitting</th>\n",
              "      <th>Output</th>\n",
              "    </tr>\n",
              "  </thead>\n",
              "  <tbody>\n",
              "    <tr>\n",
              "      <th>0</th>\n",
              "      <td>-0.33</td>\n",
              "      <td>0.69</td>\n",
              "      <td>0.0</td>\n",
              "      <td>1.0</td>\n",
              "      <td>1.0</td>\n",
              "      <td>0.0</td>\n",
              "      <td>0.8</td>\n",
              "      <td>0.0</td>\n",
              "      <td>0.88</td>\n",
              "      <td>N</td>\n",
              "    </tr>\n",
              "    <tr>\n",
              "      <th>1</th>\n",
              "      <td>-0.33</td>\n",
              "      <td>0.94</td>\n",
              "      <td>1.0</td>\n",
              "      <td>0.0</td>\n",
              "      <td>1.0</td>\n",
              "      <td>0.0</td>\n",
              "      <td>0.8</td>\n",
              "      <td>1.0</td>\n",
              "      <td>0.31</td>\n",
              "      <td>O</td>\n",
              "    </tr>\n",
              "    <tr>\n",
              "      <th>2</th>\n",
              "      <td>-0.33</td>\n",
              "      <td>0.50</td>\n",
              "      <td>1.0</td>\n",
              "      <td>0.0</td>\n",
              "      <td>0.0</td>\n",
              "      <td>0.0</td>\n",
              "      <td>1.0</td>\n",
              "      <td>-1.0</td>\n",
              "      <td>0.50</td>\n",
              "      <td>N</td>\n",
              "    </tr>\n",
              "    <tr>\n",
              "      <th>3</th>\n",
              "      <td>-0.33</td>\n",
              "      <td>0.75</td>\n",
              "      <td>0.0</td>\n",
              "      <td>1.0</td>\n",
              "      <td>1.0</td>\n",
              "      <td>0.0</td>\n",
              "      <td>1.0</td>\n",
              "      <td>-1.0</td>\n",
              "      <td>0.38</td>\n",
              "      <td>N</td>\n",
              "    </tr>\n",
              "    <tr>\n",
              "      <th>4</th>\n",
              "      <td>-0.33</td>\n",
              "      <td>0.67</td>\n",
              "      <td>1.0</td>\n",
              "      <td>1.0</td>\n",
              "      <td>0.0</td>\n",
              "      <td>0.0</td>\n",
              "      <td>0.8</td>\n",
              "      <td>-1.0</td>\n",
              "      <td>0.50</td>\n",
              "      <td>O</td>\n",
              "    </tr>\n",
              "  </tbody>\n",
              "</table>\n",
              "</div>"
            ],
            "text/plain": [
              "   Season   Age  Childish_diseases  ...  Smoking  hours_sitting  Output\n",
              "0   -0.33  0.69                0.0  ...      0.0           0.88       N\n",
              "1   -0.33  0.94                1.0  ...      1.0           0.31       O\n",
              "2   -0.33  0.50                1.0  ...     -1.0           0.50       N\n",
              "3   -0.33  0.75                0.0  ...     -1.0           0.38       N\n",
              "4   -0.33  0.67                1.0  ...     -1.0           0.50       O\n",
              "\n",
              "[5 rows x 10 columns]"
            ]
          },
          "metadata": {
            "tags": []
          },
          "execution_count": 310
        }
      ]
    },
    {
      "cell_type": "code",
      "metadata": {
        "id": "xYxFCyXKx8hl"
      },
      "source": [
        "#CRIAR UM MODELO CLASSIFICADOR"
      ],
      "execution_count": 311,
      "outputs": []
    },
    {
      "cell_type": "code",
      "metadata": {
        "id": "8SF6pD9uyF9A"
      },
      "source": [
        "from sklearn.model_selection import train_test_split #Divisão de porcentagem de amostra teste"
      ],
      "execution_count": 312,
      "outputs": []
    },
    {
      "cell_type": "code",
      "metadata": {
        "id": "EVC1j9OKzHft"
      },
      "source": [
        "#a)Segmentar m atributos e classes"
      ],
      "execution_count": 313,
      "outputs": []
    },
    {
      "cell_type": "code",
      "metadata": {
        "id": "u42_xlpczLMp"
      },
      "source": [
        "dados_atributos = dados.drop(columns='Output')\n",
        "dados_classe =  dados['Output']"
      ],
      "execution_count": 314,
      "outputs": []
    },
    {
      "cell_type": "code",
      "metadata": {
        "id": "K3Z2efAjzeXZ"
      },
      "source": [
        "#b) Segmentar em base de treinamento e base para teste"
      ],
      "execution_count": 315,
      "outputs": []
    },
    {
      "cell_type": "code",
      "metadata": {
        "id": "S3JcSti0zeKA"
      },
      "source": [
        "atributos_treinamento, atributos_testes, classe_treinamento, classe_testes = train_test_split(dados_atributos,dados_classe, test_size=0.3)"
      ],
      "execution_count": 316,
      "outputs": []
    },
    {
      "cell_type": "code",
      "metadata": {
        "id": "wFoCL-PA0RtW"
      },
      "source": [
        "#c)Obter o modelo"
      ],
      "execution_count": 317,
      "outputs": []
    },
    {
      "cell_type": "code",
      "metadata": {
        "id": "FDB9ogOI0a0-"
      },
      "source": [
        "from sklearn.ensemble import RandomForestClassifier"
      ],
      "execution_count": 318,
      "outputs": []
    },
    {
      "cell_type": "code",
      "metadata": {
        "id": "vkvUM56R3y3j"
      },
      "source": [
        "#c)Treinar o modelo"
      ],
      "execution_count": 319,
      "outputs": []
    },
    {
      "cell_type": "code",
      "metadata": {
        "id": "wZMz-nJK354C"
      },
      "source": [
        "rf = RandomForestClassifier() #instancia"
      ],
      "execution_count": 320,
      "outputs": []
    },
    {
      "cell_type": "code",
      "metadata": {
        "id": "RbF1piMD4ELp"
      },
      "source": [
        "fertility_RF = rf.fit(atributos_treinamento, classe_treinamento)"
      ],
      "execution_count": 321,
      "outputs": []
    },
    {
      "cell_type": "code",
      "metadata": {
        "id": "n9Ubki4K4y8A"
      },
      "source": [
        "#Pre testar o modelo utilizando as classes para teste"
      ],
      "execution_count": 322,
      "outputs": []
    },
    {
      "cell_type": "code",
      "metadata": {
        "id": "Jds-WHQN48jX"
      },
      "source": [
        "test_fertility = fertility_RF.predict(atributos_testes)"
      ],
      "execution_count": 323,
      "outputs": []
    },
    {
      "cell_type": "code",
      "metadata": {
        "colab": {
          "base_uri": "https://localhost:8080/"
        },
        "id": "vjGW0UDm5LJ0",
        "outputId": "556abe0a-2e97-4da1-fb0e-e173137999bd"
      },
      "source": [
        "test_fertility"
      ],
      "execution_count": 324,
      "outputs": [
        {
          "output_type": "execute_result",
          "data": {
            "text/plain": [
              "array(['N', 'N', 'O', 'O', 'N', 'N', 'N', 'N', 'O', 'N', 'N', 'O', 'N',\n",
              "       'N', 'O', 'O', 'O', 'O', 'O', 'O', 'O', 'N', 'N', 'N', 'N', 'O',\n",
              "       'N', 'O', 'O', 'O', 'O', 'N', 'O', 'O', 'N', 'O', 'N', 'N', 'N',\n",
              "       'O', 'O', 'O', 'O', 'N', 'N', 'N', 'N', 'O', 'N', 'O', 'O', 'N',\n",
              "       'N'], dtype=object)"
            ]
          },
          "metadata": {
            "tags": []
          },
          "execution_count": 324
        }
      ]
    },
    {
      "cell_type": "code",
      "metadata": {
        "colab": {
          "base_uri": "https://localhost:8080/"
        },
        "id": "yoi8ZEji5vBs",
        "outputId": "645c9c1d-1026-4793-f4ca-ce0b26355e6f"
      },
      "source": [
        "for i in range(0,len(classe_testes)):\n",
        "  print('Classe:', classe_testes.iloc[i],':',test_fertility[i])"
      ],
      "execution_count": 325,
      "outputs": [
        {
          "output_type": "stream",
          "text": [
            "Classe: N : N\n",
            "Classe: N : N\n",
            "Classe: O : O\n",
            "Classe: O : O\n",
            "Classe: N : N\n",
            "Classe: N : N\n",
            "Classe: N : N\n",
            "Classe: N : N\n",
            "Classe: O : O\n",
            "Classe: N : N\n",
            "Classe: N : N\n",
            "Classe: O : O\n",
            "Classe: N : N\n",
            "Classe: N : N\n",
            "Classe: O : O\n",
            "Classe: N : O\n",
            "Classe: N : O\n",
            "Classe: O : O\n",
            "Classe: O : O\n",
            "Classe: N : O\n",
            "Classe: O : O\n",
            "Classe: N : N\n",
            "Classe: N : N\n",
            "Classe: N : N\n",
            "Classe: N : N\n",
            "Classe: O : O\n",
            "Classe: N : N\n",
            "Classe: O : O\n",
            "Classe: O : O\n",
            "Classe: O : O\n",
            "Classe: N : O\n",
            "Classe: N : N\n",
            "Classe: O : O\n",
            "Classe: O : O\n",
            "Classe: N : N\n",
            "Classe: O : O\n",
            "Classe: N : N\n",
            "Classe: N : N\n",
            "Classe: O : N\n",
            "Classe: O : O\n",
            "Classe: O : O\n",
            "Classe: N : O\n",
            "Classe: O : O\n",
            "Classe: N : N\n",
            "Classe: N : N\n",
            "Classe: O : N\n",
            "Classe: N : N\n",
            "Classe: O : O\n",
            "Classe: O : N\n",
            "Classe: O : O\n",
            "Classe: O : O\n",
            "Classe: N : N\n",
            "Classe: N : N\n"
          ],
          "name": "stdout"
        }
      ]
    },
    {
      "cell_type": "code",
      "metadata": {
        "id": "QbVdssHx9Ts_"
      },
      "source": [
        "from pickle import dump"
      ],
      "execution_count": 326,
      "outputs": []
    },
    {
      "cell_type": "code",
      "metadata": {
        "id": "yJdtR8X29hc0"
      },
      "source": [
        "dump(test_fertility,open('random.pkl','wb'))"
      ],
      "execution_count": 327,
      "outputs": []
    },
    {
      "cell_type": "code",
      "metadata": {
        "id": "ybgoKV0U9p6i"
      },
      "source": [
        "from sklearn.tree import DecisionTreeClassifier"
      ],
      "execution_count": 328,
      "outputs": []
    },
    {
      "cell_type": "code",
      "metadata": {
        "id": "oxo6CGXA-UcR"
      },
      "source": [
        "rf1 = DecisionTreeClassifier()"
      ],
      "execution_count": 329,
      "outputs": []
    },
    {
      "cell_type": "code",
      "metadata": {
        "id": "GEleE7O_-mwl"
      },
      "source": [
        "fertility_DTC = rf1.fit(atributos_treinamento,classe_treinamento)"
      ],
      "execution_count": 330,
      "outputs": []
    },
    {
      "cell_type": "code",
      "metadata": {
        "id": "LiRrDwNb-9Uz"
      },
      "source": [
        "test_fertility_DTC = fertility_DTC.predict(atributos_testes)"
      ],
      "execution_count": 331,
      "outputs": []
    },
    {
      "cell_type": "code",
      "metadata": {
        "id": "ZRw1Zg4z_QX6",
        "outputId": "f13e61bd-0762-49ed-9c0e-23417397500c",
        "colab": {
          "base_uri": "https://localhost:8080/"
        }
      },
      "source": [
        "test_fertility_DTC"
      ],
      "execution_count": 332,
      "outputs": [
        {
          "output_type": "execute_result",
          "data": {
            "text/plain": [
              "array(['N', 'N', 'O', 'O', 'N', 'N', 'N', 'N', 'O', 'N', 'N', 'O', 'N',\n",
              "       'N', 'O', 'O', 'O', 'O', 'O', 'O', 'O', 'N', 'N', 'N', 'N', 'O',\n",
              "       'N', 'O', 'O', 'O', 'O', 'N', 'O', 'O', 'N', 'O', 'N', 'N', 'N',\n",
              "       'O', 'O', 'O', 'N', 'N', 'N', 'N', 'N', 'O', 'N', 'O', 'O', 'N',\n",
              "       'N'], dtype=object)"
            ]
          },
          "metadata": {
            "tags": []
          },
          "execution_count": 332
        }
      ]
    },
    {
      "cell_type": "code",
      "metadata": {
        "id": "h41DOLVN_eM2"
      },
      "source": [
        ""
      ],
      "execution_count": 332,
      "outputs": []
    },
    {
      "cell_type": "code",
      "metadata": {
        "id": "sG-C-ais_dOy"
      },
      "source": [
        "#Teste preliminar de acurácia"
      ],
      "execution_count": 333,
      "outputs": []
    },
    {
      "cell_type": "code",
      "metadata": {
        "id": "Wq96Us_1_iqa"
      },
      "source": [
        "from sklearn import metrics"
      ],
      "execution_count": 334,
      "outputs": []
    },
    {
      "cell_type": "code",
      "metadata": {
        "colab": {
          "base_uri": "https://localhost:8080/"
        },
        "id": "uQ2ImxLP_oeB",
        "outputId": "31bbccf6-0157-4d16-ec46-0573661aebf4"
      },
      "source": [
        "metrics.accuracy_score(classe_testes,test_fertility)"
      ],
      "execution_count": 335,
      "outputs": [
        {
          "output_type": "execute_result",
          "data": {
            "text/plain": [
              "0.8490566037735849"
            ]
          },
          "metadata": {
            "tags": []
          },
          "execution_count": 335
        }
      ]
    },
    {
      "cell_type": "code",
      "metadata": {
        "id": "jX_9WBHfqswB"
      },
      "source": [
        "from sklearn.metrics import confusion_matrix\n",
        "import matplotlib.pyplot as plt\n",
        "from sklearn.metrics import plot_confusion_matrix"
      ],
      "execution_count": 336,
      "outputs": []
    },
    {
      "cell_type": "code",
      "metadata": {
        "id": "jiRr_KFxrUJa",
        "outputId": "d0a0829c-296c-4537-d144-0df882020e06",
        "colab": {
          "base_uri": "https://localhost:8080/",
          "height": 296
        }
      },
      "source": [
        "plot_confusion_matrix(fertility_RF, atributos_testes,classe_testes)"
      ],
      "execution_count": 337,
      "outputs": [
        {
          "output_type": "execute_result",
          "data": {
            "text/plain": [
              "<sklearn.metrics._plot.confusion_matrix.ConfusionMatrixDisplay at 0x7f1b04537310>"
            ]
          },
          "metadata": {
            "tags": []
          },
          "execution_count": 337
        },
        {
          "output_type": "display_data",
          "data": {
            "image/png": "[encoded data removed]",
            "text/plain": [
              "<Figure size 432x288 with 2 Axes>"
            ]
          },
          "metadata": {
            "tags": [],
            "needs_background": "light"
          }
        }
      ]
    },
    {
      "cell_type": "code",
      "metadata": {
        "id": "x7YxpM5ktGUB"
      },
      "source": [
        "#--------CROSS VALIDATION"
      ],
      "execution_count": 338,
      "outputs": []
    },
    {
      "cell_type": "code",
      "metadata": {
        "id": "sVKxSristNXG"
      },
      "source": [
        "#Segmentar a base em atributos e classes (caso não esteja segmentada)\n",
        "#dados_atributos\n",
        "#dados_classe\n",
        "#importar o CROSS_VAL"
      ],
      "execution_count": 339,
      "outputs": []
    },
    {
      "cell_type": "code",
      "metadata": {
        "id": "gq-ST9B-t1P8"
      },
      "source": [
        "from sklearn.model_selection import cross_val_score"
      ],
      "execution_count": 340,
      "outputs": []
    },
    {
      "cell_type": "code",
      "metadata": {
        "id": "UrKSv-G0uZXX"
      },
      "source": [
        "scores =  cross_validate(fertility_RF,dados_atributos,dados_classe, cv=10)#cv = kfolds"
      ],
      "execution_count": 341,
      "outputs": []
    },
    {
      "cell_type": "code",
      "metadata": {
        "id": "HjRSg-NJu0K6",
        "outputId": "ac18f413-9b8b-4777-909d-0c922ebfa68e",
        "colab": {
          "base_uri": "https://localhost:8080/"
        }
      },
      "source": [
        "scores #cross_val"
      ],
      "execution_count": 342,
      "outputs": [
        {
          "output_type": "execute_result",
          "data": {
            "text/plain": [
              "{'fit_time': array([0.12980628, 0.12953901, 0.12607932, 0.12382841, 0.13066602,\n",
              "        0.12638283, 0.15710759, 0.12801862, 0.12840343, 0.13133001]),\n",
              " 'score_time': array([0.00853324, 0.00878716, 0.00906277, 0.00863719, 0.00851178,\n",
              "        0.0148499 , 0.00901127, 0.01254058, 0.00872231, 0.00998783]),\n",
              " 'test_score': array([0.55555556, 0.77777778, 1.        , 0.94444444, 1.        ,\n",
              "        0.88888889, 0.94117647, 0.94117647, 0.94117647, 0.88235294])}"
            ]
          },
          "metadata": {
            "tags": []
          },
          "execution_count": 342
        }
      ]
    },
    {
      "cell_type": "code",
      "metadata": {
        "id": "D8rGYTIrvgYV",
        "outputId": "c8ddf744-92e6-4e67-8be6-a693c43b4fa7",
        "colab": {
          "base_uri": "https://localhost:8080/",
          "height": 163
        }
      },
      "source": [
        "scores.mean #acuracia global"
      ],
      "execution_count": 343,
      "outputs": [
        {
          "output_type": "error",
          "ename": "AttributeError",
          "evalue": "ignored",
          "traceback": [
            "\u001b[0;31m---------------------------------------------------------------------------\u001b[0m",
            "\u001b[0;31mAttributeError\u001b[0m                            Traceback (most recent call last)",
            "\u001b[0;32m<ipython-input-343-80fb612fcdde>\u001b[0m in \u001b[0;36m<module>\u001b[0;34m()\u001b[0m\n\u001b[0;32m----> 1\u001b[0;31m \u001b[0mscores\u001b[0m\u001b[0;34m.\u001b[0m\u001b[0mmean\u001b[0m \u001b[0;31m#acuracia global\u001b[0m\u001b[0;34m\u001b[0m\u001b[0;34m\u001b[0m\u001b[0m\n\u001b[0m",
            "\u001b[0;31mAttributeError\u001b[0m: 'dict' object has no attribute 'mean'"
          ]
        }
      ]
    },
    {
      "cell_type": "code",
      "metadata": {
        "id": "Pg1N8DQHuRSE"
      },
      "source": [
        "from sklearn.model_selection import cross_validate"
      ],
      "execution_count": null,
      "outputs": []
    },
    {
      "cell_type": "code",
      "metadata": {
        "id": "H2KEpJrytlUE"
      },
      "source": [
        "scoring = ['precision_macro','recall_macro']"
      ],
      "execution_count": null,
      "outputs": []
    },
    {
      "cell_type": "code",
      "metadata": {
        "id": "0niaVSYey8hm"
      },
      "source": [
        "scoring"
      ],
      "execution_count": null,
      "outputs": []
    },
    {
      "cell_type": "code",
      "metadata": {
        "id": "WctsOnxpwj4w"
      },
      "source": [
        "scores2 =  cross_validate(fertility_RF, dados_atributos, dados_classe, scoring=scoring,cv=10)"
      ],
      "execution_count": null,
      "outputs": []
    },
    {
      "cell_type": "code",
      "metadata": {
        "id": "68hb4g5JxWhP"
      },
      "source": [
        "scores.keys()"
      ],
      "execution_count": null,
      "outputs": []
    },
    {
      "cell_type": "code",
      "metadata": {
        "id": "ruEpOrLLxnAA"
      },
      "source": [
        "#Acuracia Global score2"
      ],
      "execution_count": null,
      "outputs": []
    },
    {
      "cell_type": "code",
      "metadata": {
        "id": "ZiUHHZSExu2D"
      },
      "source": [
        "score2['precision_macro'].mean()"
      ],
      "execution_count": null,
      "outputs": []
    },
    {
      "cell_type": "code",
      "metadata": {
        "id": "Hz1TYfcKx5hv"
      },
      "source": [
        "#Sensibilidade"
      ],
      "execution_count": null,
      "outputs": []
    },
    {
      "cell_type": "code",
      "metadata": {
        "id": "h4HLXwIIx7vD"
      },
      "source": [
        "score2['recall_macro'].mean()"
      ],
      "execution_count": null,
      "outputs": []
    }
  ]
}
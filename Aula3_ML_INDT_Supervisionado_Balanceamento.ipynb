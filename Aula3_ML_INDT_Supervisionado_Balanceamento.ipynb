{
  "nbformat": 4,
  "nbformat_minor": 0,
  "metadata": {
    "colab": {
      "name": "Projeto.ipynb",
      "provenance": [],
      "collapsed_sections": [],
      "mount_file_id": "1w9T5G6DXLRJO-DByql7d1vuRIN20gGjp",
      "authorship_tag": "ABX9TyN2ORyiMuS4zH3BgTHBnwSw",
      "include_colab_link": true
    },
    "kernelspec": {
      "display_name": "Python 3",
      "name": "python3"
    },
    "language_info": {
      "name": "python"
    }
  },
  "cells": [
    {
      "cell_type": "markdown",
      "metadata": {
        "id": "view-in-github",
        "colab_type": "text"
      },
      "source": [
        "<a href=\"https://colab.research.google.com/github/LuziaAm/DataScience/blob/main/Aula3_ML_INDT_Supervisionado_Balanceamento.ipynb\" target=\"_parent\"><img src=\"https://colab.research.google.com/assets/colab-badge.svg\" alt=\"Open In Colab\"/></a>"
      ]
    },
    {
      "cell_type": "code",
      "metadata": {
        "id": "xcd6ZeA0UkWv"
      },
      "source": [
        "#Aula3_ML_INDT_Supervisionado_Balanceamento.ipynb"
      ],
      "execution_count": 53,
      "outputs": []
    },
    {
      "cell_type": "code",
      "metadata": {
        "id": "Ye_nBAiQkr3Z"
      },
      "source": [
        "#Balancear dados\n",
        "#Auto: Luzia Amorim\n",
        "#15/07/21"
      ],
      "execution_count": 54,
      "outputs": []
    },
    {
      "cell_type": "code",
      "metadata": {
        "id": "boyvCTdyZKvt"
      },
      "source": [
        "import pandas as pd\n",
        "import numpy as np\n",
        "import matplotlib.pyplot as plt\n"
      ],
      "execution_count": 55,
      "outputs": []
    },
    {
      "cell_type": "code",
      "metadata": {
        "id": "0j4BJhRNgP98"
      },
      "source": [
        "dados = pd.read_csv('/content/fertility_Diagnosis.txt', ',')"
      ],
      "execution_count": 56,
      "outputs": []
    },
    {
      "cell_type": "code",
      "metadata": {
        "id": "MWOdrXQRgcl7"
      },
      "source": [
        "# Avaliar a frequencia original das classes"
      ],
      "execution_count": 57,
      "outputs": []
    },
    {
      "cell_type": "code",
      "metadata": {
        "colab": {
          "base_uri": "https://localhost:8080/"
        },
        "id": "8t_u9ZRdlKA2",
        "outputId": "ddfd6bce-157d-4cc8-a824-18b8e7d1939e"
      },
      "source": [
        "dados.Output.value_counts()"
      ],
      "execution_count": 58,
      "outputs": [
        {
          "output_type": "execute_result",
          "data": {
            "text/plain": [
              "N    88\n",
              "O    12\n",
              "Name: Output, dtype: int64"
            ]
          },
          "metadata": {
            "tags": []
          },
          "execution_count": 58
        }
      ]
    },
    {
      "cell_type": "code",
      "metadata": {
        "id": "j3JWF_oUmDTX"
      },
      "source": [
        "#Balancear os dados (em função da Classe)\n",
        "#Usando SMOTE"
      ],
      "execution_count": 59,
      "outputs": []
    },
    {
      "cell_type": "code",
      "metadata": {
        "id": "0p_2EvQmmKwl"
      },
      "source": [
        "from imblearn.over_sampling import SMOTE"
      ],
      "execution_count": 60,
      "outputs": []
    },
    {
      "cell_type": "code",
      "metadata": {
        "id": "Lp7n062kmfub"
      },
      "source": [
        "#Segmetar os dados em duas bases: Uma com os atributos e outra com as classes"
      ],
      "execution_count": 61,
      "outputs": []
    },
    {
      "cell_type": "code",
      "metadata": {
        "id": "82_HGyOvmzaq"
      },
      "source": [
        "dados_atributos=dados.drop(columns='Output')"
      ],
      "execution_count": 62,
      "outputs": []
    },
    {
      "cell_type": "code",
      "metadata": {
        "id": "ecim_9sgm-3c"
      },
      "source": [
        "dados_classe = dados['Output']"
      ],
      "execution_count": 63,
      "outputs": []
    },
    {
      "cell_type": "code",
      "metadata": {
        "id": "mN4jUvJbnFTp"
      },
      "source": [
        "#Construir um objeto a partir do SMOTE"
      ],
      "execution_count": 64,
      "outputs": []
    },
    {
      "cell_type": "code",
      "metadata": {
        "id": "J1RGtxkDnJQ2"
      },
      "source": [
        "balanceador = SMOTE()"
      ],
      "execution_count": 65,
      "outputs": []
    },
    {
      "cell_type": "code",
      "metadata": {
        "id": "o36RPlBUnQQZ"
      },
      "source": [
        "#Executar o balanceador"
      ],
      "execution_count": 66,
      "outputs": []
    },
    {
      "cell_type": "code",
      "metadata": {
        "colab": {
          "base_uri": "https://localhost:8080/"
        },
        "id": "7cOZQ0LYnSrn",
        "outputId": "4a4a9cb8-fcb3-4225-c2ec-6f30498584e3"
      },
      "source": [
        "dados_atributos_b,dados_classe_b = balanceador.fit_resample(\n",
        "    dados_atributos,dados_classe\n",
        ")"
      ],
      "execution_count": 67,
      "outputs": [
        {
          "output_type": "stream",
          "text": [
            "/usr/local/lib/python3.7/dist-packages/sklearn/utils/deprecation.py:87: FutureWarning: Function safe_indexing is deprecated; safe_indexing is deprecated in version 0.22 and will be removed in version 0.24.\n",
            "  warnings.warn(msg, category=FutureWarning)\n"
          ],
          "name": "stderr"
        }
      ]
    },
    {
      "cell_type": "code",
      "metadata": {
        "id": "KwjgrWdDpDtb"
      },
      "source": [
        "#dados_classe_b.value_counts() #não funcionou no colab"
      ],
      "execution_count": null,
      "outputs": []
    },
    {
      "cell_type": "code",
      "metadata": {
        "id": "FSJZwpndox6v"
      },
      "source": [
        "from collections import Counter"
      ],
      "execution_count": 70,
      "outputs": []
    },
    {
      "cell_type": "code",
      "metadata": {
        "id": "ST_Tp7SMn2-3"
      },
      "source": [
        "#Visualizar os dados Balanceados"
      ],
      "execution_count": 68,
      "outputs": []
    },
    {
      "cell_type": "code",
      "metadata": {
        "id": "8YptKThmnrXB"
      },
      "source": [
        "contagem_classes = Counter(dados_classe_b)"
      ],
      "execution_count": 71,
      "outputs": []
    },
    {
      "cell_type": "code",
      "metadata": {
        "colab": {
          "base_uri": "https://localhost:8080/"
        },
        "id": "zmBZ-hsso_Ku",
        "outputId": "9811b6b9-565c-43fb-97fc-685fe81a8023"
      },
      "source": [
        "contagem_classes"
      ],
      "execution_count": 72,
      "outputs": [
        {
          "output_type": "execute_result",
          "data": {
            "text/plain": [
              "Counter({'N': 88, 'O': 88})"
            ]
          },
          "metadata": {
            "tags": []
          },
          "execution_count": 72
        }
      ]
    }
  ]
}
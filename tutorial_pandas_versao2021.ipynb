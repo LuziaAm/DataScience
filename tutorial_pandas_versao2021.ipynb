{
  "nbformat": 4,
  "nbformat_minor": 0,
  "metadata": {
    "colab": {
      "name": "tutorial-pandas-versao2021.ipynb",
      "provenance": [],
      "collapsed_sections": [
        "_I6keT8Lo2pG",
        "NoVgGnHC0-xT",
        "nTue1P9XDD1o",
        "HDP1WeylEssA",
        "IP2HQZ65FmFX",
        "9QbKfiiKWbVm",
        "Hic5mwsweGLm",
        "yUFwPfJo2x5G",
        "QoY16iOFN9om",
        "d-Gu92rtEJ1K",
        "7vqG0-TAERyD",
        "1gp40EI8Mvdq",
        "YHiC1nOvH3Gl",
        "0vjUEKIbIKKI",
        "Yy4i0a-KJVOF",
        "7vg3JBD-K5PY",
        "ul0rkJ8WJ0EK",
        "kFl_Dyi8NAPj",
        "KhuWvHxeM42g",
        "wCN1KaQbNgTG",
        "bbdWjWSPObia",
        "oiuaBGOoQFA5",
        "liSLFH0YOExo"
      ],
      "toc_visible": true,
      "include_colab_link": true
    },
    "kernelspec": {
      "name": "python3",
      "display_name": "Python 3"
    }
  },
  "cells": [
    {
      "cell_type": "markdown",
      "metadata": {
        "id": "view-in-github",
        "colab_type": "text"
      },
      "source": [
        "<a href=\"https://colab.research.google.com/github/LuziaAm/DataScience/blob/main/tutorial_pandas_versao2021.ipynb\" target=\"_parent\"><img src=\"https://colab.research.google.com/assets/colab-badge.svg\" alt=\"Open In Colab\"/></a>"
      ]
    },
    {
      "cell_type": "markdown",
      "metadata": {
        "id": "6Fe6-iAooyym"
      },
      "source": [
        "# PANDAS"
      ]
    },
    {
      "cell_type": "markdown",
      "metadata": {
        "id": "_I6keT8Lo2pG"
      },
      "source": [
        "### É a biblioteca mais popular para lidar com dados em Ciência de Dados.\n",
        "### Possui duas coleções: a) `Series` e b) `DataFrame`."
      ]
    },
    {
      "cell_type": "markdown",
      "metadata": {
        "id": "Lue8YQUPCwRc"
      },
      "source": [
        "# Importando a biblioteca PANDAS"
      ]
    },
    {
      "cell_type": "code",
      "metadata": {
        "id": "1Ly8gDyQ_kZZ"
      },
      "source": [
        "import pandas as pd"
      ],
      "execution_count": 3,
      "outputs": []
    },
    {
      "cell_type": "markdown",
      "metadata": {
        "id": "_OMWaQm0GrBA"
      },
      "source": [
        "# `Series`"
      ]
    },
    {
      "cell_type": "markdown",
      "metadata": {
        "id": "NoVgGnHC0-xT"
      },
      "source": [
        "### Características:\n",
        "\n",
        "*   É uma **lista**.\n",
        "*   Diferentemente de vetores (*arrays*) e/ou listas convencionais, `Series` suporta customização dos índices."
      ]
    },
    {
      "cell_type": "markdown",
      "metadata": {
        "id": "7Spl7mtHmws1"
      },
      "source": [
        ""
      ]
    },
    {
      "cell_type": "markdown",
      "metadata": {
        "id": "riQZfLMMG36g"
      },
      "source": [
        "### Criação de `Series` com índices padrão (*default*)\n",
        "\n",
        "A criação é realizada através do comando `pd.Series()`.\n",
        "\n",
        "Exemplo:"
      ]
    },
    {
      "cell_type": "code",
      "metadata": {
        "id": "3Q1JS1mXG_hg"
      },
      "source": [
        "s = pd.Series ([10, 20, 30, 40, 50])"
      ],
      "execution_count": 4,
      "outputs": []
    },
    {
      "cell_type": "markdown",
      "metadata": {
        "id": "WMWQIZKh2GNA"
      },
      "source": [
        "### Exibição de uma `Series`"
      ]
    },
    {
      "cell_type": "code",
      "metadata": {
        "id": "93HHxQHI2Ni-",
        "outputId": "d389f092-611b-4531-9532-3e214f46bc78",
        "colab": {
          "base_uri": "https://localhost:8080/"
        }
      },
      "source": [
        "print (s)"
      ],
      "execution_count": 5,
      "outputs": [
        {
          "output_type": "stream",
          "text": [
            "0    10\n",
            "1    20\n",
            "2    30\n",
            "3    40\n",
            "4    50\n",
            "dtype: int64\n"
          ],
          "name": "stdout"
        }
      ]
    },
    {
      "cell_type": "markdown",
      "metadata": {
        "id": "femefU2P2Y7Y"
      },
      "source": [
        "Partes:\n",
        "\n",
        "*   Coluna à esquerda -> índice\n",
        "*   Coluna à direita -> valores\n",
        "*   Última linha -> tipo de dados (`dtype`)\n",
        "\n",
        "\n"
      ]
    },
    {
      "cell_type": "markdown",
      "metadata": {
        "id": "-mP28qtg3FdV"
      },
      "source": [
        "### Acessar a um elemento"
      ]
    },
    {
      "cell_type": "code",
      "metadata": {
        "id": "QtuN22303Hzc",
        "outputId": "f58d5f3e-eaa3-4f81-a35e-90cf3a14a17e",
        "colab": {
          "base_uri": "https://localhost:8080/"
        }
      },
      "source": [
        "print (s[2])"
      ],
      "execution_count": 6,
      "outputs": [
        {
          "output_type": "stream",
          "text": [
            "30\n"
          ],
          "name": "stdout"
        }
      ]
    },
    {
      "cell_type": "markdown",
      "metadata": {
        "id": "qSKjQbOU25XD"
      },
      "source": [
        "### Criação de uma `Series` com valores iguais"
      ]
    },
    {
      "cell_type": "code",
      "metadata": {
        "id": "-v1o21aM29OG",
        "outputId": "107491fe-1801-4aee-f785-c99249a87b1a",
        "colab": {
          "base_uri": "https://localhost:8080/"
        }
      },
      "source": [
        "pd.Series (9.7, range(4))"
      ],
      "execution_count": 7,
      "outputs": [
        {
          "output_type": "execute_result",
          "data": {
            "text/plain": [
              "0    9.7\n",
              "1    9.7\n",
              "2    9.7\n",
              "3    9.7\n",
              "dtype: float64"
            ]
          },
          "metadata": {
            "tags": []
          },
          "execution_count": 7
        }
      ]
    },
    {
      "cell_type": "markdown",
      "metadata": {
        "id": "Yaj5vTop3eUy"
      },
      "source": [
        "### Estatísticas para uma `Series`\n",
        "\n",
        "Funções:\n",
        "\n",
        "*   `count`\n",
        "*   `mean`\n",
        "*   `min`\n",
        "*   `max`\n",
        "*   `std`\n",
        "\n",
        "Exemplos:\n",
        "\n"
      ]
    },
    {
      "cell_type": "code",
      "metadata": {
        "id": "ba8obC77h2pt",
        "outputId": "a78b51c9-2a98-4164-84cf-52e2087a035e",
        "colab": {
          "base_uri": "https://localhost:8080/"
        }
      },
      "source": [
        "print (s)"
      ],
      "execution_count": 8,
      "outputs": [
        {
          "output_type": "stream",
          "text": [
            "0    10\n",
            "1    20\n",
            "2    30\n",
            "3    40\n",
            "4    50\n",
            "dtype: int64\n"
          ],
          "name": "stdout"
        }
      ]
    },
    {
      "cell_type": "code",
      "metadata": {
        "id": "wGzmZptF3y0-",
        "outputId": "68c9fdd0-46e9-4b16-f0c0-a317f53cfd1d",
        "colab": {
          "base_uri": "https://localhost:8080/"
        }
      },
      "source": [
        "s.count()"
      ],
      "execution_count": 9,
      "outputs": [
        {
          "output_type": "execute_result",
          "data": {
            "text/plain": [
              "5"
            ]
          },
          "metadata": {
            "tags": []
          },
          "execution_count": 9
        }
      ]
    },
    {
      "cell_type": "code",
      "metadata": {
        "id": "TjqubpN833LH",
        "outputId": "78342404-0e87-411b-9057-013c328fad92",
        "colab": {
          "base_uri": "https://localhost:8080/"
        }
      },
      "source": [
        "s.mean()"
      ],
      "execution_count": 10,
      "outputs": [
        {
          "output_type": "execute_result",
          "data": {
            "text/plain": [
              "30.0"
            ]
          },
          "metadata": {
            "tags": []
          },
          "execution_count": 10
        }
      ]
    },
    {
      "cell_type": "code",
      "metadata": {
        "id": "iW2u_XTP36p8",
        "outputId": "ce85d1da-ca33-463d-f0ba-e3deabf972b2",
        "colab": {
          "base_uri": "https://localhost:8080/"
        }
      },
      "source": [
        "s.min()"
      ],
      "execution_count": 11,
      "outputs": [
        {
          "output_type": "execute_result",
          "data": {
            "text/plain": [
              "10"
            ]
          },
          "metadata": {
            "tags": []
          },
          "execution_count": 11
        }
      ]
    },
    {
      "cell_type": "code",
      "metadata": {
        "id": "8Tyj_jON39Id",
        "outputId": "1a8f3d4a-41d9-47a5-c5ca-b3ac03c5e387",
        "colab": {
          "base_uri": "https://localhost:8080/"
        }
      },
      "source": [
        "s.max()"
      ],
      "execution_count": 12,
      "outputs": [
        {
          "output_type": "execute_result",
          "data": {
            "text/plain": [
              "50"
            ]
          },
          "metadata": {
            "tags": []
          },
          "execution_count": 12
        }
      ]
    },
    {
      "cell_type": "code",
      "metadata": {
        "id": "dEXsANpI3_Mo",
        "outputId": "ffe6c156-7468-4006-fc9c-13c3c94ee0bd",
        "colab": {
          "base_uri": "https://localhost:8080/"
        }
      },
      "source": [
        "s.std()"
      ],
      "execution_count": 13,
      "outputs": [
        {
          "output_type": "execute_result",
          "data": {
            "text/plain": [
              "15.811388300841896"
            ]
          },
          "metadata": {
            "tags": []
          },
          "execution_count": 13
        }
      ]
    },
    {
      "cell_type": "markdown",
      "metadata": {
        "id": "8IuguYWy4FoV"
      },
      "source": [
        "As funções de estatística podem ser resumidas com `describe()`"
      ]
    },
    {
      "cell_type": "code",
      "metadata": {
        "id": "ANoJsm0J4Lqe",
        "outputId": "f4eac450-68e3-4637-8cc3-9b51e1b4696d",
        "colab": {
          "base_uri": "https://localhost:8080/"
        }
      },
      "source": [
        "s.describe()"
      ],
      "execution_count": 14,
      "outputs": [
        {
          "output_type": "execute_result",
          "data": {
            "text/plain": [
              "count     5.000000\n",
              "mean     30.000000\n",
              "std      15.811388\n",
              "min      10.000000\n",
              "25%      20.000000\n",
              "50%      30.000000\n",
              "75%      40.000000\n",
              "max      50.000000\n",
              "dtype: float64"
            ]
          },
          "metadata": {
            "tags": []
          },
          "execution_count": 14
        }
      ]
    },
    {
      "cell_type": "markdown",
      "metadata": {
        "id": "oOqArmW9HIO-"
      },
      "source": [
        "### Criação de índices customizados"
      ]
    },
    {
      "cell_type": "markdown",
      "metadata": {
        "id": "Se28dCUh5IwN"
      },
      "source": [
        "*   `Series` não tem o nome de uma coluna.\n",
        "*   Porém, é possível nomear os índices (*index*)."
      ]
    },
    {
      "cell_type": "markdown",
      "metadata": {
        "id": "om1cC1uI5V1E"
      },
      "source": [
        "Exemplo:"
      ]
    },
    {
      "cell_type": "code",
      "metadata": {
        "id": "fgDeHD1rHT--"
      },
      "source": [
        "s_custom = pd.Series ([10, 20, 30], index=['1a dezena', '2a dezena', '3a dezena'])"
      ],
      "execution_count": 16,
      "outputs": []
    },
    {
      "cell_type": "code",
      "metadata": {
        "id": "yCinkEV-5dhn",
        "outputId": "8c0871ca-8e5a-418f-d17c-8620c93e2e71",
        "colab": {
          "base_uri": "https://localhost:8080/"
        }
      },
      "source": [
        "print (s_custom)"
      ],
      "execution_count": 17,
      "outputs": [
        {
          "output_type": "stream",
          "text": [
            "1a dezena    10\n",
            "2a dezena    20\n",
            "3a dezena    30\n",
            "dtype: int64\n"
          ],
          "name": "stdout"
        }
      ]
    },
    {
      "cell_type": "markdown",
      "metadata": {
        "id": "xfve-uDB50vO"
      },
      "source": [
        "É possível acessar os elementos individualmente de várias formas:"
      ]
    },
    {
      "cell_type": "code",
      "metadata": {
        "id": "ecMuzrPo5ru-",
        "outputId": "47cb124f-6037-4d14-b9ed-11739f333208",
        "colab": {
          "base_uri": "https://localhost:8080/"
        }
      },
      "source": [
        "print (s_custom[2])"
      ],
      "execution_count": 19,
      "outputs": [
        {
          "output_type": "stream",
          "text": [
            "30\n"
          ],
          "name": "stdout"
        }
      ]
    },
    {
      "cell_type": "code",
      "metadata": {
        "id": "kFX5g0vT59gV",
        "outputId": "ab4bf0e7-af1b-4973-cde2-cd35cab6ab38",
        "colab": {
          "base_uri": "https://localhost:8080/"
        }
      },
      "source": [
        "print (s_custom['3a dezena'])"
      ],
      "execution_count": 18,
      "outputs": [
        {
          "output_type": "stream",
          "text": [
            "30\n"
          ],
          "name": "stdout"
        }
      ]
    },
    {
      "cell_type": "markdown",
      "metadata": {
        "id": "IoUtSKexHrcN"
      },
      "source": [
        "### Como seria possível criar uma `Series` com duas colunas?\n",
        "\n"
      ]
    },
    {
      "cell_type": "code",
      "metadata": {
        "id": "xKyJPFUhHy2D",
        "cellView": "form"
      },
      "source": [
        "#@title\n",
        "pd.Series ([10, 20, 30, 40], [15, 25, 35, 45])"
      ],
      "execution_count": null,
      "outputs": []
    },
    {
      "cell_type": "markdown",
      "metadata": {
        "id": "34qIjj3AC1Qi"
      },
      "source": [
        "# `DataFrame`"
      ]
    },
    {
      "cell_type": "markdown",
      "metadata": {
        "id": "nTue1P9XDD1o"
      },
      "source": [
        "### Características:\n",
        "\n",
        "\n",
        "*   Estrutura bidimensional.\n",
        "*   É uma **tabela**.\n",
        "*   Cada coluna de um `DataFrame` é uma `Series`.\n",
        "*   Cada coluna pode ser de um tipo diferente.\n",
        "\n"
      ]
    },
    {
      "cell_type": "markdown",
      "metadata": {
        "id": "d-YQYNrFDM4D"
      },
      "source": [
        "### Criação um `DataFrame` a partir de um dicionário."
      ]
    },
    {
      "cell_type": "markdown",
      "metadata": {
        "id": "nSwN1B9H7cMq"
      },
      "source": [
        "Exemplo 1:"
      ]
    },
    {
      "cell_type": "code",
      "metadata": {
        "id": "UsHhziHn7umN"
      },
      "source": [
        "dic1 = {'ESTADO': ['Amazonas', 'Amapá', 'Acre'], 'SIGLA': ['AM', 'AP', 'AC'], 'CAPITAL': ['Manaus', 'Macapá', 'Rio Branco']} "
      ],
      "execution_count": null,
      "outputs": []
    },
    {
      "cell_type": "code",
      "metadata": {
        "id": "0QZSJ5fVC-FV"
      },
      "source": [
        "pd.DataFrame(dic1)"
      ],
      "execution_count": null,
      "outputs": []
    },
    {
      "cell_type": "markdown",
      "metadata": {
        "id": "JfANyzVRDxYD"
      },
      "source": [
        "Exemplo 2:"
      ]
    },
    {
      "cell_type": "code",
      "metadata": {
        "id": "JS8m2MYWEGPj"
      },
      "source": [
        "pd.DataFrame({'ESTADO': ['Amazonas', 'Amapá', 'Acre'], 'POPULACAO': ['4144597', '845731', '881935']})"
      ],
      "execution_count": null,
      "outputs": []
    },
    {
      "cell_type": "markdown",
      "metadata": {
        "id": "HDP1WeylEssA"
      },
      "source": [
        "### Construtor DataFrame\n",
        "\n",
        "```\n",
        "pd.DataFrame()\n",
        "```\n",
        "\n",
        "É a forma padrão de se construir um novo `DataFrame`.\n",
        "\n",
        "Sintaxe:\n",
        "\n",
        "\n",
        "*   É um dicionário.\n",
        "*   As chaves do dicionário são as colunas.\n",
        "*   Os valores são a lista de entrada.\n",
        "\n",
        "\n",
        "\n"
      ]
    },
    {
      "cell_type": "markdown",
      "metadata": {
        "id": "IP2HQZ65FmFX"
      },
      "source": [
        "### Características do construtor:\n",
        "\n",
        "*   O construtor do tipo `DataFrame` atribui valores sequenciais.\n",
        "*   Estes valores são conhecidos como índices (*index*).\n",
        "*   Porém, é possível personalizar (customizar) os valores dos índices.\n",
        "\n"
      ]
    },
    {
      "cell_type": "markdown",
      "metadata": {
        "id": "olvmiF8FGLLG"
      },
      "source": [
        "### Customização do índice:"
      ]
    },
    {
      "cell_type": "markdown",
      "metadata": {
        "id": "hbFQZ9yt9Que"
      },
      "source": [
        "Exemplo:"
      ]
    },
    {
      "cell_type": "code",
      "metadata": {
        "id": "8qe3-oIgGYkU"
      },
      "source": [
        "dic2 = pd.DataFrame({'ESTADO': ['Amazonas', 'Amapá', 'Acre'], \n",
        "              'POPULACAO': ['4144597', '845731', '881935']},\n",
        "             index=['AM', 'AP', 'AC'])"
      ],
      "execution_count": null,
      "outputs": []
    },
    {
      "cell_type": "code",
      "metadata": {
        "id": "nPxKq2rX9zvM"
      },
      "source": [
        "dic2"
      ],
      "execution_count": null,
      "outputs": []
    },
    {
      "cell_type": "markdown",
      "metadata": {
        "id": "dztmgyBs9lUH"
      },
      "source": [
        "### Acessando elementos do `DataFrame`"
      ]
    },
    {
      "cell_type": "markdown",
      "metadata": {
        "id": "d2uOU2Qv-B7H"
      },
      "source": [
        "Exemplo 1:"
      ]
    },
    {
      "cell_type": "code",
      "metadata": {
        "id": "S-UJMMAg9sCk"
      },
      "source": [
        "dic2['ESTADO']"
      ],
      "execution_count": null,
      "outputs": []
    },
    {
      "cell_type": "markdown",
      "metadata": {
        "id": "MlIqbK04-Dbk"
      },
      "source": [
        "Exemplo 2:"
      ]
    },
    {
      "cell_type": "code",
      "metadata": {
        "id": "1wQ29Sp_9_J4"
      },
      "source": [
        "dic2.ESTADO"
      ],
      "execution_count": null,
      "outputs": []
    },
    {
      "cell_type": "markdown",
      "metadata": {
        "id": "Zv9aSkbpITzy"
      },
      "source": [
        "### Seria possível criar um DataFrame com quantidades de linhas diferentes por coluna?"
      ]
    },
    {
      "cell_type": "code",
      "metadata": {
        "id": "sEyhBsmaIcyN"
      },
      "source": [
        "pd.DataFrame({'ESTADO': ['Amazonas', 'Amapá', 'Acre'], 'POPULACAO': ['4144597', '881935']})"
      ],
      "execution_count": null,
      "outputs": []
    },
    {
      "cell_type": "markdown",
      "metadata": {
        "id": "Wh91QvTSWW9V"
      },
      "source": [
        "# Leitura de arquivos"
      ]
    },
    {
      "cell_type": "markdown",
      "metadata": {
        "id": "9QbKfiiKWbVm"
      },
      "source": [
        "### Características gerais sobre a leitura de arquivos:\n",
        "\n",
        "\n",
        "\n",
        "*   Na prática, iremos trabalhar com dados já existentes.\n",
        "*   Existem vários formatos de arquivos.\n",
        "*   O formato CSV é um dos formatos mais comuns.\n",
        "*   Um arquivo CSV é uma tabela cujos valores estão separados por vírgulas (*Comma-Separated Values*)."
      ]
    },
    {
      "cell_type": "markdown",
      "metadata": {
        "id": "PoOr6gbgXCuV"
      },
      "source": [
        "### Leitura de arquivos CSV em Pandas como um `DataFrame`:"
      ]
    },
    {
      "cell_type": "markdown",
      "metadata": {
        "id": "KtTmYNVVkOFg"
      },
      "source": [
        "Comando padrão:\n",
        "\n",
        "`pd.read_csv()`"
      ]
    },
    {
      "cell_type": "markdown",
      "metadata": {
        "id": "N2I0SYsNXh3x"
      },
      "source": [
        "Exemplo:"
      ]
    },
    {
      "cell_type": "code",
      "metadata": {
        "id": "znr68k-pXj_G"
      },
      "source": [
        "dados = pd.read_csv(\"http://tiagodemelo.info/datasets/dados-curso.csv\")"
      ],
      "execution_count": 20,
      "outputs": []
    },
    {
      "cell_type": "markdown",
      "metadata": {
        "id": "bKCrNpVGXytj"
      },
      "source": [
        "### Atributo `shape` \n",
        "\n",
        "Permite verificar o tamanho dos dados."
      ]
    },
    {
      "cell_type": "markdown",
      "metadata": {
        "id": "C5GIn97oYES-"
      },
      "source": [
        "Exemplo:"
      ]
    },
    {
      "cell_type": "code",
      "metadata": {
        "id": "TgT_he5nYHc-",
        "outputId": "83a12b70-3174-4cf8-b587-0427ba5a7900",
        "colab": {
          "base_uri": "https://localhost:8080/"
        }
      },
      "source": [
        "dados.shape # exibe"
      ],
      "execution_count": 21,
      "outputs": [
        {
          "output_type": "execute_result",
          "data": {
            "text/plain": [
              "(500, 9)"
            ]
          },
          "metadata": {
            "tags": []
          },
          "execution_count": 21
        }
      ]
    },
    {
      "cell_type": "markdown",
      "metadata": {
        "id": "GqXrD1ORYRsF"
      },
      "source": [
        "### Comando `head`\n",
        "\n",
        "Podemos ter uma noção do conjunto de dados.\n",
        "\n"
      ]
    },
    {
      "cell_type": "markdown",
      "metadata": {
        "id": "12zdtI44YfAc"
      },
      "source": [
        "Exemplo:"
      ]
    },
    {
      "cell_type": "code",
      "metadata": {
        "id": "NgqrIApwYhLL",
        "outputId": "c37af6f2-1431-41a7-93be-345c1ef82db4",
        "colab": {
          "base_uri": "https://localhost:8080/",
          "height": 289
        }
      },
      "source": [
        "dados.head()"
      ],
      "execution_count": 22,
      "outputs": [
        {
          "output_type": "execute_result",
          "data": {
            "text/html": [
              "<div>\n",
              "<style scoped>\n",
              "    .dataframe tbody tr th:only-of-type {\n",
              "        vertical-align: middle;\n",
              "    }\n",
              "\n",
              "    .dataframe tbody tr th {\n",
              "        vertical-align: top;\n",
              "    }\n",
              "\n",
              "    .dataframe thead th {\n",
              "        text-align: right;\n",
              "    }\n",
              "</style>\n",
              "<table border=\"1\" class=\"dataframe\">\n",
              "  <thead>\n",
              "    <tr style=\"text-align: right;\">\n",
              "      <th></th>\n",
              "      <th>data</th>\n",
              "      <th>texto</th>\n",
              "      <th>retweet</th>\n",
              "      <th>idioma</th>\n",
              "      <th>lugar</th>\n",
              "      <th>pais</th>\n",
              "      <th>sigla</th>\n",
              "      <th>latitude</th>\n",
              "      <th>longitude</th>\n",
              "    </tr>\n",
              "  </thead>\n",
              "  <tbody>\n",
              "    <tr>\n",
              "      <th>0</th>\n",
              "      <td>2020-05-23 00:21:14</td>\n",
              "      <td>Para voltar tudo ao normal, você precisa fazer...</td>\n",
              "      <td>0</td>\n",
              "      <td>pt</td>\n",
              "      <td>Rio das Ostras</td>\n",
              "      <td>Brazil</td>\n",
              "      <td>BR</td>\n",
              "      <td>-41.937900</td>\n",
              "      <td>-22.522600</td>\n",
              "    </tr>\n",
              "    <tr>\n",
              "      <th>1</th>\n",
              "      <td>2020-03-22 22:57:51</td>\n",
              "      <td>14.245 – O que é a hidroxicloroquina? https://...</td>\n",
              "      <td>0</td>\n",
              "      <td>pt</td>\n",
              "      <td>Sao Paulo</td>\n",
              "      <td>Brazil</td>\n",
              "      <td>BR</td>\n",
              "      <td>-46.674739</td>\n",
              "      <td>-23.606067</td>\n",
              "    </tr>\n",
              "    <tr>\n",
              "      <th>2</th>\n",
              "      <td>2020-04-14 00:11:33</td>\n",
              "      <td>Quarta morte em Lar de Estarreja associada à C...</td>\n",
              "      <td>1</td>\n",
              "      <td>pt</td>\n",
              "      <td>Lisbon</td>\n",
              "      <td>Portugal</td>\n",
              "      <td>PT</td>\n",
              "      <td>-9.099043</td>\n",
              "      <td>38.747518</td>\n",
              "    </tr>\n",
              "    <tr>\n",
              "      <th>3</th>\n",
              "      <td>2020-05-25 20:45:43</td>\n",
              "      <td>COVID-19 |  Hospital municipal Tide Setúbal, n...</td>\n",
              "      <td>0</td>\n",
              "      <td>pt</td>\n",
              "      <td>Sao Paulo</td>\n",
              "      <td>Brazil</td>\n",
              "      <td>BR</td>\n",
              "      <td>-46.633300</td>\n",
              "      <td>-23.550000</td>\n",
              "    </tr>\n",
              "    <tr>\n",
              "      <th>4</th>\n",
              "      <td>2020-04-15 10:34:39</td>\n",
              "      <td>#cenasdocotidiano #santos #distanciamentosocia...</td>\n",
              "      <td>0</td>\n",
              "      <td>pt</td>\n",
              "      <td>Santos</td>\n",
              "      <td>Brazil</td>\n",
              "      <td>BR</td>\n",
              "      <td>-46.293700</td>\n",
              "      <td>-23.975947</td>\n",
              "    </tr>\n",
              "  </tbody>\n",
              "</table>\n",
              "</div>"
            ],
            "text/plain": [
              "                  data  ...  longitude\n",
              "0  2020-05-23 00:21:14  ... -22.522600\n",
              "1  2020-03-22 22:57:51  ... -23.606067\n",
              "2  2020-04-14 00:11:33  ...  38.747518\n",
              "3  2020-05-25 20:45:43  ... -23.550000\n",
              "4  2020-04-15 10:34:39  ... -23.975947\n",
              "\n",
              "[5 rows x 9 columns]"
            ]
          },
          "metadata": {
            "tags": []
          },
          "execution_count": 22
        }
      ]
    },
    {
      "cell_type": "markdown",
      "metadata": {
        "id": "5DuN1XzUZYj5"
      },
      "source": [
        "### Manipulação de dados"
      ]
    },
    {
      "cell_type": "markdown",
      "metadata": {
        "id": "3Qkqjt5eZfze"
      },
      "source": [
        "Pandas possui uma série de recursos que permite manipular os dados no formato de `DataFrame`."
      ]
    },
    {
      "cell_type": "code",
      "metadata": {
        "id": "eostPPisZzQf",
        "outputId": "51f2ebe0-380d-4c81-b610-1f5db911e656",
        "colab": {
          "base_uri": "https://localhost:8080/",
          "height": 589
        }
      },
      "source": [
        "dados"
      ],
      "execution_count": 23,
      "outputs": [
        {
          "output_type": "execute_result",
          "data": {
            "text/html": [
              "<div>\n",
              "<style scoped>\n",
              "    .dataframe tbody tr th:only-of-type {\n",
              "        vertical-align: middle;\n",
              "    }\n",
              "\n",
              "    .dataframe tbody tr th {\n",
              "        vertical-align: top;\n",
              "    }\n",
              "\n",
              "    .dataframe thead th {\n",
              "        text-align: right;\n",
              "    }\n",
              "</style>\n",
              "<table border=\"1\" class=\"dataframe\">\n",
              "  <thead>\n",
              "    <tr style=\"text-align: right;\">\n",
              "      <th></th>\n",
              "      <th>data</th>\n",
              "      <th>texto</th>\n",
              "      <th>retweet</th>\n",
              "      <th>idioma</th>\n",
              "      <th>lugar</th>\n",
              "      <th>pais</th>\n",
              "      <th>sigla</th>\n",
              "      <th>latitude</th>\n",
              "      <th>longitude</th>\n",
              "    </tr>\n",
              "  </thead>\n",
              "  <tbody>\n",
              "    <tr>\n",
              "      <th>0</th>\n",
              "      <td>2020-05-23 00:21:14</td>\n",
              "      <td>Para voltar tudo ao normal, você precisa fazer...</td>\n",
              "      <td>0</td>\n",
              "      <td>pt</td>\n",
              "      <td>Rio das Ostras</td>\n",
              "      <td>Brazil</td>\n",
              "      <td>BR</td>\n",
              "      <td>-41.937900</td>\n",
              "      <td>-22.522600</td>\n",
              "    </tr>\n",
              "    <tr>\n",
              "      <th>1</th>\n",
              "      <td>2020-03-22 22:57:51</td>\n",
              "      <td>14.245 – O que é a hidroxicloroquina? https://...</td>\n",
              "      <td>0</td>\n",
              "      <td>pt</td>\n",
              "      <td>Sao Paulo</td>\n",
              "      <td>Brazil</td>\n",
              "      <td>BR</td>\n",
              "      <td>-46.674739</td>\n",
              "      <td>-23.606067</td>\n",
              "    </tr>\n",
              "    <tr>\n",
              "      <th>2</th>\n",
              "      <td>2020-04-14 00:11:33</td>\n",
              "      <td>Quarta morte em Lar de Estarreja associada à C...</td>\n",
              "      <td>1</td>\n",
              "      <td>pt</td>\n",
              "      <td>Lisbon</td>\n",
              "      <td>Portugal</td>\n",
              "      <td>PT</td>\n",
              "      <td>-9.099043</td>\n",
              "      <td>38.747518</td>\n",
              "    </tr>\n",
              "    <tr>\n",
              "      <th>3</th>\n",
              "      <td>2020-05-25 20:45:43</td>\n",
              "      <td>COVID-19 |  Hospital municipal Tide Setúbal, n...</td>\n",
              "      <td>0</td>\n",
              "      <td>pt</td>\n",
              "      <td>Sao Paulo</td>\n",
              "      <td>Brazil</td>\n",
              "      <td>BR</td>\n",
              "      <td>-46.633300</td>\n",
              "      <td>-23.550000</td>\n",
              "    </tr>\n",
              "    <tr>\n",
              "      <th>4</th>\n",
              "      <td>2020-04-15 10:34:39</td>\n",
              "      <td>#cenasdocotidiano #santos #distanciamentosocia...</td>\n",
              "      <td>0</td>\n",
              "      <td>pt</td>\n",
              "      <td>Santos</td>\n",
              "      <td>Brazil</td>\n",
              "      <td>BR</td>\n",
              "      <td>-46.293700</td>\n",
              "      <td>-23.975947</td>\n",
              "    </tr>\n",
              "    <tr>\n",
              "      <th>...</th>\n",
              "      <td>...</td>\n",
              "      <td>...</td>\n",
              "      <td>...</td>\n",
              "      <td>...</td>\n",
              "      <td>...</td>\n",
              "      <td>...</td>\n",
              "      <td>...</td>\n",
              "      <td>...</td>\n",
              "      <td>...</td>\n",
              "    </tr>\n",
              "    <tr>\n",
              "      <th>495</th>\n",
              "      <td>2020-04-07 16:14:13</td>\n",
              "      <td>O isolamento social também serve para mostrar ...</td>\n",
              "      <td>1</td>\n",
              "      <td>pt</td>\n",
              "      <td>Rio Branco</td>\n",
              "      <td>Brazil</td>\n",
              "      <td>BR</td>\n",
              "      <td>-67.859657</td>\n",
              "      <td>-9.932246</td>\n",
              "    </tr>\n",
              "    <tr>\n",
              "      <th>496</th>\n",
              "      <td>2020-03-26 18:02:28</td>\n",
              "      <td>Enquanto o mundo está atento ao covid 19 é o B...</td>\n",
              "      <td>0</td>\n",
              "      <td>pt</td>\n",
              "      <td>Rio de Janeiro</td>\n",
              "      <td>Brazil</td>\n",
              "      <td>BR</td>\n",
              "      <td>-43.358100</td>\n",
              "      <td>-22.942800</td>\n",
              "    </tr>\n",
              "    <tr>\n",
              "      <th>497</th>\n",
              "      <td>2020-03-18 05:28:16</td>\n",
              "      <td>#covid_19 #stayhome @ Toronto, Ontario https:/...</td>\n",
              "      <td>0</td>\n",
              "      <td>pt</td>\n",
              "      <td>Toronto</td>\n",
              "      <td>Canada</td>\n",
              "      <td>CA</td>\n",
              "      <td>-79.387200</td>\n",
              "      <td>43.648000</td>\n",
              "    </tr>\n",
              "    <tr>\n",
              "      <th>498</th>\n",
              "      <td>2020-03-03 21:27:11</td>\n",
              "      <td>Um vira-lata sem Coronavirus #joeviralata #dog...</td>\n",
              "      <td>0</td>\n",
              "      <td>pt</td>\n",
              "      <td>Sao Paulo</td>\n",
              "      <td>Brazil</td>\n",
              "      <td>BR</td>\n",
              "      <td>-46.633300</td>\n",
              "      <td>-23.550000</td>\n",
              "    </tr>\n",
              "    <tr>\n",
              "      <th>499</th>\n",
              "      <td>2020-01-21 13:18:03</td>\n",
              "      <td>Portugal já está a preparar-se para responder ...</td>\n",
              "      <td>1</td>\n",
              "      <td>pt</td>\n",
              "      <td>Lisbon</td>\n",
              "      <td>Portugal</td>\n",
              "      <td>PT</td>\n",
              "      <td>-9.099043</td>\n",
              "      <td>38.747518</td>\n",
              "    </tr>\n",
              "  </tbody>\n",
              "</table>\n",
              "<p>500 rows × 9 columns</p>\n",
              "</div>"
            ],
            "text/plain": [
              "                    data  ...  longitude\n",
              "0    2020-05-23 00:21:14  ... -22.522600\n",
              "1    2020-03-22 22:57:51  ... -23.606067\n",
              "2    2020-04-14 00:11:33  ...  38.747518\n",
              "3    2020-05-25 20:45:43  ... -23.550000\n",
              "4    2020-04-15 10:34:39  ... -23.975947\n",
              "..                   ...  ...        ...\n",
              "495  2020-04-07 16:14:13  ...  -9.932246\n",
              "496  2020-03-26 18:02:28  ... -22.942800\n",
              "497  2020-03-18 05:28:16  ...  43.648000\n",
              "498  2020-03-03 21:27:11  ... -23.550000\n",
              "499  2020-01-21 13:18:03  ...  38.747518\n",
              "\n",
              "[500 rows x 9 columns]"
            ]
          },
          "metadata": {
            "tags": []
          },
          "execution_count": 23
        }
      ]
    },
    {
      "cell_type": "markdown",
      "metadata": {
        "id": "0jWjVuq2aGof"
      },
      "source": [
        "### As propriedades de um objeto podem ser acessadas como um atributo:"
      ]
    },
    {
      "cell_type": "markdown",
      "metadata": {
        "id": "6lgsZ4JBabrp"
      },
      "source": [
        "Exemplo 1:"
      ]
    },
    {
      "cell_type": "code",
      "metadata": {
        "id": "fd9ZSQwBaeBL",
        "outputId": "dd09f153-1a85-49eb-fe1c-f12820571f2c",
        "colab": {
          "base_uri": "https://localhost:8080/"
        }
      },
      "source": [
        "dados.lugar"
      ],
      "execution_count": 36,
      "outputs": [
        {
          "output_type": "execute_result",
          "data": {
            "text/plain": [
              "0      Rio das Ostras\n",
              "1           Sao Paulo\n",
              "2              Lisbon\n",
              "3           Sao Paulo\n",
              "4              Santos\n",
              "            ...      \n",
              "495        Rio Branco\n",
              "496    Rio de Janeiro\n",
              "497           Toronto\n",
              "498         Sao Paulo\n",
              "499            Lisbon\n",
              "Name: lugar, Length: 500, dtype: object"
            ]
          },
          "metadata": {
            "tags": []
          },
          "execution_count": 36
        }
      ]
    },
    {
      "cell_type": "markdown",
      "metadata": {
        "id": "vMOKQYP7auBT"
      },
      "source": [
        "Exemplo 2:"
      ]
    },
    {
      "cell_type": "code",
      "metadata": {
        "id": "ZBvkUBuaayTK",
        "outputId": "7f7d7bc7-c197-40fd-bacf-d11ae7e50166",
        "colab": {
          "base_uri": "https://localhost:8080/"
        }
      },
      "source": [
        "dados['lugar']"
      ],
      "execution_count": 27,
      "outputs": [
        {
          "output_type": "execute_result",
          "data": {
            "text/plain": [
              "0      Rio das Ostras\n",
              "1           Sao Paulo\n",
              "2              Lisbon\n",
              "3           Sao Paulo\n",
              "4              Santos\n",
              "            ...      \n",
              "495        Rio Branco\n",
              "496    Rio de Janeiro\n",
              "497           Toronto\n",
              "498         Sao Paulo\n",
              "499            Lisbon\n",
              "Name: lugar, Length: 500, dtype: object"
            ]
          },
          "metadata": {
            "tags": []
          },
          "execution_count": 27
        }
      ]
    },
    {
      "cell_type": "markdown",
      "metadata": {
        "id": "1E9aaBM_bXAV"
      },
      "source": [
        "Exemplo 3:"
      ]
    },
    {
      "cell_type": "code",
      "metadata": {
        "id": "lnTdfyIXbYnh",
        "outputId": "f5627fb7-8e25-42d2-d376-ae2226b584bb",
        "colab": {
          "base_uri": "https://localhost:8080/",
          "height": 35
        }
      },
      "source": [
        "dados['lugar'][0]"
      ],
      "execution_count": 25,
      "outputs": [
        {
          "output_type": "execute_result",
          "data": {
            "application/vnd.google.colaboratory.intrinsic+json": {
              "type": "string"
            },
            "text/plain": [
              "'Rio das Ostras'"
            ]
          },
          "metadata": {
            "tags": []
          },
          "execution_count": 25
        }
      ]
    },
    {
      "cell_type": "code",
      "metadata": {
        "id": "Mm7HGtYBzI7N",
        "outputId": "d5041d60-1e1f-4753-c786-0b70f5487988",
        "colab": {
          "base_uri": "https://localhost:8080/",
          "height": 35
        }
      },
      "source": [
        "dados['lugar'][1]"
      ],
      "execution_count": 26,
      "outputs": [
        {
          "output_type": "execute_result",
          "data": {
            "application/vnd.google.colaboratory.intrinsic+json": {
              "type": "string"
            },
            "text/plain": [
              "'Sao Paulo'"
            ]
          },
          "metadata": {
            "tags": []
          },
          "execution_count": 26
        }
      ]
    },
    {
      "cell_type": "markdown",
      "metadata": {
        "id": "pImKeUbnbpAC"
      },
      "source": [
        "# Indexação em Pandas"
      ]
    },
    {
      "cell_type": "markdown",
      "metadata": {
        "id": "Hic5mwsweGLm"
      },
      "source": [
        "### Seleção baseada em índices\n",
        "\n",
        "#### Seleção de dados baseada na posição numérica dos dados."
      ]
    },
    {
      "cell_type": "markdown",
      "metadata": {
        "id": "f-NyJR05ffVM"
      },
      "source": [
        "### Selecionar a primeira linha\n",
        "\n",
        "Exemplo 1:"
      ]
    },
    {
      "cell_type": "code",
      "metadata": {
        "id": "PQrRq8nUcY_s",
        "outputId": "12c3ca0a-2f78-4743-9925-925511a0216c",
        "colab": {
          "base_uri": "https://localhost:8080/"
        }
      },
      "source": [
        "dados.iloc[101] #index location"
      ],
      "execution_count": 28,
      "outputs": [
        {
          "output_type": "execute_result",
          "data": {
            "text/plain": [
              "data                                       2020-03-03 00:43:28\n",
              "texto        A Intelprise alerta os folioes pos-carnavalesc...\n",
              "retweet                                                      0\n",
              "idioma                                                      pt\n",
              "lugar                                        North Miami Beach\n",
              "pais                                             United States\n",
              "sigla                                                       US\n",
              "latitude                                              -80.1637\n",
              "longitude                                              25.9466\n",
              "Name: 101, dtype: object"
            ]
          },
          "metadata": {
            "tags": []
          },
          "execution_count": 28
        }
      ]
    },
    {
      "cell_type": "markdown",
      "metadata": {
        "id": "vIVASYROk_Tg"
      },
      "source": [
        "Exemplo 2:"
      ]
    },
    {
      "cell_type": "code",
      "metadata": {
        "id": "A-kPc_pBf_6-",
        "outputId": "1ed3d6bf-f11b-49cc-97f5-972ac669dd90",
        "colab": {
          "base_uri": "https://localhost:8080/"
        }
      },
      "source": [
        "dados.iloc[:,7]"
      ],
      "execution_count": 29,
      "outputs": [
        {
          "output_type": "execute_result",
          "data": {
            "text/plain": [
              "0     -41.937900\n",
              "1     -46.674739\n",
              "2      -9.099043\n",
              "3     -46.633300\n",
              "4     -46.293700\n",
              "         ...    \n",
              "495   -67.859657\n",
              "496   -43.358100\n",
              "497   -79.387200\n",
              "498   -46.633300\n",
              "499    -9.099043\n",
              "Name: latitude, Length: 500, dtype: float64"
            ]
          },
          "metadata": {
            "tags": []
          },
          "execution_count": 29
        }
      ]
    },
    {
      "cell_type": "markdown",
      "metadata": {
        "id": "Pgu50YnrlDcb"
      },
      "source": [
        "Exemplo 3:"
      ]
    },
    {
      "cell_type": "code",
      "metadata": {
        "id": "ey2gsjFBgJB7",
        "outputId": "c64a1ad1-7160-46da-f5c3-d74917c0cae8",
        "colab": {
          "base_uri": "https://localhost:8080/",
          "height": 289
        }
      },
      "source": [
        "dados.iloc[-5:]"
      ],
      "execution_count": 30,
      "outputs": [
        {
          "output_type": "execute_result",
          "data": {
            "text/html": [
              "<div>\n",
              "<style scoped>\n",
              "    .dataframe tbody tr th:only-of-type {\n",
              "        vertical-align: middle;\n",
              "    }\n",
              "\n",
              "    .dataframe tbody tr th {\n",
              "        vertical-align: top;\n",
              "    }\n",
              "\n",
              "    .dataframe thead th {\n",
              "        text-align: right;\n",
              "    }\n",
              "</style>\n",
              "<table border=\"1\" class=\"dataframe\">\n",
              "  <thead>\n",
              "    <tr style=\"text-align: right;\">\n",
              "      <th></th>\n",
              "      <th>data</th>\n",
              "      <th>texto</th>\n",
              "      <th>retweet</th>\n",
              "      <th>idioma</th>\n",
              "      <th>lugar</th>\n",
              "      <th>pais</th>\n",
              "      <th>sigla</th>\n",
              "      <th>latitude</th>\n",
              "      <th>longitude</th>\n",
              "    </tr>\n",
              "  </thead>\n",
              "  <tbody>\n",
              "    <tr>\n",
              "      <th>495</th>\n",
              "      <td>2020-04-07 16:14:13</td>\n",
              "      <td>O isolamento social também serve para mostrar ...</td>\n",
              "      <td>1</td>\n",
              "      <td>pt</td>\n",
              "      <td>Rio Branco</td>\n",
              "      <td>Brazil</td>\n",
              "      <td>BR</td>\n",
              "      <td>-67.859657</td>\n",
              "      <td>-9.932246</td>\n",
              "    </tr>\n",
              "    <tr>\n",
              "      <th>496</th>\n",
              "      <td>2020-03-26 18:02:28</td>\n",
              "      <td>Enquanto o mundo está atento ao covid 19 é o B...</td>\n",
              "      <td>0</td>\n",
              "      <td>pt</td>\n",
              "      <td>Rio de Janeiro</td>\n",
              "      <td>Brazil</td>\n",
              "      <td>BR</td>\n",
              "      <td>-43.358100</td>\n",
              "      <td>-22.942800</td>\n",
              "    </tr>\n",
              "    <tr>\n",
              "      <th>497</th>\n",
              "      <td>2020-03-18 05:28:16</td>\n",
              "      <td>#covid_19 #stayhome @ Toronto, Ontario https:/...</td>\n",
              "      <td>0</td>\n",
              "      <td>pt</td>\n",
              "      <td>Toronto</td>\n",
              "      <td>Canada</td>\n",
              "      <td>CA</td>\n",
              "      <td>-79.387200</td>\n",
              "      <td>43.648000</td>\n",
              "    </tr>\n",
              "    <tr>\n",
              "      <th>498</th>\n",
              "      <td>2020-03-03 21:27:11</td>\n",
              "      <td>Um vira-lata sem Coronavirus #joeviralata #dog...</td>\n",
              "      <td>0</td>\n",
              "      <td>pt</td>\n",
              "      <td>Sao Paulo</td>\n",
              "      <td>Brazil</td>\n",
              "      <td>BR</td>\n",
              "      <td>-46.633300</td>\n",
              "      <td>-23.550000</td>\n",
              "    </tr>\n",
              "    <tr>\n",
              "      <th>499</th>\n",
              "      <td>2020-01-21 13:18:03</td>\n",
              "      <td>Portugal já está a preparar-se para responder ...</td>\n",
              "      <td>1</td>\n",
              "      <td>pt</td>\n",
              "      <td>Lisbon</td>\n",
              "      <td>Portugal</td>\n",
              "      <td>PT</td>\n",
              "      <td>-9.099043</td>\n",
              "      <td>38.747518</td>\n",
              "    </tr>\n",
              "  </tbody>\n",
              "</table>\n",
              "</div>"
            ],
            "text/plain": [
              "                    data  ...  longitude\n",
              "495  2020-04-07 16:14:13  ...  -9.932246\n",
              "496  2020-03-26 18:02:28  ... -22.942800\n",
              "497  2020-03-18 05:28:16  ...  43.648000\n",
              "498  2020-03-03 21:27:11  ... -23.550000\n",
              "499  2020-01-21 13:18:03  ...  38.747518\n",
              "\n",
              "[5 rows x 9 columns]"
            ]
          },
          "metadata": {
            "tags": []
          },
          "execution_count": 30
        }
      ]
    },
    {
      "cell_type": "markdown",
      "metadata": {
        "id": "imx0mjKlgQsG"
      },
      "source": [
        "Exemplo 5:"
      ]
    },
    {
      "cell_type": "code",
      "metadata": {
        "id": "ohmxTrlTg17l",
        "outputId": "cdd9d557-572e-4cd7-aca3-17247ed475a4",
        "colab": {
          "base_uri": "https://localhost:8080/",
          "height": 35
        }
      },
      "source": [
        "dados.loc[499, 'pais']"
      ],
      "execution_count": 32,
      "outputs": [
        {
          "output_type": "execute_result",
          "data": {
            "application/vnd.google.colaboratory.intrinsic+json": {
              "type": "string"
            },
            "text/plain": [
              "'Portugal'"
            ]
          },
          "metadata": {
            "tags": []
          },
          "execution_count": 32
        }
      ]
    },
    {
      "cell_type": "markdown",
      "metadata": {
        "id": "BMqcU4nog-kQ"
      },
      "source": [
        "# Manipulação de índices\n",
        "\n",
        "### É possível fazer a indexação dados por um atributo."
      ]
    },
    {
      "cell_type": "markdown",
      "metadata": {
        "id": "epTQLNOjjARa"
      },
      "source": [
        "### Exemplo:"
      ]
    },
    {
      "cell_type": "code",
      "metadata": {
        "id": "p_MijJSGiVps",
        "outputId": "aacfebb1-3612-4cca-c9ad-7c5b21bc811c",
        "colab": {
          "base_uri": "https://localhost:8080/",
          "height": 620
        }
      },
      "source": [
        "dados.set_index('pais')"
      ],
      "execution_count": 34,
      "outputs": [
        {
          "output_type": "execute_result",
          "data": {
            "text/html": [
              "<div>\n",
              "<style scoped>\n",
              "    .dataframe tbody tr th:only-of-type {\n",
              "        vertical-align: middle;\n",
              "    }\n",
              "\n",
              "    .dataframe tbody tr th {\n",
              "        vertical-align: top;\n",
              "    }\n",
              "\n",
              "    .dataframe thead th {\n",
              "        text-align: right;\n",
              "    }\n",
              "</style>\n",
              "<table border=\"1\" class=\"dataframe\">\n",
              "  <thead>\n",
              "    <tr style=\"text-align: right;\">\n",
              "      <th></th>\n",
              "      <th>data</th>\n",
              "      <th>texto</th>\n",
              "      <th>retweet</th>\n",
              "      <th>idioma</th>\n",
              "      <th>lugar</th>\n",
              "      <th>sigla</th>\n",
              "      <th>latitude</th>\n",
              "      <th>longitude</th>\n",
              "    </tr>\n",
              "    <tr>\n",
              "      <th>pais</th>\n",
              "      <th></th>\n",
              "      <th></th>\n",
              "      <th></th>\n",
              "      <th></th>\n",
              "      <th></th>\n",
              "      <th></th>\n",
              "      <th></th>\n",
              "      <th></th>\n",
              "    </tr>\n",
              "  </thead>\n",
              "  <tbody>\n",
              "    <tr>\n",
              "      <th>Brazil</th>\n",
              "      <td>2020-05-23 00:21:14</td>\n",
              "      <td>Para voltar tudo ao normal, você precisa fazer...</td>\n",
              "      <td>0</td>\n",
              "      <td>pt</td>\n",
              "      <td>Rio das Ostras</td>\n",
              "      <td>BR</td>\n",
              "      <td>-41.937900</td>\n",
              "      <td>-22.522600</td>\n",
              "    </tr>\n",
              "    <tr>\n",
              "      <th>Brazil</th>\n",
              "      <td>2020-03-22 22:57:51</td>\n",
              "      <td>14.245 – O que é a hidroxicloroquina? https://...</td>\n",
              "      <td>0</td>\n",
              "      <td>pt</td>\n",
              "      <td>Sao Paulo</td>\n",
              "      <td>BR</td>\n",
              "      <td>-46.674739</td>\n",
              "      <td>-23.606067</td>\n",
              "    </tr>\n",
              "    <tr>\n",
              "      <th>Portugal</th>\n",
              "      <td>2020-04-14 00:11:33</td>\n",
              "      <td>Quarta morte em Lar de Estarreja associada à C...</td>\n",
              "      <td>1</td>\n",
              "      <td>pt</td>\n",
              "      <td>Lisbon</td>\n",
              "      <td>PT</td>\n",
              "      <td>-9.099043</td>\n",
              "      <td>38.747518</td>\n",
              "    </tr>\n",
              "    <tr>\n",
              "      <th>Brazil</th>\n",
              "      <td>2020-05-25 20:45:43</td>\n",
              "      <td>COVID-19 |  Hospital municipal Tide Setúbal, n...</td>\n",
              "      <td>0</td>\n",
              "      <td>pt</td>\n",
              "      <td>Sao Paulo</td>\n",
              "      <td>BR</td>\n",
              "      <td>-46.633300</td>\n",
              "      <td>-23.550000</td>\n",
              "    </tr>\n",
              "    <tr>\n",
              "      <th>Brazil</th>\n",
              "      <td>2020-04-15 10:34:39</td>\n",
              "      <td>#cenasdocotidiano #santos #distanciamentosocia...</td>\n",
              "      <td>0</td>\n",
              "      <td>pt</td>\n",
              "      <td>Santos</td>\n",
              "      <td>BR</td>\n",
              "      <td>-46.293700</td>\n",
              "      <td>-23.975947</td>\n",
              "    </tr>\n",
              "    <tr>\n",
              "      <th>...</th>\n",
              "      <td>...</td>\n",
              "      <td>...</td>\n",
              "      <td>...</td>\n",
              "      <td>...</td>\n",
              "      <td>...</td>\n",
              "      <td>...</td>\n",
              "      <td>...</td>\n",
              "      <td>...</td>\n",
              "    </tr>\n",
              "    <tr>\n",
              "      <th>Brazil</th>\n",
              "      <td>2020-04-07 16:14:13</td>\n",
              "      <td>O isolamento social também serve para mostrar ...</td>\n",
              "      <td>1</td>\n",
              "      <td>pt</td>\n",
              "      <td>Rio Branco</td>\n",
              "      <td>BR</td>\n",
              "      <td>-67.859657</td>\n",
              "      <td>-9.932246</td>\n",
              "    </tr>\n",
              "    <tr>\n",
              "      <th>Brazil</th>\n",
              "      <td>2020-03-26 18:02:28</td>\n",
              "      <td>Enquanto o mundo está atento ao covid 19 é o B...</td>\n",
              "      <td>0</td>\n",
              "      <td>pt</td>\n",
              "      <td>Rio de Janeiro</td>\n",
              "      <td>BR</td>\n",
              "      <td>-43.358100</td>\n",
              "      <td>-22.942800</td>\n",
              "    </tr>\n",
              "    <tr>\n",
              "      <th>Canada</th>\n",
              "      <td>2020-03-18 05:28:16</td>\n",
              "      <td>#covid_19 #stayhome @ Toronto, Ontario https:/...</td>\n",
              "      <td>0</td>\n",
              "      <td>pt</td>\n",
              "      <td>Toronto</td>\n",
              "      <td>CA</td>\n",
              "      <td>-79.387200</td>\n",
              "      <td>43.648000</td>\n",
              "    </tr>\n",
              "    <tr>\n",
              "      <th>Brazil</th>\n",
              "      <td>2020-03-03 21:27:11</td>\n",
              "      <td>Um vira-lata sem Coronavirus #joeviralata #dog...</td>\n",
              "      <td>0</td>\n",
              "      <td>pt</td>\n",
              "      <td>Sao Paulo</td>\n",
              "      <td>BR</td>\n",
              "      <td>-46.633300</td>\n",
              "      <td>-23.550000</td>\n",
              "    </tr>\n",
              "    <tr>\n",
              "      <th>Portugal</th>\n",
              "      <td>2020-01-21 13:18:03</td>\n",
              "      <td>Portugal já está a preparar-se para responder ...</td>\n",
              "      <td>1</td>\n",
              "      <td>pt</td>\n",
              "      <td>Lisbon</td>\n",
              "      <td>PT</td>\n",
              "      <td>-9.099043</td>\n",
              "      <td>38.747518</td>\n",
              "    </tr>\n",
              "  </tbody>\n",
              "</table>\n",
              "<p>500 rows × 8 columns</p>\n",
              "</div>"
            ],
            "text/plain": [
              "                         data  ...  longitude\n",
              "pais                           ...           \n",
              "Brazil    2020-05-23 00:21:14  ... -22.522600\n",
              "Brazil    2020-03-22 22:57:51  ... -23.606067\n",
              "Portugal  2020-04-14 00:11:33  ...  38.747518\n",
              "Brazil    2020-05-25 20:45:43  ... -23.550000\n",
              "Brazil    2020-04-15 10:34:39  ... -23.975947\n",
              "...                       ...  ...        ...\n",
              "Brazil    2020-04-07 16:14:13  ...  -9.932246\n",
              "Brazil    2020-03-26 18:02:28  ... -22.942800\n",
              "Canada    2020-03-18 05:28:16  ...  43.648000\n",
              "Brazil    2020-03-03 21:27:11  ... -23.550000\n",
              "Portugal  2020-01-21 13:18:03  ...  38.747518\n",
              "\n",
              "[500 rows x 8 columns]"
            ]
          },
          "metadata": {
            "tags": []
          },
          "execution_count": 34
        }
      ]
    },
    {
      "cell_type": "markdown",
      "metadata": {
        "id": "IA9RsWOZjaLj"
      },
      "source": [
        "# Seleção condicional"
      ]
    },
    {
      "cell_type": "markdown",
      "metadata": {
        "id": "DNimsIsBjcZK"
      },
      "source": [
        "É possível consultar os dados de acordo com algum critério (condição)"
      ]
    },
    {
      "cell_type": "markdown",
      "metadata": {
        "id": "Mf7_pS-Ejm3A"
      },
      "source": [
        "Exemplo:"
      ]
    },
    {
      "cell_type": "code",
      "metadata": {
        "id": "_9vh_G23jb5I",
        "outputId": "e2eb9947-5080-48bb-aa17-fa0f26022a67",
        "colab": {
          "base_uri": "https://localhost:8080/"
        }
      },
      "source": [
        "dados.sigla == 'BR'"
      ],
      "execution_count": 35,
      "outputs": [
        {
          "output_type": "execute_result",
          "data": {
            "text/plain": [
              "0       True\n",
              "1       True\n",
              "2      False\n",
              "3       True\n",
              "4       True\n",
              "       ...  \n",
              "495     True\n",
              "496     True\n",
              "497    False\n",
              "498     True\n",
              "499    False\n",
              "Name: sigla, Length: 500, dtype: bool"
            ]
          },
          "metadata": {
            "tags": []
          },
          "execution_count": 35
        }
      ]
    },
    {
      "cell_type": "markdown",
      "metadata": {
        "id": "TH5hYOW-kOJ8"
      },
      "source": [
        "### Essa operação pode ser usado em combinação `loc`"
      ]
    },
    {
      "cell_type": "code",
      "metadata": {
        "id": "MV5bTVpHkY80",
        "outputId": "7044786a-5ace-46b0-8a9e-b22503fa9239",
        "colab": {
          "base_uri": "https://localhost:8080/",
          "height": 589
        }
      },
      "source": [
        "dados.loc[dados.sigla == 'BR']"
      ],
      "execution_count": 37,
      "outputs": [
        {
          "output_type": "execute_result",
          "data": {
            "text/html": [
              "<div>\n",
              "<style scoped>\n",
              "    .dataframe tbody tr th:only-of-type {\n",
              "        vertical-align: middle;\n",
              "    }\n",
              "\n",
              "    .dataframe tbody tr th {\n",
              "        vertical-align: top;\n",
              "    }\n",
              "\n",
              "    .dataframe thead th {\n",
              "        text-align: right;\n",
              "    }\n",
              "</style>\n",
              "<table border=\"1\" class=\"dataframe\">\n",
              "  <thead>\n",
              "    <tr style=\"text-align: right;\">\n",
              "      <th></th>\n",
              "      <th>data</th>\n",
              "      <th>texto</th>\n",
              "      <th>retweet</th>\n",
              "      <th>idioma</th>\n",
              "      <th>lugar</th>\n",
              "      <th>pais</th>\n",
              "      <th>sigla</th>\n",
              "      <th>latitude</th>\n",
              "      <th>longitude</th>\n",
              "    </tr>\n",
              "  </thead>\n",
              "  <tbody>\n",
              "    <tr>\n",
              "      <th>0</th>\n",
              "      <td>2020-05-23 00:21:14</td>\n",
              "      <td>Para voltar tudo ao normal, você precisa fazer...</td>\n",
              "      <td>0</td>\n",
              "      <td>pt</td>\n",
              "      <td>Rio das Ostras</td>\n",
              "      <td>Brazil</td>\n",
              "      <td>BR</td>\n",
              "      <td>-41.937900</td>\n",
              "      <td>-22.522600</td>\n",
              "    </tr>\n",
              "    <tr>\n",
              "      <th>1</th>\n",
              "      <td>2020-03-22 22:57:51</td>\n",
              "      <td>14.245 – O que é a hidroxicloroquina? https://...</td>\n",
              "      <td>0</td>\n",
              "      <td>pt</td>\n",
              "      <td>Sao Paulo</td>\n",
              "      <td>Brazil</td>\n",
              "      <td>BR</td>\n",
              "      <td>-46.674739</td>\n",
              "      <td>-23.606067</td>\n",
              "    </tr>\n",
              "    <tr>\n",
              "      <th>3</th>\n",
              "      <td>2020-05-25 20:45:43</td>\n",
              "      <td>COVID-19 |  Hospital municipal Tide Setúbal, n...</td>\n",
              "      <td>0</td>\n",
              "      <td>pt</td>\n",
              "      <td>Sao Paulo</td>\n",
              "      <td>Brazil</td>\n",
              "      <td>BR</td>\n",
              "      <td>-46.633300</td>\n",
              "      <td>-23.550000</td>\n",
              "    </tr>\n",
              "    <tr>\n",
              "      <th>4</th>\n",
              "      <td>2020-04-15 10:34:39</td>\n",
              "      <td>#cenasdocotidiano #santos #distanciamentosocia...</td>\n",
              "      <td>0</td>\n",
              "      <td>pt</td>\n",
              "      <td>Santos</td>\n",
              "      <td>Brazil</td>\n",
              "      <td>BR</td>\n",
              "      <td>-46.293700</td>\n",
              "      <td>-23.975947</td>\n",
              "    </tr>\n",
              "    <tr>\n",
              "      <th>7</th>\n",
              "      <td>2020-03-22 19:12:37</td>\n",
              "      <td>Memórias do cárcere. Hoje deu até pra treinar ...</td>\n",
              "      <td>0</td>\n",
              "      <td>pt</td>\n",
              "      <td>Rio de Janeiro</td>\n",
              "      <td>Brazil</td>\n",
              "      <td>BR</td>\n",
              "      <td>-43.273900</td>\n",
              "      <td>-22.961900</td>\n",
              "    </tr>\n",
              "    <tr>\n",
              "      <th>...</th>\n",
              "      <td>...</td>\n",
              "      <td>...</td>\n",
              "      <td>...</td>\n",
              "      <td>...</td>\n",
              "      <td>...</td>\n",
              "      <td>...</td>\n",
              "      <td>...</td>\n",
              "      <td>...</td>\n",
              "      <td>...</td>\n",
              "    </tr>\n",
              "    <tr>\n",
              "      <th>493</th>\n",
              "      <td>2020-04-08 23:40:59</td>\n",
              "      <td>A Lei 13.987/20 garante a distribuição dos ali...</td>\n",
              "      <td>0</td>\n",
              "      <td>pt</td>\n",
              "      <td>Medianeira</td>\n",
              "      <td>Brazil</td>\n",
              "      <td>BR</td>\n",
              "      <td>-54.104104</td>\n",
              "      <td>-25.297434</td>\n",
              "    </tr>\n",
              "    <tr>\n",
              "      <th>494</th>\n",
              "      <td>2020-04-14 12:06:38</td>\n",
              "      <td>A 2ª Vara de Família e Sucessões de Jacareí, e...</td>\n",
              "      <td>0</td>\n",
              "      <td>pt</td>\n",
              "      <td>Sao Paulo</td>\n",
              "      <td>Brazil</td>\n",
              "      <td>BR</td>\n",
              "      <td>-46.638670</td>\n",
              "      <td>-23.540780</td>\n",
              "    </tr>\n",
              "    <tr>\n",
              "      <th>495</th>\n",
              "      <td>2020-04-07 16:14:13</td>\n",
              "      <td>O isolamento social também serve para mostrar ...</td>\n",
              "      <td>1</td>\n",
              "      <td>pt</td>\n",
              "      <td>Rio Branco</td>\n",
              "      <td>Brazil</td>\n",
              "      <td>BR</td>\n",
              "      <td>-67.859657</td>\n",
              "      <td>-9.932246</td>\n",
              "    </tr>\n",
              "    <tr>\n",
              "      <th>496</th>\n",
              "      <td>2020-03-26 18:02:28</td>\n",
              "      <td>Enquanto o mundo está atento ao covid 19 é o B...</td>\n",
              "      <td>0</td>\n",
              "      <td>pt</td>\n",
              "      <td>Rio de Janeiro</td>\n",
              "      <td>Brazil</td>\n",
              "      <td>BR</td>\n",
              "      <td>-43.358100</td>\n",
              "      <td>-22.942800</td>\n",
              "    </tr>\n",
              "    <tr>\n",
              "      <th>498</th>\n",
              "      <td>2020-03-03 21:27:11</td>\n",
              "      <td>Um vira-lata sem Coronavirus #joeviralata #dog...</td>\n",
              "      <td>0</td>\n",
              "      <td>pt</td>\n",
              "      <td>Sao Paulo</td>\n",
              "      <td>Brazil</td>\n",
              "      <td>BR</td>\n",
              "      <td>-46.633300</td>\n",
              "      <td>-23.550000</td>\n",
              "    </tr>\n",
              "  </tbody>\n",
              "</table>\n",
              "<p>392 rows × 9 columns</p>\n",
              "</div>"
            ],
            "text/plain": [
              "                    data  ...  longitude\n",
              "0    2020-05-23 00:21:14  ... -22.522600\n",
              "1    2020-03-22 22:57:51  ... -23.606067\n",
              "3    2020-05-25 20:45:43  ... -23.550000\n",
              "4    2020-04-15 10:34:39  ... -23.975947\n",
              "7    2020-03-22 19:12:37  ... -22.961900\n",
              "..                   ...  ...        ...\n",
              "493  2020-04-08 23:40:59  ... -25.297434\n",
              "494  2020-04-14 12:06:38  ... -23.540780\n",
              "495  2020-04-07 16:14:13  ...  -9.932246\n",
              "496  2020-03-26 18:02:28  ... -22.942800\n",
              "498  2020-03-03 21:27:11  ... -23.550000\n",
              "\n",
              "[392 rows x 9 columns]"
            ]
          },
          "metadata": {
            "tags": []
          },
          "execution_count": 37
        }
      ]
    },
    {
      "cell_type": "markdown",
      "metadata": {
        "id": "ji2GuZoGf1cm"
      },
      "source": [
        "# Funções de Sumário (*Summary*)"
      ]
    },
    {
      "cell_type": "markdown",
      "metadata": {
        "id": "qaPpix8wlp3-"
      },
      "source": [
        "### `describe()` é a função que apresenta um conjunto de estatísticas sobre um determinado campo (coluna)."
      ]
    },
    {
      "cell_type": "markdown",
      "metadata": {
        "id": "0IwMTUqDl0E6"
      },
      "source": [
        "Exemplo 1:"
      ]
    },
    {
      "cell_type": "code",
      "metadata": {
        "id": "S4Ts99jHgOnw"
      },
      "source": [
        "dados.retweet.describe()"
      ],
      "execution_count": null,
      "outputs": []
    },
    {
      "cell_type": "markdown",
      "metadata": {
        "id": "2CY_rDCGhLHt"
      },
      "source": [
        "### A função `describe()` ainda pode ser utilizada para campos não numéricos\n"
      ]
    },
    {
      "cell_type": "markdown",
      "metadata": {
        "id": "K1_g9SRwl-Nt"
      },
      "source": [
        "Exemplo 1:"
      ]
    },
    {
      "cell_type": "code",
      "metadata": {
        "id": "YQS3j1NOhUPI",
        "outputId": "ab6c5ac3-26ea-4b74-931e-aab07700ee2f",
        "colab": {
          "base_uri": "https://localhost:8080/"
        }
      },
      "source": [
        "dados.sigla.describe()"
      ],
      "execution_count": 38,
      "outputs": [
        {
          "output_type": "execute_result",
          "data": {
            "text/plain": [
              "count     499\n",
              "unique     21\n",
              "top        BR\n",
              "freq      392\n",
              "Name: sigla, dtype: object"
            ]
          },
          "metadata": {
            "tags": []
          },
          "execution_count": 38
        }
      ]
    },
    {
      "cell_type": "markdown",
      "metadata": {
        "id": "wzb29OA9l_-N"
      },
      "source": [
        "Exemplo 2:"
      ]
    },
    {
      "cell_type": "code",
      "metadata": {
        "id": "Kw9CurPOhkW1",
        "outputId": "24c1e5ae-df12-4b6e-a26f-ab62634983da",
        "colab": {
          "base_uri": "https://localhost:8080/"
        }
      },
      "source": [
        "dados.data.describe()"
      ],
      "execution_count": 39,
      "outputs": [
        {
          "output_type": "execute_result",
          "data": {
            "text/plain": [
              "count                     500\n",
              "unique                    500\n",
              "top       2020-04-15 23:37:04\n",
              "freq                        1\n",
              "Name: data, dtype: object"
            ]
          },
          "metadata": {
            "tags": []
          },
          "execution_count": 39
        }
      ]
    },
    {
      "cell_type": "markdown",
      "metadata": {
        "id": "_YVKPBBJh6ja"
      },
      "source": [
        "### É possível ainda usar uma função de estatística específica para um determinado campo"
      ]
    },
    {
      "cell_type": "code",
      "metadata": {
        "id": "Xl6aUlP5hlXF",
        "outputId": "20640589-1d59-43c9-80a1-b8bbc2d6ef26",
        "colab": {
          "base_uri": "https://localhost:8080/"
        }
      },
      "source": [
        "dados.retweet.mean()"
      ],
      "execution_count": 40,
      "outputs": [
        {
          "output_type": "execute_result",
          "data": {
            "text/plain": [
              "0.172"
            ]
          },
          "metadata": {
            "tags": []
          },
          "execution_count": 40
        }
      ]
    },
    {
      "cell_type": "markdown",
      "metadata": {
        "id": "Vpm0TGYXixXW"
      },
      "source": [
        "### A função `unique()` apresenta os valores únicos"
      ]
    },
    {
      "cell_type": "code",
      "metadata": {
        "id": "w8nEf0sOi4kD",
        "outputId": "131045ed-d908-4873-d322-62c9550dd254",
        "colab": {
          "base_uri": "https://localhost:8080/"
        }
      },
      "source": [
        "dados.sigla.unique()"
      ],
      "execution_count": 41,
      "outputs": [
        {
          "output_type": "execute_result",
          "data": {
            "text/plain": [
              "array(['BR', 'PT', 'VA', 'CA', 'US', 'ID', 'ES', 'AU', 'MX', 'NL', 'CH',\n",
              "       'NZ', 'CW', 'IT', 'IN', 'DO', 'EC', 'CN', nan, 'FR', 'MZ', 'GB'],\n",
              "      dtype=object)"
            ]
          },
          "metadata": {
            "tags": []
          },
          "execution_count": 41
        }
      ]
    },
    {
      "cell_type": "markdown",
      "metadata": {
        "id": "f5MtjoklmFH-"
      },
      "source": [
        "Exemplo:"
      ]
    },
    {
      "cell_type": "code",
      "metadata": {
        "id": "F_WjSZ22jNnR",
        "outputId": "c30cd954-ef77-42c1-ab76-788bdb3a0aec",
        "colab": {
          "base_uri": "https://localhost:8080/"
        }
      },
      "source": [
        "dados.sigla.value_counts()"
      ],
      "execution_count": 42,
      "outputs": [
        {
          "output_type": "execute_result",
          "data": {
            "text/plain": [
              "BR    392\n",
              "PT     67\n",
              "US     11\n",
              "CA      6\n",
              "ES      3\n",
              "AU      2\n",
              "NZ      2\n",
              "FR      2\n",
              "IT      2\n",
              "EC      1\n",
              "CN      1\n",
              "MZ      1\n",
              "CH      1\n",
              "DO      1\n",
              "IN      1\n",
              "VA      1\n",
              "MX      1\n",
              "ID      1\n",
              "CW      1\n",
              "NL      1\n",
              "GB      1\n",
              "Name: sigla, dtype: int64"
            ]
          },
          "metadata": {
            "tags": []
          },
          "execution_count": 42
        }
      ]
    },
    {
      "cell_type": "markdown",
      "metadata": {
        "id": "uG15rtV5mHuC"
      },
      "source": [
        "#Agrupamento de dados"
      ]
    },
    {
      "cell_type": "markdown",
      "metadata": {
        "id": "q6bK-4cqmfjJ"
      },
      "source": [
        "### Função `groupby()`"
      ]
    },
    {
      "cell_type": "markdown",
      "metadata": {
        "id": "vS8o9GpgmJHV"
      },
      "source": [
        "Exemplo 1:"
      ]
    },
    {
      "cell_type": "code",
      "metadata": {
        "id": "X2AiETx1mmum",
        "outputId": "bb06e1e9-371b-457b-9f7a-548009ef6f81",
        "colab": {
          "base_uri": "https://localhost:8080/"
        }
      },
      "source": [
        "dados.groupby('sigla')"
      ],
      "execution_count": 43,
      "outputs": [
        {
          "output_type": "execute_result",
          "data": {
            "text/plain": [
              "<pandas.core.groupby.generic.DataFrameGroupBy object at 0x7fbb94e1b2d0>"
            ]
          },
          "metadata": {
            "tags": []
          },
          "execution_count": 43
        }
      ]
    },
    {
      "cell_type": "markdown",
      "metadata": {
        "id": "UjyN85d2mMUy"
      },
      "source": [
        "Exemplo 2:"
      ]
    },
    {
      "cell_type": "code",
      "metadata": {
        "id": "q5djlcgynliS",
        "outputId": "79a988d9-d411-439f-bd68-f8686491e3fe",
        "colab": {
          "base_uri": "https://localhost:8080/"
        }
      },
      "source": [
        "dados.groupby('sigla').sigla"
      ],
      "execution_count": 44,
      "outputs": [
        {
          "output_type": "execute_result",
          "data": {
            "text/plain": [
              "<pandas.core.groupby.generic.SeriesGroupBy object at 0x7fbb94e21a10>"
            ]
          },
          "metadata": {
            "tags": []
          },
          "execution_count": 44
        }
      ]
    },
    {
      "cell_type": "markdown",
      "metadata": {
        "id": "pjL0yM8emOLG"
      },
      "source": [
        "Exemplo 3:"
      ]
    },
    {
      "cell_type": "code",
      "metadata": {
        "id": "7_uiLKFtm69H",
        "outputId": "91f7261a-3a15-46a3-befc-607178c972ce",
        "colab": {
          "base_uri": "https://localhost:8080/"
        }
      },
      "source": [
        "dados.groupby('sigla').sigla.count()"
      ],
      "execution_count": 45,
      "outputs": [
        {
          "output_type": "execute_result",
          "data": {
            "text/plain": [
              "sigla\n",
              "AU      2\n",
              "BR    392\n",
              "CA      6\n",
              "CH      1\n",
              "CN      1\n",
              "CW      1\n",
              "DO      1\n",
              "EC      1\n",
              "ES      3\n",
              "FR      2\n",
              "GB      1\n",
              "ID      1\n",
              "IN      1\n",
              "IT      2\n",
              "MX      1\n",
              "MZ      1\n",
              "NL      1\n",
              "NZ      2\n",
              "PT     67\n",
              "US     11\n",
              "VA      1\n",
              "Name: sigla, dtype: int64"
            ]
          },
          "metadata": {
            "tags": []
          },
          "execution_count": 45
        }
      ]
    },
    {
      "cell_type": "markdown",
      "metadata": {
        "id": "ZIeDhCHRn842"
      },
      "source": [
        "### A função `groupby` pode ainda ser usada para exibir outro campo"
      ]
    },
    {
      "cell_type": "code",
      "metadata": {
        "id": "Mjmh4neLoDD9",
        "outputId": "189fe751-3ac1-4753-8564-75a336985020",
        "colab": {
          "base_uri": "https://localhost:8080/"
        }
      },
      "source": [
        "dados.groupby('sigla').retweet.max()"
      ],
      "execution_count": 46,
      "outputs": [
        {
          "output_type": "execute_result",
          "data": {
            "text/plain": [
              "sigla\n",
              "AU    1\n",
              "BR    3\n",
              "CA    2\n",
              "CH    0\n",
              "CN    0\n",
              "CW    0\n",
              "DO    0\n",
              "EC    0\n",
              "ES    0\n",
              "FR    0\n",
              "GB    1\n",
              "ID    0\n",
              "IN    0\n",
              "IT    0\n",
              "MX    0\n",
              "MZ    0\n",
              "NL    0\n",
              "NZ    0\n",
              "PT    4\n",
              "US    2\n",
              "VA    0\n",
              "Name: retweet, dtype: int64"
            ]
          },
          "metadata": {
            "tags": []
          },
          "execution_count": 46
        }
      ]
    },
    {
      "cell_type": "markdown",
      "metadata": {
        "id": "C5W7iDbFqBjo"
      },
      "source": [
        "#Ordenação de dados"
      ]
    },
    {
      "cell_type": "markdown",
      "metadata": {
        "id": "vPtAgJqBqcDM"
      },
      "source": [
        "### A função `sort_values()` pode ser usada para ordenar os valores por um determinado campo"
      ]
    },
    {
      "cell_type": "code",
      "metadata": {
        "id": "-5JU3U2AqRGF"
      },
      "source": [
        "dados.sort_values(by='sigla')"
      ],
      "execution_count": null,
      "outputs": []
    },
    {
      "cell_type": "markdown",
      "metadata": {
        "id": "_iXAv3Llq2Vu"
      },
      "source": [
        "### A ordenação padrão é de forma ascendente. Porém, é possível ordenar de maneira descendente"
      ]
    },
    {
      "cell_type": "code",
      "metadata": {
        "id": "yLa5mqqMrF__"
      },
      "source": [
        "dados.sort_values(by='sigla', ascending=False)"
      ],
      "execution_count": null,
      "outputs": []
    },
    {
      "cell_type": "markdown",
      "metadata": {
        "id": "C2aXoZKOrbhz"
      },
      "source": [
        "### A ordenação por índices é feita através da função `sort_index()`"
      ]
    },
    {
      "cell_type": "code",
      "metadata": {
        "id": "404_fU4hrlz9",
        "outputId": "38d721b3-57a8-4b00-9f7f-6bc302e76ec5",
        "colab": {
          "base_uri": "https://localhost:8080/",
          "height": 589
        }
      },
      "source": [
        "dados.sort_index()"
      ],
      "execution_count": 47,
      "outputs": [
        {
          "output_type": "execute_result",
          "data": {
            "text/html": [
              "<div>\n",
              "<style scoped>\n",
              "    .dataframe tbody tr th:only-of-type {\n",
              "        vertical-align: middle;\n",
              "    }\n",
              "\n",
              "    .dataframe tbody tr th {\n",
              "        vertical-align: top;\n",
              "    }\n",
              "\n",
              "    .dataframe thead th {\n",
              "        text-align: right;\n",
              "    }\n",
              "</style>\n",
              "<table border=\"1\" class=\"dataframe\">\n",
              "  <thead>\n",
              "    <tr style=\"text-align: right;\">\n",
              "      <th></th>\n",
              "      <th>data</th>\n",
              "      <th>texto</th>\n",
              "      <th>retweet</th>\n",
              "      <th>idioma</th>\n",
              "      <th>lugar</th>\n",
              "      <th>pais</th>\n",
              "      <th>sigla</th>\n",
              "      <th>latitude</th>\n",
              "      <th>longitude</th>\n",
              "    </tr>\n",
              "  </thead>\n",
              "  <tbody>\n",
              "    <tr>\n",
              "      <th>0</th>\n",
              "      <td>2020-05-23 00:21:14</td>\n",
              "      <td>Para voltar tudo ao normal, você precisa fazer...</td>\n",
              "      <td>0</td>\n",
              "      <td>pt</td>\n",
              "      <td>Rio das Ostras</td>\n",
              "      <td>Brazil</td>\n",
              "      <td>BR</td>\n",
              "      <td>-41.937900</td>\n",
              "      <td>-22.522600</td>\n",
              "    </tr>\n",
              "    <tr>\n",
              "      <th>1</th>\n",
              "      <td>2020-03-22 22:57:51</td>\n",
              "      <td>14.245 – O que é a hidroxicloroquina? https://...</td>\n",
              "      <td>0</td>\n",
              "      <td>pt</td>\n",
              "      <td>Sao Paulo</td>\n",
              "      <td>Brazil</td>\n",
              "      <td>BR</td>\n",
              "      <td>-46.674739</td>\n",
              "      <td>-23.606067</td>\n",
              "    </tr>\n",
              "    <tr>\n",
              "      <th>2</th>\n",
              "      <td>2020-04-14 00:11:33</td>\n",
              "      <td>Quarta morte em Lar de Estarreja associada à C...</td>\n",
              "      <td>1</td>\n",
              "      <td>pt</td>\n",
              "      <td>Lisbon</td>\n",
              "      <td>Portugal</td>\n",
              "      <td>PT</td>\n",
              "      <td>-9.099043</td>\n",
              "      <td>38.747518</td>\n",
              "    </tr>\n",
              "    <tr>\n",
              "      <th>3</th>\n",
              "      <td>2020-05-25 20:45:43</td>\n",
              "      <td>COVID-19 |  Hospital municipal Tide Setúbal, n...</td>\n",
              "      <td>0</td>\n",
              "      <td>pt</td>\n",
              "      <td>Sao Paulo</td>\n",
              "      <td>Brazil</td>\n",
              "      <td>BR</td>\n",
              "      <td>-46.633300</td>\n",
              "      <td>-23.550000</td>\n",
              "    </tr>\n",
              "    <tr>\n",
              "      <th>4</th>\n",
              "      <td>2020-04-15 10:34:39</td>\n",
              "      <td>#cenasdocotidiano #santos #distanciamentosocia...</td>\n",
              "      <td>0</td>\n",
              "      <td>pt</td>\n",
              "      <td>Santos</td>\n",
              "      <td>Brazil</td>\n",
              "      <td>BR</td>\n",
              "      <td>-46.293700</td>\n",
              "      <td>-23.975947</td>\n",
              "    </tr>\n",
              "    <tr>\n",
              "      <th>...</th>\n",
              "      <td>...</td>\n",
              "      <td>...</td>\n",
              "      <td>...</td>\n",
              "      <td>...</td>\n",
              "      <td>...</td>\n",
              "      <td>...</td>\n",
              "      <td>...</td>\n",
              "      <td>...</td>\n",
              "      <td>...</td>\n",
              "    </tr>\n",
              "    <tr>\n",
              "      <th>495</th>\n",
              "      <td>2020-04-07 16:14:13</td>\n",
              "      <td>O isolamento social também serve para mostrar ...</td>\n",
              "      <td>1</td>\n",
              "      <td>pt</td>\n",
              "      <td>Rio Branco</td>\n",
              "      <td>Brazil</td>\n",
              "      <td>BR</td>\n",
              "      <td>-67.859657</td>\n",
              "      <td>-9.932246</td>\n",
              "    </tr>\n",
              "    <tr>\n",
              "      <th>496</th>\n",
              "      <td>2020-03-26 18:02:28</td>\n",
              "      <td>Enquanto o mundo está atento ao covid 19 é o B...</td>\n",
              "      <td>0</td>\n",
              "      <td>pt</td>\n",
              "      <td>Rio de Janeiro</td>\n",
              "      <td>Brazil</td>\n",
              "      <td>BR</td>\n",
              "      <td>-43.358100</td>\n",
              "      <td>-22.942800</td>\n",
              "    </tr>\n",
              "    <tr>\n",
              "      <th>497</th>\n",
              "      <td>2020-03-18 05:28:16</td>\n",
              "      <td>#covid_19 #stayhome @ Toronto, Ontario https:/...</td>\n",
              "      <td>0</td>\n",
              "      <td>pt</td>\n",
              "      <td>Toronto</td>\n",
              "      <td>Canada</td>\n",
              "      <td>CA</td>\n",
              "      <td>-79.387200</td>\n",
              "      <td>43.648000</td>\n",
              "    </tr>\n",
              "    <tr>\n",
              "      <th>498</th>\n",
              "      <td>2020-03-03 21:27:11</td>\n",
              "      <td>Um vira-lata sem Coronavirus #joeviralata #dog...</td>\n",
              "      <td>0</td>\n",
              "      <td>pt</td>\n",
              "      <td>Sao Paulo</td>\n",
              "      <td>Brazil</td>\n",
              "      <td>BR</td>\n",
              "      <td>-46.633300</td>\n",
              "      <td>-23.550000</td>\n",
              "    </tr>\n",
              "    <tr>\n",
              "      <th>499</th>\n",
              "      <td>2020-01-21 13:18:03</td>\n",
              "      <td>Portugal já está a preparar-se para responder ...</td>\n",
              "      <td>1</td>\n",
              "      <td>pt</td>\n",
              "      <td>Lisbon</td>\n",
              "      <td>Portugal</td>\n",
              "      <td>PT</td>\n",
              "      <td>-9.099043</td>\n",
              "      <td>38.747518</td>\n",
              "    </tr>\n",
              "  </tbody>\n",
              "</table>\n",
              "<p>500 rows × 9 columns</p>\n",
              "</div>"
            ],
            "text/plain": [
              "                    data  ...  longitude\n",
              "0    2020-05-23 00:21:14  ... -22.522600\n",
              "1    2020-03-22 22:57:51  ... -23.606067\n",
              "2    2020-04-14 00:11:33  ...  38.747518\n",
              "3    2020-05-25 20:45:43  ... -23.550000\n",
              "4    2020-04-15 10:34:39  ... -23.975947\n",
              "..                   ...  ...        ...\n",
              "495  2020-04-07 16:14:13  ...  -9.932246\n",
              "496  2020-03-26 18:02:28  ... -22.942800\n",
              "497  2020-03-18 05:28:16  ...  43.648000\n",
              "498  2020-03-03 21:27:11  ... -23.550000\n",
              "499  2020-01-21 13:18:03  ...  38.747518\n",
              "\n",
              "[500 rows x 9 columns]"
            ]
          },
          "metadata": {
            "tags": []
          },
          "execution_count": 47
        }
      ]
    },
    {
      "cell_type": "markdown",
      "metadata": {
        "id": "tYPDhhmjsC__"
      },
      "source": [
        "### A ordenação ainda pode ser feita por mais de um campo ao mesmo tempo"
      ]
    },
    {
      "cell_type": "code",
      "metadata": {
        "id": "0B-r00UesLpL"
      },
      "source": [
        "dados.sort_values(by=['pais', 'lugar'])"
      ],
      "execution_count": null,
      "outputs": []
    },
    {
      "cell_type": "markdown",
      "metadata": {
        "id": "FuS22THQtT1Q"
      },
      "source": [
        "# Tipo de dados em `DataFrame` e `Series`"
      ]
    },
    {
      "cell_type": "markdown",
      "metadata": {
        "id": "TfQky6ajtmpo"
      },
      "source": [
        "### Para verificar o tipo de um dado em Python nós usamos o comando `type`"
      ]
    },
    {
      "cell_type": "code",
      "metadata": {
        "id": "cIn8rb3mty_B",
        "outputId": "cd79f3a6-2905-4513-ea4e-7c2a58af4dd7",
        "colab": {
          "base_uri": "https://localhost:8080/"
        }
      },
      "source": [
        "type(dados)"
      ],
      "execution_count": 48,
      "outputs": [
        {
          "output_type": "execute_result",
          "data": {
            "text/plain": [
              "pandas.core.frame.DataFrame"
            ]
          },
          "metadata": {
            "tags": []
          },
          "execution_count": 48
        }
      ]
    },
    {
      "cell_type": "markdown",
      "metadata": {
        "id": "Vh9owK-1uBoT"
      },
      "source": [
        "### Para verificarmos o tipo de dados de uma coluna de um `DataFrame` ou `Series` em Python nós usamos o comando `dtype`"
      ]
    },
    {
      "cell_type": "code",
      "metadata": {
        "id": "8Vuyc5oVuDKQ",
        "outputId": "9dd08c29-5eed-466c-f3dc-4c8b2e51e76d",
        "colab": {
          "base_uri": "https://localhost:8080/"
        }
      },
      "source": [
        "dados.retweet.dtype"
      ],
      "execution_count": 49,
      "outputs": [
        {
          "output_type": "execute_result",
          "data": {
            "text/plain": [
              "dtype('int64')"
            ]
          },
          "metadata": {
            "tags": []
          },
          "execution_count": 49
        }
      ]
    },
    {
      "cell_type": "code",
      "metadata": {
        "id": "rV66uwznuT-5",
        "outputId": "3d7d0c9c-794c-4989-be03-9131dd59c730",
        "colab": {
          "base_uri": "https://localhost:8080/"
        }
      },
      "source": [
        "dados.idioma.dtype"
      ],
      "execution_count": 50,
      "outputs": [
        {
          "output_type": "execute_result",
          "data": {
            "text/plain": [
              "dtype('O')"
            ]
          },
          "metadata": {
            "tags": []
          },
          "execution_count": 50
        }
      ]
    },
    {
      "cell_type": "markdown",
      "metadata": {
        "id": "BT0LCmhRuwpm"
      },
      "source": [
        "### Nós podemos ainda verificar o tipo de dados de todas as colunas de um `DataFrame`"
      ]
    },
    {
      "cell_type": "code",
      "metadata": {
        "id": "p7mEffTjue_q",
        "outputId": "61aae773-ebbe-417e-9393-9405cda1a493",
        "colab": {
          "base_uri": "https://localhost:8080/"
        }
      },
      "source": [
        "dados.dtypes"
      ],
      "execution_count": 51,
      "outputs": [
        {
          "output_type": "execute_result",
          "data": {
            "text/plain": [
              "data          object\n",
              "texto         object\n",
              "retweet        int64\n",
              "idioma        object\n",
              "lugar         object\n",
              "pais          object\n",
              "sigla         object\n",
              "latitude     float64\n",
              "longitude    float64\n",
              "dtype: object"
            ]
          },
          "metadata": {
            "tags": []
          },
          "execution_count": 51
        }
      ]
    },
    {
      "cell_type": "markdown",
      "metadata": {
        "id": "t0g2uespwF-c"
      },
      "source": [
        "### É possível ainda converter o tipo de uma determinada coluna para outro tipo"
      ]
    },
    {
      "cell_type": "markdown",
      "metadata": {
        "id": "3WfnAWRNnOdW"
      },
      "source": [
        "Exemplo 1:"
      ]
    },
    {
      "cell_type": "code",
      "metadata": {
        "id": "d1gT9hKswGLe",
        "outputId": "4cc67ef2-0a83-4f26-9717-f0b3b45d7f14",
        "colab": {
          "base_uri": "https://localhost:8080/"
        }
      },
      "source": [
        "dados.retweet"
      ],
      "execution_count": 52,
      "outputs": [
        {
          "output_type": "execute_result",
          "data": {
            "text/plain": [
              "0      0\n",
              "1      0\n",
              "2      1\n",
              "3      0\n",
              "4      0\n",
              "      ..\n",
              "495    1\n",
              "496    0\n",
              "497    0\n",
              "498    0\n",
              "499    1\n",
              "Name: retweet, Length: 500, dtype: int64"
            ]
          },
          "metadata": {
            "tags": []
          },
          "execution_count": 52
        }
      ]
    },
    {
      "cell_type": "markdown",
      "metadata": {
        "id": "PN-AlkHynQJ9"
      },
      "source": [
        "Exemplo 2:"
      ]
    },
    {
      "cell_type": "code",
      "metadata": {
        "id": "bXjvwtsRwKhD",
        "outputId": "47fb6eb1-ec2c-4ce2-8c96-b2c0feeaaa42",
        "colab": {
          "base_uri": "https://localhost:8080/"
        }
      },
      "source": [
        "dados.retweet.astype('float64')#converter tipos de variáveis"
      ],
      "execution_count": 53,
      "outputs": [
        {
          "output_type": "execute_result",
          "data": {
            "text/plain": [
              "0      0.0\n",
              "1      0.0\n",
              "2      1.0\n",
              "3      0.0\n",
              "4      0.0\n",
              "      ... \n",
              "495    1.0\n",
              "496    0.0\n",
              "497    0.0\n",
              "498    0.0\n",
              "499    1.0\n",
              "Name: retweet, Length: 500, dtype: float64"
            ]
          },
          "metadata": {
            "tags": []
          },
          "execution_count": 53
        }
      ]
    },
    {
      "cell_type": "markdown",
      "metadata": {
        "id": "kvCgVBURw7e3"
      },
      "source": [
        "### Seria possível converter uma coluna para qualquer outro tipo de dados?"
      ]
    },
    {
      "cell_type": "code",
      "metadata": {
        "id": "avknbHNawkuI",
        "outputId": "33a90b48-f55e-46c8-fdc9-3555b09302f8",
        "colab": {
          "base_uri": "https://localhost:8080/",
          "height": 306
        }
      },
      "source": [
        "dados.sigla.astype('float64')"
      ],
      "execution_count": 54,
      "outputs": [
        {
          "output_type": "error",
          "ename": "ValueError",
          "evalue": "ignored",
          "traceback": [
            "\u001b[0;31m---------------------------------------------------------------------------\u001b[0m",
            "\u001b[0;31mValueError\u001b[0m                                Traceback (most recent call last)",
            "\u001b[0;32m<ipython-input-54-ec41f8a3569e>\u001b[0m in \u001b[0;36m<module>\u001b[0;34m()\u001b[0m\n\u001b[0;32m----> 1\u001b[0;31m \u001b[0mdados\u001b[0m\u001b[0;34m.\u001b[0m\u001b[0msigla\u001b[0m\u001b[0;34m.\u001b[0m\u001b[0mastype\u001b[0m\u001b[0;34m(\u001b[0m\u001b[0;34m'float64'\u001b[0m\u001b[0;34m)\u001b[0m\u001b[0;34m\u001b[0m\u001b[0;34m\u001b[0m\u001b[0m\n\u001b[0m",
            "\u001b[0;32m/usr/local/lib/python3.7/dist-packages/pandas/core/generic.py\u001b[0m in \u001b[0;36mastype\u001b[0;34m(self, dtype, copy, errors)\u001b[0m\n\u001b[1;32m   5546\u001b[0m         \u001b[0;32melse\u001b[0m\u001b[0;34m:\u001b[0m\u001b[0;34m\u001b[0m\u001b[0;34m\u001b[0m\u001b[0m\n\u001b[1;32m   5547\u001b[0m             \u001b[0;31m# else, only a single dtype is given\u001b[0m\u001b[0;34m\u001b[0m\u001b[0;34m\u001b[0m\u001b[0;34m\u001b[0m\u001b[0m\n\u001b[0;32m-> 5548\u001b[0;31m             \u001b[0mnew_data\u001b[0m \u001b[0;34m=\u001b[0m \u001b[0mself\u001b[0m\u001b[0;34m.\u001b[0m\u001b[0m_mgr\u001b[0m\u001b[0;34m.\u001b[0m\u001b[0mastype\u001b[0m\u001b[0;34m(\u001b[0m\u001b[0mdtype\u001b[0m\u001b[0;34m=\u001b[0m\u001b[0mdtype\u001b[0m\u001b[0;34m,\u001b[0m \u001b[0mcopy\u001b[0m\u001b[0;34m=\u001b[0m\u001b[0mcopy\u001b[0m\u001b[0;34m,\u001b[0m \u001b[0merrors\u001b[0m\u001b[0;34m=\u001b[0m\u001b[0merrors\u001b[0m\u001b[0;34m,\u001b[0m\u001b[0;34m)\u001b[0m\u001b[0;34m\u001b[0m\u001b[0;34m\u001b[0m\u001b[0m\n\u001b[0m\u001b[1;32m   5549\u001b[0m             \u001b[0;32mreturn\u001b[0m \u001b[0mself\u001b[0m\u001b[0;34m.\u001b[0m\u001b[0m_constructor\u001b[0m\u001b[0;34m(\u001b[0m\u001b[0mnew_data\u001b[0m\u001b[0;34m)\u001b[0m\u001b[0;34m.\u001b[0m\u001b[0m__finalize__\u001b[0m\u001b[0;34m(\u001b[0m\u001b[0mself\u001b[0m\u001b[0;34m,\u001b[0m \u001b[0mmethod\u001b[0m\u001b[0;34m=\u001b[0m\u001b[0;34m\"astype\"\u001b[0m\u001b[0;34m)\u001b[0m\u001b[0;34m\u001b[0m\u001b[0;34m\u001b[0m\u001b[0m\n\u001b[1;32m   5550\u001b[0m \u001b[0;34m\u001b[0m\u001b[0m\n",
            "\u001b[0;32m/usr/local/lib/python3.7/dist-packages/pandas/core/internals/managers.py\u001b[0m in \u001b[0;36mastype\u001b[0;34m(self, dtype, copy, errors)\u001b[0m\n\u001b[1;32m    602\u001b[0m         \u001b[0mself\u001b[0m\u001b[0;34m,\u001b[0m \u001b[0mdtype\u001b[0m\u001b[0;34m,\u001b[0m \u001b[0mcopy\u001b[0m\u001b[0;34m:\u001b[0m \u001b[0mbool\u001b[0m \u001b[0;34m=\u001b[0m \u001b[0;32mFalse\u001b[0m\u001b[0;34m,\u001b[0m \u001b[0merrors\u001b[0m\u001b[0;34m:\u001b[0m \u001b[0mstr\u001b[0m \u001b[0;34m=\u001b[0m \u001b[0;34m\"raise\"\u001b[0m\u001b[0;34m\u001b[0m\u001b[0;34m\u001b[0m\u001b[0m\n\u001b[1;32m    603\u001b[0m     ) -> \"BlockManager\":\n\u001b[0;32m--> 604\u001b[0;31m         \u001b[0;32mreturn\u001b[0m \u001b[0mself\u001b[0m\u001b[0;34m.\u001b[0m\u001b[0mapply\u001b[0m\u001b[0;34m(\u001b[0m\u001b[0;34m\"astype\"\u001b[0m\u001b[0;34m,\u001b[0m \u001b[0mdtype\u001b[0m\u001b[0;34m=\u001b[0m\u001b[0mdtype\u001b[0m\u001b[0;34m,\u001b[0m \u001b[0mcopy\u001b[0m\u001b[0;34m=\u001b[0m\u001b[0mcopy\u001b[0m\u001b[0;34m,\u001b[0m \u001b[0merrors\u001b[0m\u001b[0;34m=\u001b[0m\u001b[0merrors\u001b[0m\u001b[0;34m)\u001b[0m\u001b[0;34m\u001b[0m\u001b[0;34m\u001b[0m\u001b[0m\n\u001b[0m\u001b[1;32m    605\u001b[0m \u001b[0;34m\u001b[0m\u001b[0m\n\u001b[1;32m    606\u001b[0m     def convert(\n",
            "\u001b[0;32m/usr/local/lib/python3.7/dist-packages/pandas/core/internals/managers.py\u001b[0m in \u001b[0;36mapply\u001b[0;34m(self, f, align_keys, **kwargs)\u001b[0m\n\u001b[1;32m    407\u001b[0m                 \u001b[0mapplied\u001b[0m \u001b[0;34m=\u001b[0m \u001b[0mb\u001b[0m\u001b[0;34m.\u001b[0m\u001b[0mapply\u001b[0m\u001b[0;34m(\u001b[0m\u001b[0mf\u001b[0m\u001b[0;34m,\u001b[0m \u001b[0;34m**\u001b[0m\u001b[0mkwargs\u001b[0m\u001b[0;34m)\u001b[0m\u001b[0;34m\u001b[0m\u001b[0;34m\u001b[0m\u001b[0m\n\u001b[1;32m    408\u001b[0m             \u001b[0;32melse\u001b[0m\u001b[0;34m:\u001b[0m\u001b[0;34m\u001b[0m\u001b[0;34m\u001b[0m\u001b[0m\n\u001b[0;32m--> 409\u001b[0;31m                 \u001b[0mapplied\u001b[0m \u001b[0;34m=\u001b[0m \u001b[0mgetattr\u001b[0m\u001b[0;34m(\u001b[0m\u001b[0mb\u001b[0m\u001b[0;34m,\u001b[0m \u001b[0mf\u001b[0m\u001b[0;34m)\u001b[0m\u001b[0;34m(\u001b[0m\u001b[0;34m**\u001b[0m\u001b[0mkwargs\u001b[0m\u001b[0;34m)\u001b[0m\u001b[0;34m\u001b[0m\u001b[0;34m\u001b[0m\u001b[0m\n\u001b[0m\u001b[1;32m    410\u001b[0m             \u001b[0mresult_blocks\u001b[0m \u001b[0;34m=\u001b[0m \u001b[0m_extend_blocks\u001b[0m\u001b[0;34m(\u001b[0m\u001b[0mapplied\u001b[0m\u001b[0;34m,\u001b[0m \u001b[0mresult_blocks\u001b[0m\u001b[0;34m)\u001b[0m\u001b[0;34m\u001b[0m\u001b[0;34m\u001b[0m\u001b[0m\n\u001b[1;32m    411\u001b[0m \u001b[0;34m\u001b[0m\u001b[0m\n",
            "\u001b[0;32m/usr/local/lib/python3.7/dist-packages/pandas/core/internals/blocks.py\u001b[0m in \u001b[0;36mastype\u001b[0;34m(self, dtype, copy, errors)\u001b[0m\n\u001b[1;32m    593\u001b[0m             \u001b[0mvals1d\u001b[0m \u001b[0;34m=\u001b[0m \u001b[0mvalues\u001b[0m\u001b[0;34m.\u001b[0m\u001b[0mravel\u001b[0m\u001b[0;34m(\u001b[0m\u001b[0;34m)\u001b[0m\u001b[0;34m\u001b[0m\u001b[0;34m\u001b[0m\u001b[0m\n\u001b[1;32m    594\u001b[0m             \u001b[0;32mtry\u001b[0m\u001b[0;34m:\u001b[0m\u001b[0;34m\u001b[0m\u001b[0;34m\u001b[0m\u001b[0m\n\u001b[0;32m--> 595\u001b[0;31m                 \u001b[0mvalues\u001b[0m \u001b[0;34m=\u001b[0m \u001b[0mastype_nansafe\u001b[0m\u001b[0;34m(\u001b[0m\u001b[0mvals1d\u001b[0m\u001b[0;34m,\u001b[0m \u001b[0mdtype\u001b[0m\u001b[0;34m,\u001b[0m \u001b[0mcopy\u001b[0m\u001b[0;34m=\u001b[0m\u001b[0;32mTrue\u001b[0m\u001b[0;34m)\u001b[0m\u001b[0;34m\u001b[0m\u001b[0;34m\u001b[0m\u001b[0m\n\u001b[0m\u001b[1;32m    596\u001b[0m             \u001b[0;32mexcept\u001b[0m \u001b[0;34m(\u001b[0m\u001b[0mValueError\u001b[0m\u001b[0;34m,\u001b[0m \u001b[0mTypeError\u001b[0m\u001b[0;34m)\u001b[0m\u001b[0;34m:\u001b[0m\u001b[0;34m\u001b[0m\u001b[0;34m\u001b[0m\u001b[0m\n\u001b[1;32m    597\u001b[0m                 \u001b[0;31m# e.g. astype_nansafe can fail on object-dtype of strings\u001b[0m\u001b[0;34m\u001b[0m\u001b[0;34m\u001b[0m\u001b[0;34m\u001b[0m\u001b[0m\n",
            "\u001b[0;32m/usr/local/lib/python3.7/dist-packages/pandas/core/dtypes/cast.py\u001b[0m in \u001b[0;36mastype_nansafe\u001b[0;34m(arr, dtype, copy, skipna)\u001b[0m\n\u001b[1;32m    995\u001b[0m     \u001b[0;32mif\u001b[0m \u001b[0mcopy\u001b[0m \u001b[0;32mor\u001b[0m \u001b[0mis_object_dtype\u001b[0m\u001b[0;34m(\u001b[0m\u001b[0marr\u001b[0m\u001b[0;34m)\u001b[0m \u001b[0;32mor\u001b[0m \u001b[0mis_object_dtype\u001b[0m\u001b[0;34m(\u001b[0m\u001b[0mdtype\u001b[0m\u001b[0;34m)\u001b[0m\u001b[0;34m:\u001b[0m\u001b[0;34m\u001b[0m\u001b[0;34m\u001b[0m\u001b[0m\n\u001b[1;32m    996\u001b[0m         \u001b[0;31m# Explicit copy, or required since NumPy can't view from / to object.\u001b[0m\u001b[0;34m\u001b[0m\u001b[0;34m\u001b[0m\u001b[0;34m\u001b[0m\u001b[0m\n\u001b[0;32m--> 997\u001b[0;31m         \u001b[0;32mreturn\u001b[0m \u001b[0marr\u001b[0m\u001b[0;34m.\u001b[0m\u001b[0mastype\u001b[0m\u001b[0;34m(\u001b[0m\u001b[0mdtype\u001b[0m\u001b[0;34m,\u001b[0m \u001b[0mcopy\u001b[0m\u001b[0;34m=\u001b[0m\u001b[0;32mTrue\u001b[0m\u001b[0;34m)\u001b[0m\u001b[0;34m\u001b[0m\u001b[0;34m\u001b[0m\u001b[0m\n\u001b[0m\u001b[1;32m    998\u001b[0m \u001b[0;34m\u001b[0m\u001b[0m\n\u001b[1;32m    999\u001b[0m     \u001b[0;32mreturn\u001b[0m \u001b[0marr\u001b[0m\u001b[0;34m.\u001b[0m\u001b[0mview\u001b[0m\u001b[0;34m(\u001b[0m\u001b[0mdtype\u001b[0m\u001b[0;34m)\u001b[0m\u001b[0;34m\u001b[0m\u001b[0;34m\u001b[0m\u001b[0m\n",
            "\u001b[0;31mValueError\u001b[0m: could not convert string to float: 'BR'"
          ]
        }
      ]
    },
    {
      "cell_type": "markdown",
      "metadata": {
        "id": "ap3tFHSmns1P"
      },
      "source": [
        "### Resumo dos tipos em Pandas:"
      ]
    },
    {
      "cell_type": "markdown",
      "metadata": {
        "id": "Aq1KxlLTon0a"
      },
      "source": [
        "![](https://drive.google.com/uc?export=view&id=1l2SH97T_0Lu7VIInFzkc31HUbSep37g6)"
      ]
    },
    {
      "cell_type": "markdown",
      "metadata": {
        "id": "MZfqRb_NxXdG"
      },
      "source": [
        "### Lidando com dados ausentes"
      ]
    },
    {
      "cell_type": "markdown",
      "metadata": {
        "id": "Qwuogd6Rx8Hh"
      },
      "source": [
        "Regras gerais:\n",
        "\n",
        "*   Os dados ausentes são presentados pelo valor `NaN` que representa Not a Number.\n",
        "*   Por razões técnicas, os valores `NaN` são sempre do tipo `float64`.\n",
        "*   Pandas possui alguns métodos específicos para lidar com dados ausentes."
      ]
    },
    {
      "cell_type": "markdown",
      "metadata": {
        "id": "KC5yERWwzOdP"
      },
      "source": [
        "### O comando `pd.isnull()` é utilizado para selecionar as entradas ausentes\n"
      ]
    },
    {
      "cell_type": "code",
      "metadata": {
        "id": "Gf09OWktytIV"
      },
      "source": [
        "dados[pd.isnull(dados.sigla)]"
      ],
      "execution_count": null,
      "outputs": []
    },
    {
      "cell_type": "markdown",
      "metadata": {
        "id": "vbxpZzCLz31J"
      },
      "source": [
        "### Substituição de valores ausentes\n",
        "\n",
        "### A função `fillna()` é usada para substituir valores ausentes"
      ]
    },
    {
      "cell_type": "code",
      "metadata": {
        "id": "YRMHftBc0LH6"
      },
      "source": [
        "dados.sigla.fillna(\"PADRAO\")"
      ],
      "execution_count": null,
      "outputs": []
    },
    {
      "cell_type": "markdown",
      "metadata": {
        "id": "fcUA4oPq1SkX"
      },
      "source": [
        "### É possível ainda fazer a substituição de um valor específico por outro através do comando `replace`"
      ]
    },
    {
      "cell_type": "code",
      "metadata": {
        "id": "tWwGDI441C-k"
      },
      "source": [
        "dados.sigla.replace('BR', 'BZ')"
      ],
      "execution_count": null,
      "outputs": []
    },
    {
      "cell_type": "markdown",
      "metadata": {
        "id": "AMUR6bjg2ErV"
      },
      "source": [
        "# Formatação dos dados"
      ]
    },
    {
      "cell_type": "markdown",
      "metadata": {
        "id": "yUFwPfJo2x5G"
      },
      "source": [
        "### Regras gerais:\n",
        "\n",
        "*   É comum ocorrer a situação onde os dados não estão com nomes apropriados.\n",
        "*   Neste caso, podemos usar um conjunto de funções de Pandas para formatar `DataFrame` ou `Series`."
      ]
    },
    {
      "cell_type": "markdown",
      "metadata": {
        "id": "Vkj26tyW3Xzv"
      },
      "source": [
        "### É possível renomear as colunas e índices através do comando `rename()`"
      ]
    },
    {
      "cell_type": "code",
      "metadata": {
        "id": "nosjwRUq3aGF"
      },
      "source": [
        "#@title\n",
        "dados.rename(columns={'sigla': 'codigo'})"
      ],
      "execution_count": null,
      "outputs": []
    },
    {
      "cell_type": "markdown",
      "metadata": {
        "id": "OeQKZ3JcMcY2"
      },
      "source": [
        "# Plotar Mapas"
      ]
    },
    {
      "cell_type": "markdown",
      "metadata": {
        "id": "QoY16iOFN9om"
      },
      "source": [
        "### Projeto GeoPandas\n",
        "\n",
        "*   Projeto código aberto para lidar com dados espaciais em Python.\n",
        "*   Versão atual é a 0.8.0.\n",
        "*   Permite a realização de operações espaciais."
      ]
    },
    {
      "cell_type": "markdown",
      "metadata": {
        "id": "rbSLG4heMupm"
      },
      "source": [
        "### Instalar a biblioteca"
      ]
    },
    {
      "cell_type": "code",
      "metadata": {
        "id": "CQ-_i9JNMil9",
        "outputId": "7cd22d16-e4b6-4697-b4c8-30223770a2d8",
        "colab": {
          "base_uri": "https://localhost:8080/"
        }
      },
      "source": [
        "!pip install geopandas"
      ],
      "execution_count": 55,
      "outputs": [
        {
          "output_type": "stream",
          "text": [
            "Collecting geopandas\n",
            "\u001b[?25l  Downloading https://files.pythonhosted.org/packages/d7/bf/e9cefb69d39155d122b6ddca53893b61535fa6ffdad70bf5ef708977f53f/geopandas-0.9.0-py2.py3-none-any.whl (994kB)\n",
            "\u001b[K     |████████████████████████████████| 1.0MB 15.6MB/s \n",
            "\u001b[?25hRequirement already satisfied: pandas>=0.24.0 in /usr/local/lib/python3.7/dist-packages (from geopandas) (1.1.5)\n",
            "Collecting pyproj>=2.2.0\n",
            "\u001b[?25l  Downloading https://files.pythonhosted.org/packages/b1/72/d52e9ca81caef056062d71991b0e9b1d16af042245627c5d0e4916a36c4f/pyproj-3.0.1-cp37-cp37m-manylinux2010_x86_64.whl (6.5MB)\n",
            "\u001b[K     |████████████████████████████████| 6.5MB 46.5MB/s \n",
            "\u001b[?25hCollecting fiona>=1.8\n",
            "\u001b[?25l  Downloading https://files.pythonhosted.org/packages/47/c2/67d1d0acbaaee3b03e5e22e3b96c33219cb5dd392531c9ff9cee7c2eb3e4/Fiona-1.8.18-cp37-cp37m-manylinux1_x86_64.whl (14.8MB)\n",
            "\u001b[K     |████████████████████████████████| 14.8MB 289kB/s \n",
            "\u001b[?25hRequirement already satisfied: shapely>=1.6 in /usr/local/lib/python3.7/dist-packages (from geopandas) (1.7.1)\n",
            "Requirement already satisfied: numpy>=1.15.4 in /usr/local/lib/python3.7/dist-packages (from pandas>=0.24.0->geopandas) (1.19.5)\n",
            "Requirement already satisfied: python-dateutil>=2.7.3 in /usr/local/lib/python3.7/dist-packages (from pandas>=0.24.0->geopandas) (2.8.1)\n",
            "Requirement already satisfied: pytz>=2017.2 in /usr/local/lib/python3.7/dist-packages (from pandas>=0.24.0->geopandas) (2018.9)\n",
            "Requirement already satisfied: certifi in /usr/local/lib/python3.7/dist-packages (from pyproj>=2.2.0->geopandas) (2020.12.5)\n",
            "Collecting click-plugins>=1.0\n",
            "  Downloading https://files.pythonhosted.org/packages/e9/da/824b92d9942f4e472702488857914bdd50f73021efea15b4cad9aca8ecef/click_plugins-1.1.1-py2.py3-none-any.whl\n",
            "Requirement already satisfied: attrs>=17 in /usr/local/lib/python3.7/dist-packages (from fiona>=1.8->geopandas) (20.3.0)\n",
            "Requirement already satisfied: six>=1.7 in /usr/local/lib/python3.7/dist-packages (from fiona>=1.8->geopandas) (1.15.0)\n",
            "Collecting munch\n",
            "  Downloading https://files.pythonhosted.org/packages/cc/ab/85d8da5c9a45e072301beb37ad7f833cd344e04c817d97e0cc75681d248f/munch-2.5.0-py2.py3-none-any.whl\n",
            "Collecting cligj>=0.5\n",
            "  Downloading https://files.pythonhosted.org/packages/42/1e/947eadf10d6804bf276eb8a038bd5307996dceaaa41cfd21b7a15ec62f5d/cligj-0.7.1-py3-none-any.whl\n",
            "Requirement already satisfied: click<8,>=4.0 in /usr/local/lib/python3.7/dist-packages (from fiona>=1.8->geopandas) (7.1.2)\n",
            "Installing collected packages: pyproj, click-plugins, munch, cligj, fiona, geopandas\n",
            "Successfully installed click-plugins-1.1.1 cligj-0.7.1 fiona-1.8.18 geopandas-0.9.0 munch-2.5.0 pyproj-3.0.1\n"
          ],
          "name": "stdout"
        }
      ]
    },
    {
      "cell_type": "markdown",
      "metadata": {
        "id": "FmS4QcZYNPfx"
      },
      "source": [
        "### Importar as bibliotecas"
      ]
    },
    {
      "cell_type": "code",
      "metadata": {
        "id": "Q3xWCWlyNSam"
      },
      "source": [
        "from shapely.geometry import Point\n",
        "import geopandas as gpd\n",
        "from geopandas import GeoDataFrame"
      ],
      "execution_count": 56,
      "outputs": []
    },
    {
      "cell_type": "markdown",
      "metadata": {
        "id": "daNVJpEJMxat"
      },
      "source": [
        "### Carregar o arquivo com os dados"
      ]
    },
    {
      "cell_type": "code",
      "metadata": {
        "id": "Vhydj7j7M038"
      },
      "source": [
        "dados = pd.read_csv(\"http://tiagodemelo.info/datasets/dados-curso.csv\")"
      ],
      "execution_count": null,
      "outputs": []
    },
    {
      "cell_type": "code",
      "metadata": {
        "id": "0TZO6kZOM7HB"
      },
      "source": [
        "dados.head()"
      ],
      "execution_count": null,
      "outputs": []
    },
    {
      "cell_type": "markdown",
      "metadata": {
        "id": "pP7RtLcwNCGr"
      },
      "source": [
        "### Plotar a posição dos usuários no mapa"
      ]
    },
    {
      "cell_type": "code",
      "metadata": {
        "id": "URZXqSpRNFwd"
      },
      "source": [
        "geometry = [Point(xy) for xy in zip(dados['latitude'], dados['longitude'])]\n",
        "gdf = GeoDataFrame(dados, geometry=geometry)   \n",
        "\n",
        "world = gpd.read_file(gpd.datasets.get_path('naturalearth_lowres'))\n",
        "gdf.plot(ax=world.plot(figsize=(10, 6)), marker='o', color='red', markersize=20);"
      ],
      "execution_count": null,
      "outputs": []
    }
  ]
}